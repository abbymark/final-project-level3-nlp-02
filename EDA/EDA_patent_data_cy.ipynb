{
 "cells": [
  {
   "cell_type": "markdown",
   "metadata": {},
   "source": [
    "# 파일 불러오기"
   ]
  },
  {
   "cell_type": "code",
   "execution_count": 44,
   "metadata": {},
   "outputs": [],
   "source": [
    "from zipfile import ZipFile"
   ]
  },
  {
   "cell_type": "code",
   "execution_count": 45,
   "metadata": {},
   "outputs": [],
   "source": [
    "zipfile = ZipFile(\"patent_summarization_.zip\")\n",
    "zipfile.extractall(\"./patent_summarization_\")"
   ]
  },
  {
   "cell_type": "code",
   "execution_count": 46,
   "metadata": {},
   "outputs": [],
   "source": [
    "import glob\n",
    "import pandas as pd\n",
    "import json\n",
    "from tqdm import tqdm"
   ]
  },
  {
   "cell_type": "markdown",
   "metadata": {},
   "source": [
    "## 논문-특허 자료 데이터 생성"
   ]
  },
  {
   "cell_type": "code",
   "execution_count": 47,
   "metadata": {},
   "outputs": [],
   "source": [
    "# 논문 & 특허\n",
    "def extract_needed_data(file, doc_type=None):\n",
    "    with open(file,\"r\",encoding='utf-8') as f:\n",
    "        data = json.load(f)\n",
    "    file_list = [file.split(\"\\\\\")[-1]]*data['totalcount']\n",
    "    doc_id_list = []\n",
    "    doc_type_list = []\n",
    "    title_list = []\n",
    "    section_list = []\n",
    "    entire_list = []\n",
    "    for i in range(data['totalcount']):\n",
    "        try:\n",
    "            tmp_doc_type = data['data'][i]['doc_type']\n",
    "        except:\n",
    "            tmp_doc_type = doc_type\n",
    "        doc_type_list.append(tmp_doc_type)\n",
    "        doc_id_list.append(data['data'][i]['reg_no'])\n",
    "        title_list.append(data['data'][i]['title'])\n",
    "        section_list.append(data['data'][i]['summary_section'][0]['orginal_text'])\n",
    "        try:\n",
    "            entire_text = data['data'][i]['summary_entire'][0]['orginal_text']\n",
    "        except:\n",
    "            entire_text = ''\n",
    "        entire_list.append(entire_text)\n",
    "    return pd.DataFrame({'file' : file_list, 'doc_id' : doc_id_list,'doc_type' : doc_type_list, 'title' : title_list, \"section_text\" : section_list, \"entire_text\" : entire_list, })"
   ]
  },
  {
   "cell_type": "code",
   "execution_count": 48,
   "metadata": {},
   "outputs": [
    {
     "name": "stderr",
     "output_type": "stream",
     "text": [
      "100%|██████████| 56/56 [00:55<00:00,  1.00it/s]\n",
      "100%|██████████| 9/9 [00:07<00:00,  1.28it/s]"
     ]
    },
    {
     "name": "stdout",
     "output_type": "stream",
     "text": [
      "논문자료 요약, 특허섹션 데이터 개수: 151000\n",
      "논문자료 요약, 특허전체 데이터 개수: 156300\n"
     ]
    },
    {
     "name": "stderr",
     "output_type": "stream",
     "text": [
      "\n"
     ]
    }
   ],
   "source": [
    "# paper_pd = pd.DataFrame()\n",
    "patent_pd = pd.DataFrame()\n",
    "patent_all_pd = pd.DataFrame()\n",
    "for data in [\"Training\",\"Validation\"]:\n",
    "    for file in tqdm(glob.glob(f\"./patent_summarization_/{data}/*[!zip]/*\")):\n",
    "        if \"논문\" in file: # │φ╣« : 논문 \n",
    "            # paper_pd = pd.concat([paper_pd, extract_needed_data(file,\"논문\")])\n",
    "            pass\n",
    "        elif \"╞»╟π╝╜╝╟╕╕\" in file: # ╞»╟π╝╜╝╟╕╕ :특허섹션만\n",
    "            patent_pd = pd.concat([patent_pd, extract_needed_data(file,\"특허\")])\n",
    "            tmps = file\n",
    "        elif \"╞»╟π└ⁿ├╝\" in file: #╞»╟π└ⁿ├╝ : 특허전체\n",
    "            patent_all_pd = pd.concat([patent_all_pd, extract_needed_data(file,\"특허\")])\n",
    "            tmpss = file\n",
    "\n",
    "# print(\"논문자료 요약, 논문 데이터 개수:\",len(paper_pd))\n",
    "print(\"논문자료 요약, 특허섹션 데이터 개수:\",len(patent_pd))\n",
    "print(\"논문자료 요약, 특허전체 데이터 개수:\",len(patent_all_pd))"
   ]
  },
  {
   "cell_type": "code",
   "execution_count": 49,
   "metadata": {},
   "outputs": [],
   "source": [
    "patent_pd = patent_pd.reset_index(drop=True)\n",
    "patent_all_pd = patent_all_pd.reset_index(drop=True)"
   ]
  },
  {
   "cell_type": "markdown",
   "metadata": {},
   "source": [
    "## title 및 text 기준 중복 데이터 개수 확인"
   ]
  },
  {
   "cell_type": "code",
   "execution_count": 50,
   "metadata": {},
   "outputs": [
    {
     "name": "stdout",
     "output_type": "stream",
     "text": [
      "특허 일부 데이터 151000개 중 특허 전체 title과 일치하는 개수 및 비율: 138383 [91.64%]\n",
      "특허 일부 데이터 151000개 unique 개수: 133940[88.7%]\n",
      "특허 전체 데이터 156300개 중 특허 전체 title과 일치하는 개수 및 비율: 138040 [88.32%]\n",
      "특허 일부 데이터 156300개 unique 개수: 139567[89.29%]\n",
      "특허 일부 + 전체 데이터 unique title 개수: 151785\n"
     ]
    }
   ],
   "source": [
    "patent_title_list = patent_pd.title.to_list()\n",
    "patent_all_title_list = patent_all_pd.title.to_list()\n",
    "\n",
    "print(f\"특허 일부 데이터 151000개 중 특허 전체 title과 일치하는 개수 및 비율: {patent_pd.title.isin(patent_all_title_list).sum()} [{round(patent_pd.title.isin(patent_all_title_list).sum()/len(patent_pd)*100,2)}%]\")\n",
    "print(f\"특허 일부 데이터 151000개 unique 개수: {len(set(patent_title_list))}[{round(len(set(patent_title_list))/len(patent_pd)*100,2)}%]\")\n",
    "\n",
    "print(f\"특허 전체 데이터 156300개 중 특허 전체 title과 일치하는 개수 및 비율: {patent_all_pd.title.isin(patent_title_list).sum()} [{round(patent_all_pd.title.isin(patent_title_list).sum()/len(patent_all_pd)*100,2)}%]\")\n",
    "print(f\"특허 일부 데이터 156300개 unique 개수: {len(set(patent_all_title_list))}[{round(len(set(patent_all_title_list))/len(patent_all_pd)*100,2)}%]\")\n",
    "\n",
    "print(f\"특허 일부 + 전체 데이터 unique title 개수: {len(set(patent_title_list + patent_all_title_list))}\")\n",
    "\n"
   ]
  },
  {
   "cell_type": "code",
   "execution_count": 51,
   "metadata": {},
   "outputs": [
    {
     "name": "stdout",
     "output_type": "stream",
     "text": [
      "특허 일부 데이터 151000개 중 특허 전체 section_text과 일치하는 개수 및 비율: 137598 [91.12%]\n",
      "특허 일부 데이터 151000개 unique 개수: 143459[95.01%]\n",
      "특허 전체 데이터 156300개 중 특허 전체 section_text과 일치하는 개수 및 비율: 136767 [87.5%]\n",
      "특허 일부 데이터 156300개 unique 개수: 149597[95.71%]\n",
      "특허 일부 + 전체 데이터 unique section_text 개수: 162508\n"
     ]
    }
   ],
   "source": [
    "patent_section_text_list = patent_pd.section_text.to_list()\n",
    "patent_all_section_text_list = patent_all_pd.section_text.to_list()\n",
    "\n",
    "print(f\"특허 일부 데이터 151000개 중 특허 전체 section_text과 일치하는 개수 및 비율: {patent_pd.section_text.isin(patent_all_section_text_list).sum()} [{round(patent_pd.section_text.isin(patent_all_section_text_list).sum()/len(patent_pd)*100,2)}%]\")\n",
    "print(f\"특허 일부 데이터 151000개 unique 개수: {len(set(patent_section_text_list))}[{round(len(set(patent_section_text_list))/len(patent_pd)*100,2)}%]\")\n",
    "print(f\"특허 전체 데이터 156300개 중 특허 전체 section_text과 일치하는 개수 및 비율: {patent_all_pd.section_text.isin(patent_section_text_list).sum()} [{round(patent_all_pd.section_text.isin(patent_section_text_list).sum()/len(patent_all_pd)*100,2)}%]\")\n",
    "print(f\"특허 일부 데이터 156300개 unique 개수: {len(set(patent_all_section_text_list))}[{round(len(set(patent_all_section_text_list))/len(patent_all_pd)*100,2)}%]\")\n",
    "print(f\"특허 일부 + 전체 데이터 unique section_text 개수: {len(set(patent_section_text_list + patent_all_section_text_list))}\")\n",
    "\n"
   ]
  },
  {
   "cell_type": "markdown",
   "metadata": {},
   "source": [
    "여기서 선택해야 할 방향은 다양한데 다음과 같이 몇 가지를 제시함\n",
    "1. 특허 전체 데이터만 사용\n",
    "2. 특허 일부 데이터만 사용\n",
    "3. title과 section text가 겹치는 데이터는 소거한 상태에서 사용 => 전제조건 : 유사한 title 혹은 section text는 전처리를 통해 걸러야 함"
   ]
  },
  {
   "cell_type": "markdown",
   "metadata": {},
   "source": [
    "우선, patent section text가 title을 생성하기 위한 적절한 데이터인지 확인"
   ]
  },
  {
   "cell_type": "code",
   "execution_count": 52,
   "metadata": {},
   "outputs": [
    {
     "name": "stdout",
     "output_type": "stream",
     "text": [
      "[0] 아우로라 키나아제의 억제에 의해 유사분열 진행을 억제하기 위한 화합물 및 그 화합물을 포함하는 약학적 조성물\n",
      "미국 암 학회(American Cancer Society)에 따르면, 2004년에는 대략 천사백만 명의 미국인들이 암으로 새로 진단받았으며, 대략 56만 명이 암으로 사망한 것으로 추산되었다.  의약의 진보가 암 생존율을 개선시키고는 있지만, 신규하고 더욱 효과적인 치료법이 계속적으로 요구되고 있는 실정이다.암은 조절되지 않은 세포 증식에 의해 특징된다.  유사분열은, 일련의 복합 사건에 의해 크로모좀이 2개의 완전히 똑같은 딸세포로 분리되게 하는 세포 주기에서의 단계이다.  탁산 및 빈카 알칼로이드를 포함하는 현재의 다수 암 치료법은, 유사분열 조직을 억제시키도록 작용한다.  유사분열 진행은 주로, 유사분열 키나아제에 의해 매개되는 인산화 및 단백질 분해에 의해 조절된다.  아우로라 키나아제 부류의 구성원들(예를 들어, 아우로라 A, 아우로라 B, 아우로라 C)은, 센트로좀 분리, 스핀들 동역학, 스핀들 어셈블리 체크포인트, 크로모좀 정렬, 및 세포질분열을 조절함으로써 유사분열 진행을 조절한다 [참조: Dutertre et al., Oncogene, 21: 6175 (2002); Berdnik et al., Curr. Biol., 12: 640 (2002)].  아우로라 키나아제의 과발현 및/또는 증폭은 결장 및 유방 종양을 포함하는 다수의 종양 유형에서 종양형성과 관련되어 있었다 [참조: Warner et al., Mol. Cancer Ther., 2: 589 (2003); Bischoff et al., EMBO, 17: 3062 (1998); Sen et al., Cancer Res., 94: 1320 (2002)].  또한, 종양 세포에서 아우라 키나아제를 억제하면 유사분열 정지 및 세포자멸사가 야기되는 데, 이는 이들 키나아제가 암 치료를 위한 중요한 표적임을 제안한다 [참조: Ditchfield, J. Cell Biol., 161: 267 (2003); Harrington et al., Nature Med., 1 (2004)].  사실상 모든 악성종양의 진행에서 유사분열이 중요한 역할을 담당하고 있기 때문에, 아우로라 키나아제의 억제제는 광범위한 사람 종양에 걸쳐 적용될 것으로 예측된다.  따라서, 신규한 아우로라 키나아제 억제제가 요구되고 있다.\n",
      "\n",
      "[1] 반응성 단량체, 이의 제조방법 및 이로부터 얻어진포지티브형 감광성 폴리이미드 전구체\n",
      "종래의 포지티브형 감광성 폴리이미드 수지 전구체의 제조방법으로는 폴리아믹산 에스테르에 나프토퀴논디아지드술포닐 화합물을 혼합하는 방법, 수산기를 포함하는 가용성 폴리이미드를 이용하여 가용성 폴리이미드의 수산기중 일부를 나프토퀴논디아지드술포닐기로 치환하는 방법 등이 알려져 있었다. 그러나, 폴리아믹산 에스테르에 나프토퀴논디아지드술포닐 화합물을 혼합하는 방법은 현상시 잔막성이 충분하지가 않고, 수산기를 포함하는 가용성 폴리이미드를 이용하는 방법은 폴리이미드 수지를 가용성으로 하기 위해 구조가 한정되어 진다는 것과 열처리 후에 얻어지는 수지의 내용제성이 떨어진다는 단점이 있었다.\n",
      "\n",
      "[2] 서열번호 1의 살조활성 단백질분해효소, 이를 코딩하는 유전자 및 이를 포함하는 살조제제\n",
      "해양에서 적조를 유발하는 원인 종은 돌말류 (Bacillariophyceae), 침편모조류 (Raphidophyceae) 및 와편모조류 (Dinophyceae) 등의 편모조류로 구성되어 있으며, 특히 편모조류가 대부분을 차지하고 있다. 돌말류는 한천이 포함된 배지에서 생장이 가능한 반면 편모조류는 생장이 불가능하므로 소프트-아가 오버레이 (soft-agar overlay) 방법을 이용한 살조세균의 연구는 제한을 받아왔다. 해양 및 연안 환경에서 분리된 살조세균은 알테로모나스 (Alteromonas), 바실러스 (Bacillus), 카울로박터 (Caulobacter), 사이토파가 (Cytophaga), 플라보박테리움 (Flavobacterium), 슈도알테로모나스 (Pseudoalteromonas), 슈도모나스 (Pseudomonas), 사포로스피라 (Saporospira), 비브리오 (Vibrio) 속이 주종을 이루고 있다. 해양으로부터 분리된 살조세균은 분류학상 플라보박테리움-사이토파가 복합체 (complex)와 프로테오박테리아류 (Proteobacteria branch), 예를 들어 알테로모나스, 슈도모나스, 슈도알테로모나스, 사포로스피라 및 비브리오로 구분할 수 있다. 일반적으로, 여러 가지 생체 거대분자들 (biomacromolecules)의 분해능력을 가지고 있는 플라보박테리움-사이토파가 복합체의 종들은 조류의 세포벽과 이들로부터 방출되는 배설물 (exudates)을 영양원으로 이용할 수 있기 때문에 식물 플랑크톤과 밀접한 관계를 가지고 있는 것으로 사료된다.현재까지 연구된 결과에 따르면 살조세균의 살조기작은 크게 두 가지로 구분하여 정의할 수 있다. 첫 번째 기작으로는, 살조세균이 적조생물의 표면에 부착하여 적조생물을 용조하는 접촉에 의한 기작으로, 사이토파가 종과 알테로모나스 종이 그 대표적인 예로 알려져 있다. 두 번째 기작으로는, 살조세균들이 살조물질을 세포 외로 분비하여 적조생물의 성장을 억제 또는 용조하는 기작으로, 대부분의 살조세균들이 이에 포함된다. 해양으로부터 분리된 대부분의 살조세균은 세포외 물질을 생성하는 기작을 가지고 있으나 이러한 물질의 분리, 동정 및 기작에 대한 보고는 거의 없다. 본 발명자들은 적조생물인 스켈레토네마 코스타튬 (Skeletonema costatum)을 죽이는 살조세균인 코르디아 알지시다 (Kordia algicida) OT-1 균주를 분리하였으며, 이를 2008년 4월 24일자로 한국생명공학연구원내 생물자원센터 (KCTC, Korean Collection for Type Cultures)에 기탁한 바 있다 (기탁번호 KCTC 11320BP; 기탁일 2008.4.8). 또한, NCBI (national center for biotechnology information)에 등록된 균주들과 16S rRNA의 유사성을 조사하고, 16S rRNA의 염기서열을 분석한 결과, 상기 균주는 플라보박테리아 (Flavobacteria)에 속하는 신규한 균주임이 확인되었다 (Sohn 등, Int. J. Syst. Evol. Microbiol., 54:675-680, 2004). \n",
      "\n"
     ]
    }
   ],
   "source": [
    "for i in range(len(patent_pd)):\n",
    "    patent_row = patent_pd.iloc[i]\n",
    "    print(f\"[{i}] {patent_row.title}\")\n",
    "    print(patent_row.section_text)\n",
    "    print()\n",
    "\n",
    "    if i == 2:\n",
    "        break"
   ]
  },
  {
   "cell_type": "markdown",
   "metadata": {},
   "source": [
    "다운받은 데이터는 요약 데이터로, 타이틀과 관련이 없는 섹션 문단을 포함하는 경우가 다수 있다.   \n",
    "따라서 섹션 문단을 바탕으로 타이틀을 생성하기 어려울 것으로 판단되므로, 특허 섹션 데이터는 제외한다."
   ]
  },
  {
   "cell_type": "markdown",
   "metadata": {},
   "source": [
    "# 중복 데이터 개수 확인 및 제거"
   ]
  },
  {
   "cell_type": "code",
   "execution_count": 53,
   "metadata": {},
   "outputs": [
    {
     "name": "stdout",
     "output_type": "stream",
     "text": [
      "[('반도체 장치', 176), ('액정표시장치', 172), ('이동 단말기', 144), ('냉장고', 115), ('표시 장치', 113), ('이동 단말기 및 그 제어방법', 111), ('기판 처리 장치', 101), ('조명 장치', 99), ('디스플레이 장치', 81), ('발광소자', 77)]\n"
     ]
    }
   ],
   "source": [
    "patent_all_pd_title_duplicated_num = [(t,n) for t,n in zip(patent_all_pd.title.value_counts().index, patent_all_pd.title.value_counts().values) if n > 1]\n",
    "print(patent_all_pd_title_duplicated_num[:10])"
   ]
  },
  {
   "cell_type": "code",
   "execution_count": 54,
   "metadata": {},
   "outputs": [
    {
     "name": "stdout",
     "output_type": "stream",
     "text": [
      "중복 횟수: [2 2 2 1 1 1 1 1 1 1 1 1 1 1 1 1 1 1 1 1 1 1 1 1 1 1 1 1 1 1 1 1 1 1 1 1 1\n",
      " 1 1 1 1 1 1 1 1 1 1 1 1 1 1 1 1 1 1 1 1 1 1 1 1 1 1 1 1 1 1 1 1 1 1 1 1 1\n",
      " 1 1 1 1 1 1 1 1 1 1 1 1 1 1 1 1 1 1 1 1 1 1 1 1 1 1 1 1 1 1 1 1 1 1 1 1 1\n",
      " 1 1 1 1 1 1 1 1 1 1 1 1 1 1 1 1 1 1 1 1 1 1 1 1 1 1 1 1 1 1 1 1 1 1 1 1 1\n",
      " 1 1 1 1 1 1 1 1 1 1 1 1 1 1 1 1 1 1 1 1 1 1 1 1 1]\n"
     ]
    },
    {
     "data": {
      "text/html": [
       "<div>\n",
       "<style scoped>\n",
       "    .dataframe tbody tr th:only-of-type {\n",
       "        vertical-align: middle;\n",
       "    }\n",
       "\n",
       "    .dataframe tbody tr th {\n",
       "        vertical-align: top;\n",
       "    }\n",
       "\n",
       "    .dataframe thead th {\n",
       "        text-align: right;\n",
       "    }\n",
       "</style>\n",
       "<table border=\"1\" class=\"dataframe\">\n",
       "  <thead>\n",
       "    <tr style=\"text-align: right;\">\n",
       "      <th></th>\n",
       "      <th>file</th>\n",
       "      <th>doc_id</th>\n",
       "      <th>doc_type</th>\n",
       "      <th>title</th>\n",
       "      <th>section_text</th>\n",
       "      <th>entire_text</th>\n",
       "    </tr>\n",
       "  </thead>\n",
       "  <tbody>\n",
       "    <tr>\n",
       "      <th>141160</th>\n",
       "      <td>./patent_summarization_/Validation/validation_...</td>\n",
       "      <td>1020170119580</td>\n",
       "      <td>특허</td>\n",
       "      <td>반도체 장치</td>\n",
       "      <td>현재, 액정 표시 장치로 대표되는 표시 장치의 스위칭 소자로서, 아모퍼스 실리콘 등...</td>\n",
       "      <td>\\n[ 발명의 명칭 ]\\n반도체 장치SEMICONDUCTOR DEVICE\\n[ 기술...</td>\n",
       "    </tr>\n",
       "    <tr>\n",
       "      <th>147767</th>\n",
       "      <td>./patent_summarization_/Validation/validation_...</td>\n",
       "      <td>1020170036805</td>\n",
       "      <td>특허</td>\n",
       "      <td>반도체 장치</td>\n",
       "      <td>현재, 액정 표시 장치로 대표되는 표시 장치의 스위칭 소자로서, 아모퍼스 실리콘 등...</td>\n",
       "      <td>\\n[ 발명의 명칭 ]\\n반도체 장치SEMICONDUCTOR DEVICE\\n[ 기술...</td>\n",
       "    </tr>\n",
       "  </tbody>\n",
       "</table>\n",
       "</div>"
      ],
      "text/plain": [
       "                                                     file         doc_id  \\\n",
       "141160  ./patent_summarization_/Validation/validation_...  1020170119580   \n",
       "147767  ./patent_summarization_/Validation/validation_...  1020170036805   \n",
       "\n",
       "       doc_type   title                                       section_text  \\\n",
       "141160       특허  반도체 장치  현재, 액정 표시 장치로 대표되는 표시 장치의 스위칭 소자로서, 아모퍼스 실리콘 등...   \n",
       "147767       특허  반도체 장치  현재, 액정 표시 장치로 대표되는 표시 장치의 스위칭 소자로서, 아모퍼스 실리콘 등...   \n",
       "\n",
       "                                              entire_text  \n",
       "141160  \\n[ 발명의 명칭 ]\\n반도체 장치SEMICONDUCTOR DEVICE\\n[ 기술...  \n",
       "147767  \\n[ 발명의 명칭 ]\\n반도체 장치SEMICONDUCTOR DEVICE\\n[ 기술...  "
      ]
     },
     "execution_count": 54,
     "metadata": {},
     "output_type": "execute_result"
    }
   ],
   "source": [
    "print(\"중복 횟수:\",patent_all_pd[patent_all_pd.title==\"반도체 장치\"].entire_text.value_counts().values)\n",
    "entire_text = patent_all_pd[patent_all_pd.title==\"반도체 장치\"].entire_text.value_counts().index[0]\n",
    "patent_all_pd[patent_all_pd.entire_text==entire_text]"
   ]
  },
  {
   "cell_type": "markdown",
   "metadata": {},
   "source": [
    "중복 title 기준으로 text를 확인 시 중복 개수는 적은 것으로 판단됨. 따라서 title-entire_text 모두 중복일 경우만 제거하여 진행"
   ]
  },
  {
   "cell_type": "code",
   "execution_count": 55,
   "metadata": {},
   "outputs": [
    {
     "name": "stdout",
     "output_type": "stream",
     "text": [
      "전체 특허 데이터 개수: 156300\n",
      "전체 특허 데이터 중 중복 제거 후 개수: 155798 [99.68%]\n",
      "중복 개수: 502\n"
     ]
    }
   ],
   "source": [
    "patent_all_pd_dup = patent_all_pd.drop_duplicates(subset=['title','entire_text']).reset_index(drop=True)\n",
    "print(\"전체 특허 데이터 개수:\",len(patent_all_pd))\n",
    "print(\"전체 특허 데이터 중 중복 제거 후 개수:\",f\"{len(patent_all_pd_dup)} [{round(len(patent_all_pd_dup)/len(patent_all_pd)*100,2)}%]\")\n",
    "print(\"중복 개수:\",len(patent_all_pd)-len(patent_all_pd_dup))"
   ]
  },
  {
   "cell_type": "markdown",
   "metadata": {},
   "source": [
    "# NULL 제거"
   ]
  },
  {
   "cell_type": "code",
   "execution_count": 56,
   "metadata": {},
   "outputs": [
    {
     "data": {
      "text/plain": [
       "140530         0\n",
       "94058       1123\n",
       "148109      1129\n",
       "89899       1508\n",
       "19443       1811\n",
       "           ...  \n",
       "1402      636457\n",
       "136903    643006\n",
       "110418    787810\n",
       "99573     832577\n",
       "26794     921815\n",
       "Name: entire_text, Length: 155798, dtype: int64"
      ]
     },
     "execution_count": 56,
     "metadata": {},
     "output_type": "execute_result"
    }
   ],
   "source": [
    "patent_all_pd_dup.entire_text.map(lambda x : len(x)).sort_values()"
   ]
  },
  {
   "cell_type": "code",
   "execution_count": 57,
   "metadata": {},
   "outputs": [
    {
     "data": {
      "text/html": [
       "<div>\n",
       "<style scoped>\n",
       "    .dataframe tbody tr th:only-of-type {\n",
       "        vertical-align: middle;\n",
       "    }\n",
       "\n",
       "    .dataframe tbody tr th {\n",
       "        vertical-align: top;\n",
       "    }\n",
       "\n",
       "    .dataframe thead th {\n",
       "        text-align: right;\n",
       "    }\n",
       "</style>\n",
       "<table border=\"1\" class=\"dataframe\">\n",
       "  <thead>\n",
       "    <tr style=\"text-align: right;\">\n",
       "      <th></th>\n",
       "      <th>file</th>\n",
       "      <th>doc_id</th>\n",
       "      <th>doc_type</th>\n",
       "      <th>title</th>\n",
       "      <th>section_text</th>\n",
       "      <th>entire_text</th>\n",
       "    </tr>\n",
       "  </thead>\n",
       "  <tbody>\n",
       "    <tr>\n",
       "      <th>140530</th>\n",
       "      <td>./patent_summarization_/Validation/validation_...</td>\n",
       "      <td>1020170117539</td>\n",
       "      <td>특허</td>\n",
       "      <td>벨트와 커버를 내장하는 여행용 캐리어</td>\n",
       "      <td></td>\n",
       "      <td></td>\n",
       "    </tr>\n",
       "  </tbody>\n",
       "</table>\n",
       "</div>"
      ],
      "text/plain": [
       "                                                     file         doc_id  \\\n",
       "140530  ./patent_summarization_/Validation/validation_...  1020170117539   \n",
       "\n",
       "       doc_type                 title section_text entire_text  \n",
       "140530       특허  벨트와 커버를 내장하는 여행용 캐리어                           "
      ]
     },
     "execution_count": 57,
     "metadata": {},
     "output_type": "execute_result"
    }
   ],
   "source": [
    "idx = patent_all_pd_dup[patent_all_pd_dup.entire_text.map(len)==0].index.values[0]\n",
    "patent_all_pd_dup.loc[idx:idx]"
   ]
  },
  {
   "cell_type": "markdown",
   "metadata": {},
   "source": [
    "해당 데이터는 entire_text가 없으므로 제거"
   ]
  },
  {
   "cell_type": "code",
   "execution_count": 58,
   "metadata": {},
   "outputs": [
    {
     "name": "stdout",
     "output_type": "stream",
     "text": [
      "155798\n"
     ]
    },
    {
     "data": {
      "text/plain": [
       "155797"
      ]
     },
     "execution_count": 58,
     "metadata": {},
     "output_type": "execute_result"
    }
   ],
   "source": [
    "print(len(patent_all_pd_dup))\n",
    "patent_all_pd_dup = patent_all_pd_dup.drop([idx]).reset_index(drop=True)\n",
    "len(patent_all_pd_dup)"
   ]
  },
  {
   "cell_type": "markdown",
   "metadata": {},
   "source": [
    "# test data 나누기"
   ]
  },
  {
   "cell_type": "code",
   "execution_count": 59,
   "metadata": {},
   "outputs": [
    {
     "name": "stdout",
     "output_type": "stream",
     "text": [
      "train idx 개수:  124637[80.0%]\n",
      "test idx 개수:  31160[20.0%]\n"
     ]
    }
   ],
   "source": [
    "import random\n",
    "\n",
    "#시드 고정\n",
    "random.seed(1227)\n",
    "\n",
    "idx_list = set(patent_all_pd_dup.index.values)\n",
    "val_ratio = 0.8\n",
    "val_size = int(len(idx_list) * val_ratio)\n",
    "\n",
    "train_idx = set(random.sample(idx_list,val_size))\n",
    "test_idx = idx_list-train_idx\n",
    "\n",
    "print(\"train idx 개수: \",f\"{len(train_idx)}[{round(len(train_idx)/len(idx_list)*100,2)}%]\")\n",
    "print(\"test idx 개수: \",f\"{len(test_idx)}[{round(len(test_idx)/len(idx_list)*100,2)}%]\")\n",
    "\n",
    "test_idx_to_str = \" \".join(map(str, test_idx))\n",
    "with open(\"test_idx.txt\",\"w\",encoding='utf-8') as f:\n",
    "    f.write(test_idx_to_str)"
   ]
  },
  {
   "cell_type": "code",
   "execution_count": 60,
   "metadata": {},
   "outputs": [
    {
     "data": {
      "text/plain": [
       "(124637, 31160)"
      ]
     },
     "execution_count": 60,
     "metadata": {},
     "output_type": "execute_result"
    }
   ],
   "source": [
    "train_data = patent_all_pd_dup.loc[train_idx].reset_index(drop=True)\n",
    "test_data = patent_all_pd_dup.loc[test_idx].reset_index(drop=True)\n",
    "len(train_data),len(test_data)"
   ]
  },
  {
   "cell_type": "markdown",
   "metadata": {},
   "source": [
    "# 길이 확인"
   ]
  },
  {
   "cell_type": "markdown",
   "metadata": {},
   "source": [
    "## title"
   ]
  },
  {
   "cell_type": "code",
   "execution_count": 61,
   "metadata": {},
   "outputs": [
    {
     "name": "stdout",
     "output_type": "stream",
     "text": [
      "title 평균 길이: 24.075074014939386\n",
      "title 중앙값 길이: 21.0\n",
      "title 최소 길이: 1\n",
      "title 최대 길이: 201\n"
     ]
    },
    {
     "data": {
      "image/png": "[encoded data removed]",
      "text/plain": [
       "<Figure size 432x288 with 1 Axes>"
      ]
     },
     "metadata": {
      "needs_background": "light"
     },
     "output_type": "display_data"
    }
   ],
   "source": [
    "print(\"title 평균 길이:\",train_data.title.map(len).mean())\n",
    "print(\"title 중앙값 길이:\",train_data.title.map(len).median())\n",
    "print(\"title 최소 길이:\",train_data.title.map(len).min())\n",
    "print(\"title 최대 길이:\",train_data.title.map(len).max())\n",
    "\n",
    "import matplotlib.pyplot as plt\n",
    "plt.hist(train_data.title.map(len),bins=50)\n",
    "plt.show()"
   ]
  },
  {
   "cell_type": "code",
   "execution_count": 62,
   "metadata": {},
   "outputs": [
    {
     "data": {
      "text/html": [
       "<div>\n",
       "<style scoped>\n",
       "    .dataframe tbody tr th:only-of-type {\n",
       "        vertical-align: middle;\n",
       "    }\n",
       "\n",
       "    .dataframe tbody tr th {\n",
       "        vertical-align: top;\n",
       "    }\n",
       "\n",
       "    .dataframe thead th {\n",
       "        text-align: right;\n",
       "    }\n",
       "</style>\n",
       "<table border=\"1\" class=\"dataframe\">\n",
       "  <thead>\n",
       "    <tr style=\"text-align: right;\">\n",
       "      <th></th>\n",
       "      <th>file</th>\n",
       "      <th>doc_id</th>\n",
       "      <th>doc_type</th>\n",
       "      <th>title</th>\n",
       "      <th>section_text</th>\n",
       "      <th>entire_text</th>\n",
       "    </tr>\n",
       "  </thead>\n",
       "  <tbody>\n",
       "    <tr>\n",
       "      <th>11364</th>\n",
       "      <td>./patent_summarization_/Training/training_╞»╟π...</td>\n",
       "      <td>1020140080642</td>\n",
       "      <td>특허</td>\n",
       "      <td>롤</td>\n",
       "      <td>이차 전지는 일차 전지와는 달리 재충전이 가능하고, 또 소형 및 대용량화 가능성으로...</td>\n",
       "      <td>\\n[ 발명의 명칭 ]\\n롤roll\\n[ 기술분야 ]\\n본 발명은 롤에 관한 것으로...</td>\n",
       "    </tr>\n",
       "    <tr>\n",
       "      <th>27391</th>\n",
       "      <td>./patent_summarization_/Training/training_╞»╟π...</td>\n",
       "      <td>1020137027405</td>\n",
       "      <td>특허</td>\n",
       "      <td>병</td>\n",
       "      <td>합성수지 재료로 바닥이 있는 원통형으로 형성된 병으로서, 예를 들면 특허문헌 1에 ...</td>\n",
       "      <td>\\n[ 발명의 명칭 ]\\n병BOTTLE\\n[ 기술분야 ]\\n본 발명은 병(bottl...</td>\n",
       "    </tr>\n",
       "    <tr>\n",
       "      <th>27399</th>\n",
       "      <td>./patent_summarization_/Training/training_╞»╟π...</td>\n",
       "      <td>1020137027436</td>\n",
       "      <td>특허</td>\n",
       "      <td>병</td>\n",
       "      <td>합성수지 재료로 바닥이 있는 원통형으로 형성된 병으로, 병 내부의 감압을 흡수하는 ...</td>\n",
       "      <td>\\n[ 발명의 명칭 ]\\n병BOTTLE\\n[ 기술분야 ]\\n본 발명은 병(bottl...</td>\n",
       "    </tr>\n",
       "    <tr>\n",
       "      <th>48061</th>\n",
       "      <td>./patent_summarization_/Training/training_╞»╟π...</td>\n",
       "      <td>1020137011053</td>\n",
       "      <td>특허</td>\n",
       "      <td>병</td>\n",
       "      <td>합성수지 재료로 바닥이 있는 원통형으로 형성된 병으로서, 예를 들면 특허문헌 1 및...</td>\n",
       "      <td>\\n[ 발명의 명칭 ]\\n병BOTTLE\\n[ 기술분야 ]\\n본 발명은 병(bottl...</td>\n",
       "    </tr>\n",
       "    <tr>\n",
       "      <th>48500</th>\n",
       "      <td>./patent_summarization_/Training/training_╞»╟π...</td>\n",
       "      <td>1020137013782</td>\n",
       "      <td>특허</td>\n",
       "      <td>몹</td>\n",
       "      <td>도 1에 도시된 바와 같이, 가정용으로 현재 이용가능한 바닥 청소 도구는 평판 몹(...</td>\n",
       "      <td>\\n[ 발명의 명칭 ]\\n몹MOP\\n[ 기술분야 ]\\n본 발명은 가정용 청소 장치,...</td>\n",
       "    </tr>\n",
       "    <tr>\n",
       "      <th>64962</th>\n",
       "      <td>./patent_summarization_/Training/training_╞»╟π...</td>\n",
       "      <td>1020170020774</td>\n",
       "      <td>특허</td>\n",
       "      <td>척</td>\n",
       "      <td>일반적으로, 피가공물을 기계적으로 가공할 때는 척에 상기 피가공물을 고정한 상태에서...</td>\n",
       "      <td>\\n[ 발명의 명칭 ]\\n척chuck\\n[ 기술분야 ]\\n본 발명은 피가공물을 용이...</td>\n",
       "    </tr>\n",
       "    <tr>\n",
       "      <th>76591</th>\n",
       "      <td>./patent_summarization_/Training/training_╞»╟π...</td>\n",
       "      <td>1020150143916</td>\n",
       "      <td>특허</td>\n",
       "      <td>면</td>\n",
       "      <td>일반적으로 면은 밀가루 등으로 이루어진 반죽을 홍두께나 롤러 등의 도구로 얇게 밀어...</td>\n",
       "      <td>\\n[ 발명의 명칭 ]\\n면NOODLES \\n[ 기술분야 ]\\n본 발명은 면에 관...</td>\n",
       "    </tr>\n",
       "    <tr>\n",
       "      <th>78801</th>\n",
       "      <td>./patent_summarization_/Training/training_╞»╟π...</td>\n",
       "      <td>1020147002139</td>\n",
       "      <td>특허</td>\n",
       "      <td>밀</td>\n",
       "      <td>종래의 제트 밀(충돌식 기류분쇄기)은 노즐로부터 제트 기류를 분쇄실 내로 분사하여 ...</td>\n",
       "      <td>\\n[ 발명의 명칭 ]\\n밀Mill\\n[ 기술분야 ]\\n본 발명은 식품, 화학품, ...</td>\n",
       "    </tr>\n",
       "    <tr>\n",
       "      <th>94495</th>\n",
       "      <td>./patent_summarization_/Training/training_╞»╟π...</td>\n",
       "      <td>1020160166513</td>\n",
       "      <td>특허</td>\n",
       "      <td>컵</td>\n",
       "      <td>일반적으로 커피나 라면등의 내용물이 매우 뜨거운 것을 수용했을 때에 무심코 들다가 ...</td>\n",
       "      <td>\\n[ 발명의 명칭 ]\\n컵A CUP\\n[ 기술분야 ]\\n본 발명은 내용물이 차겁거...</td>\n",
       "    </tr>\n",
       "    <tr>\n",
       "      <th>100674</th>\n",
       "      <td>./patent_summarization_/Training/training_╞»╟π...</td>\n",
       "      <td>1020160081354</td>\n",
       "      <td>특허</td>\n",
       "      <td>찌</td>\n",
       "      <td>일반적으로 낚시에 사용되는 찌는 어신(魚信)을 알려주는 역할, 채비를 멀리 운반시키...</td>\n",
       "      <td>\\n[ 발명의 명칭 ]\\n찌FLOAT\\n[ 기술분야 ]\\n개시된 발명은 찌에 관한 ...</td>\n",
       "    </tr>\n",
       "    <tr>\n",
       "      <th>117441</th>\n",
       "      <td>./patent_summarization_/Validation/validation_...</td>\n",
       "      <td>1020170069449</td>\n",
       "      <td>특허</td>\n",
       "      <td>컵</td>\n",
       "      <td>일반적으로, 컵은 사용자가 마실 음료를 담기 위한 그릇의 하나로, 음료가 담기는 컵...</td>\n",
       "      <td>\\n[ 발명의 명칭 ]\\n컵Cup\\n[ 기술분야 ]\\n본 발명은 음료를 마실 때 사...</td>\n",
       "    </tr>\n",
       "  </tbody>\n",
       "</table>\n",
       "</div>"
      ],
      "text/plain": [
       "                                                     file         doc_id  \\\n",
       "11364   ./patent_summarization_/Training/training_╞»╟π...  1020140080642   \n",
       "27391   ./patent_summarization_/Training/training_╞»╟π...  1020137027405   \n",
       "27399   ./patent_summarization_/Training/training_╞»╟π...  1020137027436   \n",
       "48061   ./patent_summarization_/Training/training_╞»╟π...  1020137011053   \n",
       "48500   ./patent_summarization_/Training/training_╞»╟π...  1020137013782   \n",
       "64962   ./patent_summarization_/Training/training_╞»╟π...  1020170020774   \n",
       "76591   ./patent_summarization_/Training/training_╞»╟π...  1020150143916   \n",
       "78801   ./patent_summarization_/Training/training_╞»╟π...  1020147002139   \n",
       "94495   ./patent_summarization_/Training/training_╞»╟π...  1020160166513   \n",
       "100674  ./patent_summarization_/Training/training_╞»╟π...  1020160081354   \n",
       "117441  ./patent_summarization_/Validation/validation_...  1020170069449   \n",
       "\n",
       "       doc_type title                                       section_text  \\\n",
       "11364        특허     롤  이차 전지는 일차 전지와는 달리 재충전이 가능하고, 또 소형 및 대용량화 가능성으로...   \n",
       "27391        특허     병  합성수지 재료로 바닥이 있는 원통형으로 형성된 병으로서, 예를 들면 특허문헌 1에 ...   \n",
       "27399        특허     병  합성수지 재료로 바닥이 있는 원통형으로 형성된 병으로, 병 내부의 감압을 흡수하는 ...   \n",
       "48061        특허     병  합성수지 재료로 바닥이 있는 원통형으로 형성된 병으로서, 예를 들면 특허문헌 1 및...   \n",
       "48500        특허     몹  도 1에 도시된 바와 같이, 가정용으로 현재 이용가능한 바닥 청소 도구는 평판 몹(...   \n",
       "64962        특허     척  일반적으로, 피가공물을 기계적으로 가공할 때는 척에 상기 피가공물을 고정한 상태에서...   \n",
       "76591        특허     면  일반적으로 면은 밀가루 등으로 이루어진 반죽을 홍두께나 롤러 등의 도구로 얇게 밀어...   \n",
       "78801        특허     밀  종래의 제트 밀(충돌식 기류분쇄기)은 노즐로부터 제트 기류를 분쇄실 내로 분사하여 ...   \n",
       "94495        특허     컵  일반적으로 커피나 라면등의 내용물이 매우 뜨거운 것을 수용했을 때에 무심코 들다가 ...   \n",
       "100674       특허     찌  일반적으로 낚시에 사용되는 찌는 어신(魚信)을 알려주는 역할, 채비를 멀리 운반시키...   \n",
       "117441       특허     컵  일반적으로, 컵은 사용자가 마실 음료를 담기 위한 그릇의 하나로, 음료가 담기는 컵...   \n",
       "\n",
       "                                              entire_text  \n",
       "11364   \\n[ 발명의 명칭 ]\\n롤roll\\n[ 기술분야 ]\\n본 발명은 롤에 관한 것으로...  \n",
       "27391   \\n[ 발명의 명칭 ]\\n병BOTTLE\\n[ 기술분야 ]\\n본 발명은 병(bottl...  \n",
       "27399   \\n[ 발명의 명칭 ]\\n병BOTTLE\\n[ 기술분야 ]\\n본 발명은 병(bottl...  \n",
       "48061   \\n[ 발명의 명칭 ]\\n병BOTTLE\\n[ 기술분야 ]\\n본 발명은 병(bottl...  \n",
       "48500   \\n[ 발명의 명칭 ]\\n몹MOP\\n[ 기술분야 ]\\n본 발명은 가정용 청소 장치,...  \n",
       "64962   \\n[ 발명의 명칭 ]\\n척chuck\\n[ 기술분야 ]\\n본 발명은 피가공물을 용이...  \n",
       "76591    \\n[ 발명의 명칭 ]\\n면NOODLES \\n[ 기술분야 ]\\n본 발명은 면에 관...  \n",
       "78801   \\n[ 발명의 명칭 ]\\n밀Mill\\n[ 기술분야 ]\\n본 발명은 식품, 화학품, ...  \n",
       "94495   \\n[ 발명의 명칭 ]\\n컵A CUP\\n[ 기술분야 ]\\n본 발명은 내용물이 차겁거...  \n",
       "100674  \\n[ 발명의 명칭 ]\\n찌FLOAT\\n[ 기술분야 ]\\n개시된 발명은 찌에 관한 ...  \n",
       "117441  \\n[ 발명의 명칭 ]\\n컵Cup\\n[ 기술분야 ]\\n본 발명은 음료를 마실 때 사...  "
      ]
     },
     "execution_count": 62,
     "metadata": {},
     "output_type": "execute_result"
    }
   ],
   "source": [
    "train_data.loc[train_data.title.map(len)==1]\n",
    "\n",
    "# 실제 타이틀이 맞는지 확인\n",
    "# 타이틀 최소 길이 후보 선정"
   ]
  },
  {
   "cell_type": "markdown",
   "metadata": {},
   "source": [
    "http://kportal.kipris.or.kr/kportal/search/total_search.do => 여기에 한 자리 title을 가진 애들 다 나옴"
   ]
  },
  {
   "cell_type": "code",
   "execution_count": 63,
   "metadata": {},
   "outputs": [
    {
     "name": "stdout",
     "output_type": "stream",
     "text": [
      "title의 길이가 최대길이(173)인 데이터 개수:  1\n",
      "수중에서의 기체 윤활 기능을 이용하는 마찰저항 저감 선박에 사용되는 도료 조성물, 그 조성물로 형성되는 도막, 그 도막으로 피복된 선박, 그 선박의 제조방법, 상기 마찰저항 저감 효과를 예측하는 방법, 상기 마찰저항 저감 효과의 예측에 사용되는 장치 및 상기 마찰저항 저감 선박에 사용되는 마찰저항 저감 시스템\n"
     ]
    }
   ],
   "source": [
    "print(\"title의 길이가 최대길이(173)인 데이터 개수: \",len(train_data.loc[train_data.title.map(len)==173]))\n",
    "print(train_data.loc[train_data.title.map(len)==173].title.values[0])"
   ]
  },
  {
   "cell_type": "code",
   "execution_count": 64,
   "metadata": {},
   "outputs": [
    {
     "data": {
      "text/html": [
       "<div>\n",
       "<style scoped>\n",
       "    .dataframe tbody tr th:only-of-type {\n",
       "        vertical-align: middle;\n",
       "    }\n",
       "\n",
       "    .dataframe tbody tr th {\n",
       "        vertical-align: top;\n",
       "    }\n",
       "\n",
       "    .dataframe thead th {\n",
       "        text-align: right;\n",
       "    }\n",
       "</style>\n",
       "<table border=\"1\" class=\"dataframe\">\n",
       "  <thead>\n",
       "    <tr style=\"text-align: right;\">\n",
       "      <th></th>\n",
       "      <th>file</th>\n",
       "      <th>doc_id</th>\n",
       "      <th>doc_type</th>\n",
       "      <th>title</th>\n",
       "      <th>section_text</th>\n",
       "      <th>entire_text</th>\n",
       "    </tr>\n",
       "  </thead>\n",
       "  <tbody>\n",
       "    <tr>\n",
       "      <th>59527</th>\n",
       "      <td>./patent_summarization_/Training/training_╞»╟π...</td>\n",
       "      <td>1020157017113</td>\n",
       "      <td>특허</td>\n",
       "      <td>수중에서의 기체 윤활 기능을 이용하는 마찰저항 저감 선박에 사용되는 도료 조성물, ...</td>\n",
       "      <td>항행하는 선박에는 파도의 발생에 의한 조파저항, 선저의 형상에 기인하는 압력 형상저...</td>\n",
       "      <td>\\n[ 발명의 명칭 ]\\n수중에서의 기체 윤활 기능을 이용하는 마찰저항 저감 선박에...</td>\n",
       "    </tr>\n",
       "  </tbody>\n",
       "</table>\n",
       "</div>"
      ],
      "text/plain": [
       "                                                    file         doc_id  \\\n",
       "59527  ./patent_summarization_/Training/training_╞»╟π...  1020157017113   \n",
       "\n",
       "      doc_type                                              title  \\\n",
       "59527       특허  수중에서의 기체 윤활 기능을 이용하는 마찰저항 저감 선박에 사용되는 도료 조성물, ...   \n",
       "\n",
       "                                            section_text  \\\n",
       "59527  항행하는 선박에는 파도의 발생에 의한 조파저항, 선저의 형상에 기인하는 압력 형상저...   \n",
       "\n",
       "                                             entire_text  \n",
       "59527  \\n[ 발명의 명칭 ]\\n수중에서의 기체 윤활 기능을 이용하는 마찰저항 저감 선박에...  "
      ]
     },
     "execution_count": 64,
     "metadata": {},
     "output_type": "execute_result"
    }
   ],
   "source": [
    "train_data.loc[train_data.title.map(len)==173]"
   ]
  },
  {
   "cell_type": "markdown",
   "metadata": {},
   "source": [
    "## entire text"
   ]
  },
  {
   "cell_type": "code",
   "execution_count": 65,
   "metadata": {},
   "outputs": [
    {
     "name": "stdout",
     "output_type": "stream",
     "text": [
      "entire_text 평균 길이: 18254.10350056564\n",
      "entire_text 중앙값 길이: 13206.0\n",
      "entire_text 최소 길이: 1508\n",
      "entire_text 최대 길이: 921815\n"
     ]
    },
    {
     "data": {
      "image/png": "[encoded data removed]",
      "text/plain": [
       "<Figure size 432x288 with 1 Axes>"
      ]
     },
     "metadata": {
      "needs_background": "light"
     },
     "output_type": "display_data"
    }
   ],
   "source": [
    "print(\"entire_text 평균 길이:\",train_data.entire_text.map(len).mean())\n",
    "print(\"entire_text 중앙값 길이:\",train_data.entire_text.map(len).median())\n",
    "print(\"entire_text 최소 길이:\",train_data.entire_text.map(len).min())\n",
    "print(\"entire_text 최대 길이:\",train_data.entire_text.map(len).max())\n",
    "\n",
    "import matplotlib.pyplot as plt\n",
    "plt.hist(train_data.entire_text.map(len),bins=50)\n",
    "plt.show()"
   ]
  },
  {
   "cell_type": "code",
   "execution_count": 66,
   "metadata": {},
   "outputs": [
    {
     "data": {
      "text/html": [
       "<div>\n",
       "<style scoped>\n",
       "    .dataframe tbody tr th:only-of-type {\n",
       "        vertical-align: middle;\n",
       "    }\n",
       "\n",
       "    .dataframe tbody tr th {\n",
       "        vertical-align: top;\n",
       "    }\n",
       "\n",
       "    .dataframe thead th {\n",
       "        text-align: right;\n",
       "    }\n",
       "</style>\n",
       "<table border=\"1\" class=\"dataframe\">\n",
       "  <thead>\n",
       "    <tr style=\"text-align: right;\">\n",
       "      <th></th>\n",
       "      <th>file</th>\n",
       "      <th>doc_id</th>\n",
       "      <th>doc_type</th>\n",
       "      <th>title</th>\n",
       "      <th>section_text</th>\n",
       "      <th>entire_text</th>\n",
       "    </tr>\n",
       "  </thead>\n",
       "  <tbody>\n",
       "    <tr>\n",
       "      <th>79657</th>\n",
       "      <td>./patent_summarization_/Training/training_╞»╟π...</td>\n",
       "      <td>1020147013519</td>\n",
       "      <td>특허</td>\n",
       "      <td>암의 치료를 위한 ＭＤＭ２ 저해제로서의 피페리디논 유도체</td>\n",
       "      <td>p53은 세포 주기 저지, 아포프토시스, 노화, 및 DNA 수복에 수반되는 수많은 ...</td>\n",
       "      <td>\\n[ 발명의 명칭 ]\\n암의 치료를 위한 ＭＤＭ２ 저해제로서의 피페리디논 유도체P...</td>\n",
       "    </tr>\n",
       "  </tbody>\n",
       "</table>\n",
       "</div>"
      ],
      "text/plain": [
       "                                                    file         doc_id  \\\n",
       "79657  ./patent_summarization_/Training/training_╞»╟π...  1020147013519   \n",
       "\n",
       "      doc_type                            title  \\\n",
       "79657       특허  암의 치료를 위한 ＭＤＭ２ 저해제로서의 피페리디논 유도체   \n",
       "\n",
       "                                            section_text  \\\n",
       "79657  p53은 세포 주기 저지, 아포프토시스, 노화, 및 DNA 수복에 수반되는 수많은 ...   \n",
       "\n",
       "                                             entire_text  \n",
       "79657  \\n[ 발명의 명칭 ]\\n암의 치료를 위한 ＭＤＭ２ 저해제로서의 피페리디논 유도체P...  "
      ]
     },
     "execution_count": 66,
     "metadata": {},
     "output_type": "execute_result"
    }
   ],
   "source": [
    "train_data[train_data.entire_text.map(len)==832577]"
   ]
  },
  {
   "cell_type": "markdown",
   "metadata": {},
   "source": [
    "- text 데이터가 너무 길며, 전체 내용을 input으로 활용할 모델을 사용하기엔 리소스가 제한됨\n",
    "- 따라서, 특허 문서에서 필요한 부분을 선택적으로 사용 하기로 함"
   ]
  },
  {
   "cell_type": "code",
   "execution_count": 67,
   "metadata": {},
   "outputs": [],
   "source": [
    "import re\n",
    "def get_info(idx):\n",
    "    idx_data = train_data.iloc[idx]\n",
    "    print(\">>         타이틀: \", idx_data.title)\n",
    "\n",
    "    strs = idx_data.entire_text\n",
    "    res_st = re.search(\"\\[ 기술분야 \\]|\\[기술분야\\]\",strs)\n",
    "    res_ed = re.search(\"\\[ 배경기술 \\]|\\[배경기술\\]\", strs)\n",
    "    print(\">>       기술분야: \",strs[res_st.span()[1]:res_ed.span()[0]].strip())\n",
    "\n",
    "    res_st = re.search(\"\\[ 해결하려는 과제 \\]\",strs)\n",
    "    res_ed = re.search(\"\\[ 과제의 해결 수단 \\]\", strs)\n",
    "    print(\">>해결하려는 과제: \",strs[res_st.span()[1]:res_ed.span()[0]].strip())\n",
    "    print()"
   ]
  },
  {
   "cell_type": "code",
   "execution_count": 68,
   "metadata": {},
   "outputs": [
    {
     "data": {
      "text/plain": [
       "file            ./patent_summarization_/Training/training_╞»╟π...\n",
       "doc_id                                              1020120127453\n",
       "doc_type                                                       특허\n",
       "title                     박막형 태양전지, 이의 제조방법 및 박막형 태양전지의 광흡수층 제조방법\n",
       "section_text    최근 심각한 환경오염과 화석 에너지 고갈 등의 문제로 인해 차세대 청정에너지원의 개...\n",
       "entire_text     \\n[ 발명의 명칭 ]\\n박막형 태양전지, 이의 제조방법 및 박막형 태양전지의 광흡...\n",
       "Name: 10, dtype: object"
      ]
     },
     "execution_count": 68,
     "metadata": {},
     "output_type": "execute_result"
    }
   ],
   "source": [
    "idx_data = train_data.iloc[10]\n",
    "idx_data"
   ]
  },
  {
   "cell_type": "code",
   "execution_count": 69,
   "metadata": {},
   "outputs": [
    {
     "name": "stdout",
     "output_type": "stream",
     "text": [
      ">>         타이틀:  분산된 기공 구조를 갖는 ＣＭＰ패드 및 그 제조방법\n",
      ">>       기술분야:  본 발명은 분산된 기공 구조를 갖는 CMP 패드 및 그 제조방법에 관한 것으로, 보다 상세하게는 분산된 기공 구조로 인하여, 우수한 연마 속도, 슬러리에 의한 웨이퍼 디펙(DEFECT) 감소 효과를 갖는, 분산된 기공 구조를 갖는 CMP 패드 및 그 제조방법에 관한 것이다.\n",
      ">>해결하려는 과제:  따라서, 본 발명이 해결하고자 하는 과제는 분산된 기공 구조로 인하여, 우수한 연마 속도, 슬러리에 의한 웨이퍼 디펙(DEFECT) 감소 효과를 갖는 CMP 패드 및 그 제조방법을 제공하는 것이다.\n",
      "\n",
      ">>         타이틀:  전자 패널용 칼라 광펜\n",
      ">>       기술분야:  전자 패널용 칼라 펜에 관한 것으로, 보다 상세하게는 사용자의 편의성을 제공할 수 있는 전자 패널용 칼라 광펜에 관한 것이다.\n",
      ">>해결하려는 과제:  단말 장치의 표시부에 메뉴판 기능 없이도 칼라로 글씨를 쓰거나 그림을 그릴 수 있도록 하여 사용자의 편의성을 높일 수 있는 전자 패널용 칼라 광펜을 제공한다.\n",
      "\n",
      ">>         타이틀:  퇴적물 퇴적 방지형 피스톤\n",
      ">>       기술분야:  본 발명은 퇴적물 퇴적 방지형 피스톤에 관한 것으로, 더욱 상세하게는 피스톤 랜드부의 압력 밸런스를 유지하고 오일 소모 및 탄화물 퇴적을 개선하기 위해 퇴적물 퇴적 방지 링을 이용한 피스톤에 관한 것이다.\n",
      ">>해결하려는 과제:  본 발명은 상기와 같은 점을 개선하기 위해 고안한 것으로서, 피스톤 랜드부의 오일 업 방지 홈에 퇴적물 퇴적 방지 링을 조립하여 엔진 운전시 상기 홈에 퇴적물이 퇴적되는 것을 방지할 수 있는 퇴적물 퇴적 방지형 피스톤을 제공하는데 그 목적이 있다.\n",
      "\n",
      ">>         타이틀:  오일쿨러 장치\n",
      ">>       기술분야:  본 발명은 오일쿨러 장치에 관한 것으로서, 특히 오일쿨러의 효율성과 내구성을 향상시키기 위한 오일쿨러 장치에 관한 것이다.\n",
      ">>해결하려는 과제:  본 발명은 상기의 문제점을 해소하기 위한 오일쿨러 장치에 관한 것으로서, 특히 오일쿨러의 효율성과 내구성을 향상시키기 위한 것을 목적으로 한다.\n",
      "\n",
      ">>         타이틀:  전동식 엔진 마운트 구조\n",
      ">>       기술분야:  본 발명은 전동식 엔진 마운트 구조에 관한 것으로서, 특히 엔진 마운트의 높이를 최소화시키고, 유체의 흐름을 제어하기 위한 전동식 엔진 마운트 구조에 관한 것이다.\n",
      ">>해결하려는 과제:  본 발명은 상기의 문제점을 해소하기 위한 전동식 엔진 마운트 구조에 관한 것으로서, 특히 엔진 마운트의 높이를 최소화시키고, 유체의 흐름을 제어하기 위한 것을 목적으로 한다.\n",
      "\n",
      ">>         타이틀:  원통형 전자식 변속 레버\n",
      ">>       기술분야:  본 발명은 전자식 변속 레버를 원통형으로 형성함으로써, 변속 모드 조작을 보다 더 용이하게 하고, 운전자의 변속모드에 대한 시인성을 향상시키는 전자식 변속 레버에 관한 것이다.\n",
      ">>해결하려는 과제:  본 발명은 전술한 종래기술의 문제점을 해결하기 위해 안출된 것으로서, 전자식 변속 레버를 원통형으로 구성하여, 운전자가 손바닥 또는 손가락만으로도 간편하고 원활하게 변속 모드의 조작이 가능한 전자식 변속 레버를 제공하는데 그 목적이 있다. 또한, 본 발명은 원통형 전자식 변속 레버 자체에 변속 모드에 관한 문자를 투영하여 현시토록 함으로써 변속 모드에 대한 운전자의 시인성을 향상시키는 전자식 변속 레버를 제공하는데 또 다른 목적이 있다. 또한, 본 발명은 변속 레버의 사이즈를 자유로이 조절하여, 운전석 부근의 수납공간의 활용도를 높일 수 있고, 종래의 변속 레버와 같이 돌출되는 형상을 채택하지 아니함으로써 차량 충돌시 운전자의 안정성을 보장하는 전자식 변속 레버를 제공하는데 또 다른 목적이 있다. 본 발명이 이루고자 하는 기술적 과제들은 이상에서 언급한 기술적 과제들로 제한되지 않으며, 언급되지 않은 또 다른 기술적 과제들은 본 발명의 기재로부터 당해 분야에서 통상의 지식을 가진 자에게 명확하게 이해될 수 있을 것이다.\n",
      "\n"
     ]
    }
   ],
   "source": [
    "s = 4\n",
    "e = 10\n",
    "for i in range(s,e):\n",
    "    get_info(i)"
   ]
  },
  {
   "cell_type": "code",
   "execution_count": 70,
   "metadata": {},
   "outputs": [],
   "source": [
    "import re\n",
    "def find_text(text):\n",
    "    res_st = re.search(\"\\[ 기술분야 \\]|\\[기술분야\\]\",text)\n",
    "    res_ed = re.search(\"\\[ 배경기술 \\]|\\[배경기술\\]\", text)\n",
    "    return text[res_st.span()[1]:res_ed.span()[0]].strip()\n"
   ]
  },
  {
   "cell_type": "code",
   "execution_count": 71,
   "metadata": {},
   "outputs": [
    {
     "data": {
      "text/html": [
       "<div>\n",
       "<style scoped>\n",
       "    .dataframe tbody tr th:only-of-type {\n",
       "        vertical-align: middle;\n",
       "    }\n",
       "\n",
       "    .dataframe tbody tr th {\n",
       "        vertical-align: top;\n",
       "    }\n",
       "\n",
       "    .dataframe thead th {\n",
       "        text-align: right;\n",
       "    }\n",
       "</style>\n",
       "<table border=\"1\" class=\"dataframe\">\n",
       "  <thead>\n",
       "    <tr style=\"text-align: right;\">\n",
       "      <th></th>\n",
       "      <th>file</th>\n",
       "      <th>doc_id</th>\n",
       "      <th>doc_type</th>\n",
       "      <th>title</th>\n",
       "      <th>section_text</th>\n",
       "      <th>entire_text</th>\n",
       "    </tr>\n",
       "  </thead>\n",
       "  <tbody>\n",
       "    <tr>\n",
       "      <th>0</th>\n",
       "      <td>./patent_summarization_/Training/training_╞»╟π...</td>\n",
       "      <td>1020120126686</td>\n",
       "      <td>특허</td>\n",
       "      <td>육안 조준기 및 육안 조준기를 구비한 방범 센서</td>\n",
       "      <td>이 종류의 능동형 방범용 센서 장치는, 직선적인 경계 구역의 양 단부에, 적외선 투...</td>\n",
       "      <td>\\n[ 발명의 명칭 ]\\n육안 조준기 및 육안 조준기를 구비한 방범 센서SIGHTI...</td>\n",
       "    </tr>\n",
       "    <tr>\n",
       "      <th>1</th>\n",
       "      <td>./patent_summarization_/Training/training_╞»╟π...</td>\n",
       "      <td>1020120126766</td>\n",
       "      <td>특허</td>\n",
       "      <td>평활커패시터 돌입전류 유입방지 EPS시스템</td>\n",
       "      <td>일반적으로 자동차 등의 조향 안정성을 보장하기 위하여 별도의 동력으로 보조하는 조향...</td>\n",
       "      <td>\\n[ 발명의 명칭 ]\\n평활커패시터 돌입전류 유입방지 EPS시스템EPS SYSTE...</td>\n",
       "    </tr>\n",
       "  </tbody>\n",
       "</table>\n",
       "</div>"
      ],
      "text/plain": [
       "                                                file         doc_id doc_type  \\\n",
       "0  ./patent_summarization_/Training/training_╞»╟π...  1020120126686       특허   \n",
       "1  ./patent_summarization_/Training/training_╞»╟π...  1020120126766       특허   \n",
       "\n",
       "                        title  \\\n",
       "0  육안 조준기 및 육안 조준기를 구비한 방범 센서   \n",
       "1     평활커패시터 돌입전류 유입방지 EPS시스템   \n",
       "\n",
       "                                        section_text  \\\n",
       "0  이 종류의 능동형 방범용 센서 장치는, 직선적인 경계 구역의 양 단부에, 적외선 투...   \n",
       "1  일반적으로 자동차 등의 조향 안정성을 보장하기 위하여 별도의 동력으로 보조하는 조향...   \n",
       "\n",
       "                                         entire_text  \n",
       "0  \\n[ 발명의 명칭 ]\\n육안 조준기 및 육안 조준기를 구비한 방범 센서SIGHTI...  \n",
       "1  \\n[ 발명의 명칭 ]\\n평활커패시터 돌입전류 유입방지 EPS시스템EPS SYSTE...  "
      ]
     },
     "execution_count": 71,
     "metadata": {},
     "output_type": "execute_result"
    }
   ],
   "source": [
    "train_data.head(2)"
   ]
  },
  {
   "cell_type": "code",
   "execution_count": 72,
   "metadata": {},
   "outputs": [
    {
     "data": {
      "text/plain": [
       "'\\n[ 발명의 명칭 ]\\n원통형 전자식 변속 레버Cylinder Type Electronic Shift Lever\\n[ 기술분야 ]\\n본 발명은 전자식 변속 레버를 원통형으로 형성함으로써, 변속 모드 조작을 보다 더 용이하게 하고, 운전자의 변속모드에 대한 시인성을 향상시키는 전자식 변속 레버에 관한 것이다.\\n[ 배경기술 ]\\n통상 차량용 변속장치는 크게 자동 변속기와 수동 변속기로 구분된다. 이중 상기 자동변속기의 종류로는 유성기어를 이용하는 자동변속기와 무단 변속장치를 이용하는 무단변속기가 있다. 상기 무단변속기(Continuously Variable Transmission; CVT)는 운전자가 변속 레버로 P-R-N-D레인지를 선택하면, 차속 및 스로틀 개도에 따라 TCU(Transmission Control Unit)가 구동 풀리 및 종동 풀리의 직경을 가변시키도록 제어하게 되며, 이와 같은 동작으로 인해 상기 무단 변속기는 입력되는 회전동력과 출력되는 회전동력을 연속적으로 변속하게 된다.한편, 최근에는 차량의 변속시스템을 기계식이 아닌 전자식으로 제어하는 시프트 바이 와이어(shift by wire) 시스템이 개발되면서 이에 대한 관심이 집중되고 있다. 시프트 바이 와이어 시스템은 변속기와 변속 레버의 기계적인 연결구조를 전기적으로 작동하는 액츄에이터와 전자식 변속 레버 및 ECU(Electronic control unit)를 이용하여 전자적으로 변속 제어를 이루는 변속시스템을 말한다.이러한 시프트 바이 와이어 변속시스템은 변속 레버의 위치변화를 위치센서수단을 이용하여 변속 레버의 변화된 위치를 전기적인 신호로 변환하고, 이 신호를 TCU(Transmission Control Unit)로 입력하며, 상기 TCU(Transmission Control Unit)의 제어에 따라 변속이 이루어진다. 상기 시프트 바이 와이어 변속시스템은 기존의 기계식 변속 레버 시스템과 비교해 볼 때 레버 조작력이나 조작감이 우수하며, 또한 간단한 스위치 버튼 조작으로 변속조작이 가능한 장점을 갖고 있다.최근에는 시프트 바이 와이어 변속시스템용 변속 레버 구조로 H-Matic 방식이 활발히 적용되고 있다. 그러나, 최근의 H-Matic 방식의 변속 레버 시스템도 P-R-N-D 변속레버 자체가 콘솔(console) 상에 돌출되도록 형성되어 종래의 기계식 레버와 유사하게 조작되는 방식을 취하고 있다. 즉, 종래의 전자식 변속 레버도 변속 레버가 돌출되어 앞 뒤로 조작하는 방식을 취하고 있고, 콘솔(console)상에 별도의 다이얼 레버로 H-Matic 기능을 조절하고 있었는데, 이와 같은 방식에 의할 경우, 변속 레버가 고정되어 있으므로 조작의 편의성을 담보할 수 없고, 변속단 표시의 시인성이 제한받을 수 밖에 없는 단점이 있었다. 또한, 종래기술에 의한 경우, 돌출된 형상의 변속 레버가 차지하는 공간이 커서 운전석 부근의 수납공간이 협소해지며 콘솔(console)의 레이아웃도 불리하게 되며, 차량 충돌시 탑승자에 상해를 입힐 수 있는 문제점이 있었다. \\n[ 발명의 개요 ]\\n\\n[ 해결하려는 과제 ]\\n본 발명은 전술한 종래기술의 문제점을 해결하기 위해 안출된 것으로서, 전자식 변속 레버를 원통형으로 구성하여, 운전자가 손바닥 또는 손가락만으로도 간편하고 원활하게 변속 모드의 조작이 가능한 전자식 변속 레버를 제공하는데 그 목적이 있다. 또한, 본 발명은 원통형 전자식 변속 레버 자체에 변속 모드에 관한 문자를 투영하여 현시토록 함으로써 변속 모드에 대한 운전자의 시인성을 향상시키는 전자식 변속 레버를 제공하는데 또 다른 목적이 있다. 또한, 본 발명은 변속 레버의 사이즈를 자유로이 조절하여, 운전석 부근의 수납공간의 활용도를 높일 수 있고, 종래의 변속 레버와 같이 돌출되는 형상을 채택하지 아니함으로써 차량 충돌시 운전자의 안정성을 보장하는 전자식 변속 레버를 제공하는데 또 다른 목적이 있다. 본 발명이 이루고자 하는 기술적 과제들은 이상에서 언급한 기술적 과제들로 제한되지 않으며, 언급되지 않은 또 다른 기술적 과제들은 본 발명의 기재로부터 당해 분야에서 통상의 지식을 가진 자에게 명확하게 이해될 수 있을 것이다. \\n[ 과제의 해결 수단 ]\\n전술한 종래기술의 문제점을 해결하기 위한 본 발명은, 원통 형상을 갖고, 그 자체가 회전하면서 일정 거리를 이동하여 차량의 변속 모드를 변경하는 변속 레버 및 상기 변속 레버를 지지하며, 상기 변속 레버의 이동 거리에 따라 각각의 변속 모드를 변경할 수 있도록 일정 영역 별로 구획된 이동판을 갖는 변속 레버 지지부를 포함하는 전자식 변속 레버를 제공한다. 본 발명에서 상기 변속 레버는, 그 내부가 비어 있는 원통 형상으로 형성되는 것이 바람직하다.본 발명에서 상기 변속 레버는 그 원통 내부에 지지롤러를 포함하되, 상기 지지롤러는 변속 레버 지지부의 측면에 형성되는 지지롤러 이동 슬롯을 따라 이동하며, 변속 레버를 상기 이동판의 일정영역에 위치하도록 지지하는 것이 바람직하다.본 발명에서 상기 이동판은, 상기 변속 레버가 변속 모드에 따라 일정 영역을 구획하여 이동할 수 있도록 그 측면이 물결 형상을 갖는 것이 바람직하다.본 발명에서 상기 변속 레버는, 그 내부에 끼워지되, 변속 모드 표시 문자를 현시하는 디스플레이 슬라이드를 구비하는 것이 바람직하다.본 발명에서 상기 변속 레버는, 상기 디스플레이 슬라이드에서 현시하는 변속 모드 표시 문자를 투영하여 그 몸체에 나타내는 것이 바람직하다.본 발명에서 상기 변속 레버 지지부는, 그 측면에 디스플레이 슬라이드의 측면에 끼워져서 이동할 수 있도록 슬라이드 이동 슬롯을 구비하는 것이 바람직하다.본 발명에서 상기 변속 레버는, 투명한 재질의 재료로 형성되는 것이 바람직하다.\\n[ 발명의 효과 ]\\n본 발명은 전자식 변속 레버를 원통형으로 구성하여, 운전자가 손바닥 또는 손가락만으로 간편하게 변속 모드의 조작이 가능하며, 원통형 전자식 변속 레버 자체에 변속 모드에 관한 문자를 투영하여 현시토록 함으로써 변속 모드에 대한 운전자의 시인성을 향상시키는 효과가 있다. 또한, 본 발명은 변속 레버의 사이즈를 자유로이 조절할 수 있으므로 운전석 부근의 수납공간의 활용도를 높일 수 있고, 변속 레버 자체의 디자인 심미감을 증가시켜 차량의 상품성을 향상시키는 효과가 있다. 또한, 본 발명은 종래의 변속 레버와 같이 돌출되는 형상으로 형성되지 아니하므로, 차량 충돌시 운전자의 부상위험을 감소시키며, 종래의 변속 레버 구조에 비해 그 구조가 간단하여 제조비용이 절감되는 효과가 있다.\\n[ 도면의 간단한 설명 ]\\n도 1a 내지 도 1d는 본 발명의 일실시예에 따른 원통형 전자식 변속레버의 예시도.도 2a 내지 도 2c는 본 발명의 일실시예에 따른 원통형 전자식 변속레버의 단면도.도 3a 내지 도 3c는 본 발명의 일실시예에 따른 원통형 전자식 변속레버를 이용하여 변속 모드를 변경하는 모습을 나타낸 예시도.도 4는 본 발명의 일실시예에 따른 원통형 전자식 변속레버가 콘솔상에 형성된 모습을 나타낸 예시도.\\n[ 발명을 실시하기 위한 구체적인 내용 ]\\n이하, 첨부된 도면을 참조하여 본 발명의 바람직한 실시예를 상세히 설명하기로 한다. 이에 앞서, 본 명세서 및 청구범위에 사용된 용어나 단어는 통상적이거나 사전적인 의미로 한정해서 해석되어서는 아니되며, 발명자는 그 자신의 발명을 가장 최선의 방법으로 설명하기 위해 용어의 개념을 적절하게 정의할 수 있다는 원칙에 입각하여 본 발명의 기술적 사상에 부합하는 의미와 개념으로 해석되어야만 한다. 따라서, 본 명세서에 기재된 실시예와 도면에 도시된 구성은 본 발명의 가장 바람직한 일실시예에 불과할 뿐이고 본 발명의 기술적 사상을 모두 대변하는 것은 아니므로, 본 출원시점에 있어서 이들을 대체할 수 있는 다양한 균등물과 변형예들이 있을 수 있음을 이해하여야 한다.도 1a 내지 도 1d는 본 발명의 일실시예에 따른 원통형 전자식 변속레버의 예시도이다.본 발명은, 원통 형상을 갖고, 그 자체가 회전하면서 일정 거리를 이동하여 차량의 변속 모드를 변경하는 변속 레버(110) 및 상기 변속 레버를 지지하며, 상기 변속 레버의 이동 거리에 따라 각각의 변속 모드를 변경할 수 있도록 일정 영역 별로 구획된 이동판(121)을 갖는 변속 레버 지지부(120)를 포함하여 구성될 수 있다. 상기 변속 레버(110) 그 내부가 비어 있는 원통 형상으로 형성될 수 있으며, 회전 운동을 하여 변속 모드별로 구획된 변속 레버 지지부의 이동판(121)을 이동하여 변속 모드를 변경하게 된다. 상기 변속 레버 지지부(120)는 상기 변속 레버(110)가 이동할 수 있는 홈을 형성하여 변속 레버(110)를 지지할 수 있으며, 상기 이동판(121)은 상기 홈 상에 형성될 수 있다. 변속 레버 지지부의 이동판(121)은, 그 측면이 물결 형상을 갖도록 구성할 수 있는데, 물결 형상의 홈마다 변속 레버(110)가 안착될 수 있도록 형성할 수 있을 것이다. 상기 물결 형상은 상기 변속 레버(110)가 변속 모드에 따라 일정 영역을 구획하여 이동할 수 있도록 기능할 수 있다. 상기 변속 레버(110)는 그 원통 내부에 지지롤러(150)를 구비할 수 있다. 상기 지지롤러(150)는 변속 레버 지지부(120)의 측면에 형성되는 지지롤러 이동 슬롯(151)을 따라 이동하며, 변속 레버(110)를 상기 이동판(121)의 일정영역에 위치하도록 지지하는 기능을 수행할 수 있다. 한편, 상기 지지롤러(150)는 양 측에 지지핀을 구비하여 지지롤러 이동 슬롯(151)에 삽입함으로써 상기 지지롤러 이동 슬롯(151)을 따라 이동이 가능할 것이다.또한, 상기 변속 레버(110)는, 그 내부에 끼워져서 수평으로 이동하며, 변속 모드의 문자를 현시하는 디스플레이 슬라이드(140)를 구비할 수 있다. 즉 상기 디스플레이 슬라이드(140)는 원통형상으로 형성되는 변속 레버(110)의 내부에 수평으로 삽입되어 고정되되, 변속 레버(110)와 같이 회전 운동을 하지 않도록 디스플레이 슬라이드(140)의 양 측면부는 슬라이드 이동 슬롯(141)에 끼워지도록 형성한다. 그리고, 상기 디스플레이 슬라이드(140)는 변속 레버(110)의 이동에 따라 슬라이드 이동 슬롯(141)을 따라 수평으로 이동하도록 구성된다. 상기 디스플레이 슬라이드(140)는 변속 모드에 따라 P, R, N, D, M 등의 문자를 현시할 수 있는데, 이와 같은 변속 모드 표시 문자는 변속 레버(110)의 몸체에 투영되어 운전자가 손 쉽게 변속 모드를 확인할 수 있게 된다. 이를 위해 상기 변속 레버(110)는 플라스틱 등 투명한 재질의 재료로 형성될 수 있다. 상기 지지롤러(150) 및 디스플레이 슬라이드(140)는 와이어(170)를 통해 TCU(Transmission Control Unit)와 연결될 수 있다. 상기 지지롤러(150)은 변속 레버(110)의 내부에 고정되어 변속 레버(110)가 이동에 따라 지지롤러 이동 슬롯(151)을 따라 이동하게 된다. 이 때, 지지롤러(150)의 이동 및 위치 인식 정보는 PCB(160)를 통해 상기 TCU로 전달되어 변속 모드를 변경하게 된다. 물론 발명의 필요에 따라, 지지롤러(150)의 이동 및 위치 인식 정보를 TCU로 직접 전송하여 변속 모드를 변경하는 것도 가능할 것이다.상기 TCU는 변속 모드가 변경될 때, 와이어(170)를 통해 연결된 디스플레이 슬라이드(140)에 변속 모드 정보를 전송하여 P, R, N, D, M 등의 변속 모드 표시 문자를 현시토록 제어할 수 있을 것이다. 또한, 발명의 필요에 따라 상기 변속 레버 지지부(120)의 측면에 별도로 변속 모드를 표시하는 변속 모드 표시부(130)를 형성할 수 있다. 상기 변속 모드 표시부(130)는 LED에 의해 P, R, N, D, M 등의 문자를 발광시켜 현시할 수 있을 것이다(도 1a 참조). 도 2a 내지 도 2c는 본 발명의 일실시예에 따른 원통형 전자식 변속레버의 단면도이다.도 2a를 참조하면, 원통형상을 형성되는 변속 레버(110)는 변속 레버 지지부(120)의 이동판(121)상에 안착되게 되며, 상기 이동판(121)은 그 측면이 물결 형상으로 형성되어 물결 형상의 홈마다 변속 레버(110)가 안착되어 변속 모드를 변경할 수 있도록 조력할 수 있다. 상기 이동판(121)은 판 스프링으로 형성될 수 있는데, 판 스프링을 이용할 경우 운전자가 변속 레버(110)가 이동판(121)의 홈에 안착되었는지의 여부를 보다 용이하게 인식할 수 있는 장점이 있다. 상기 지지롤러(150)는 지지핀을 지지롤러 이동슬롯(151)에 삽입시키고, 변속 레버(110)의 내부면에 고정되어 변속 레버(110)와 함께 이동할 수 있다. 전술한 바 대로 변속 모드의 변경은 상기 지지롤러(150)의 위치 변경 정보를 PCB(160)가 인식하여 TCU에 전송함으로써 변속 모드를 변경하게 된다. 상기 지지롤러(150)는 그 내부에 자석을 구비하여 PCB(160)가 위치 변경 정보를 더욱 용이하게 수집하도록 할 수 있다. 상기 지지롤러(150) 및 이동판(121)은 변속 레버(110)의 내부면과 외부면에서 상호 지지작용을 수행하여 변속 레버(110)를 이동판(121)의 일정 위치에 안착하도록 지지할 수 있을 것이다. 한편, 디스플레이 슬라이드(140)는 변속 모드 변경에 따라 변속 모드 표시 문자를 현시하게 되는 기능을 수행하는데, 슬라이드 이동 슬롯(141)을 따라 수평으로 이동하며, 상기 변속 모드 표시 문자는 변속 레버(110)의 몸체에 투영되어 운전자가 변속 모드 표시 문자를 용이하게 인식할 수 있도록 기능할 수 있다. 도 3a 내지 도 3c는 본 발명의 일실시예에 따른 원통형 전자식 변속레버를 이용하여 변속 모드를 변경하는 모습을 나타낸 예시도이다.도 3a 및 도 3b는 운전자가 손바닥을 이용하여 원통 형상의 변속 레버(110)를 굴리면서 변속 모드를 변경하는 모습을 도시하고 있다. 이와 같이 본 발명에서는 변속 레버(110)가 원통 형상으로 형성되어 있어서, 종래 기술과 같이 변속 레버를 손으로 부여 잡고 조작할 필요가 없어서 그 조작이 간단하며 신속한 변속 모드의 변경이 가능하다. 또한, 운전자가 손바닥으로 변속 레버(110)을 굴리게 되면 판스프링으로 형성될 수 있는 이동판(121)이 변형되면서 절도감을 느끼며 변속 레버(110)를 이동시킬 수 있다. 한편, 지지롤러(150)와 디스플레이 슬라이드(140)는 각각 지지롤러 이동 슬롯(151)과 슬라이드 이동 슬롯(141)을 따라 이동하게 되는데, 지지롤러(150) 내부에 구비되는 자석의 이동을 PCB(160)에서 인식하여 TCU를 통해 변속 모드 변경 및 상기 디스플레이 슬라이드(140)의 변속 모드 표시 문자 및 컬러를 변경하도록 한다. 전술한 바 대로 상기 디스플레이 슬라이드(140)에서 발광된 변속 모드 표시 문자는 투명한 재질로 형성되는 변속 레버(110)의 몸체에 투영되어 운전자가 용이하게 인식하게 된다. 한편, 도 3c를 참조하면, 그 내부가 비어 있는 원통으로 형성되는 변속 레버(110)의 경우, 운전자가 손가락을 원통 내부에 삽입하여 변속 모드를 변경하는 모습을 도시하고 있다. 이와 같이, 본 발명의 원통형 전자식 변속 레버는 운전자가 손바닥 또는 손가락만으로도 간편하게 변속 모드를 변경할 수 있는 장점이 있다. 도 4는 본 발명의 일실시예에 따른 원통형 전자식 변속레버가 콘솔상에 형성된 모습을 나타낸 예시도이다.도 4에서 볼 수 있듯이, 본 발명은 종래의 돌출형 변속 레버와 달리 외관이 유려한 원통형 변속 레버(110)를 구비함으로써, 차량의 충돌시 인체에 상해를 가할 가능성을 저감시킬 수 있는 장점이 있다. 또한, 변속 레버의 사이즈를 자유로이 조절할 수 있기 때문에 콘솔상에 컵 홀더 등의 수납 공간을 더욱 확보할 수 있으며, 콘솔의 레이 아웃을 우수하게 함과 동시에 그 설계 자유도를 향상시키는 장점이 있다. 이상 본 발명의 구체적 실시형태와 관련하여 본 발명을 설명하였으나 이는 예시에 불과하며 본 발명은 이에 제한되지 않는다. 본 발명이 속하는 기술분야에서 통상의 지식을 가진 자는 본 발명의 범위를 벗어나지 않고 설명된 실시형태를 변경 또는 변형할 수 있으며, 본 발명의 기술사상과 아래에 기재될 특허청구범위의 균등범위 내에서 다양한 수정 및 변형이 가능하다.\\n[ 부호의 설명 ]\\n110: 변속 레버                     120: 변속 레버 지지부121: 이동판                        130: 변속모드 표시부140: 디스플레이 슬라이드           141: 슬라이드 이동 슬롯150: 지지롤러                      151: 지지롤러 이동 슬롯160: PCB                           170: 와이어'"
      ]
     },
     "execution_count": 72,
     "metadata": {},
     "output_type": "execute_result"
    }
   ],
   "source": [
    "train_data.loc[i].entire_text"
   ]
  },
  {
   "cell_type": "code",
   "execution_count": 73,
   "metadata": {},
   "outputs": [],
   "source": [
    "train_data['key_text']=train_data.entire_text.map(find_text)\n",
    "test_data['key_text']=test_data.entire_text.map(find_text)"
   ]
  },
  {
   "cell_type": "code",
   "execution_count": 74,
   "metadata": {},
   "outputs": [],
   "source": [
    "bf_ch = [\"│φ╣«\",\"╞»╟π╝╜╝╟╕╕\",\"╞»╟π└ⁿ├╝\"]\n",
    "af_ch = [\"논문\",\"특허섹션만\",\"특허전체\"]\n",
    "def rename_path(path):\n",
    "    for i in range(3):\n",
    "        path = path.replace(bf_ch[i], af_ch[i])\n",
    "    return [path]"
   ]
  },
  {
   "cell_type": "code",
   "execution_count": 75,
   "metadata": {},
   "outputs": [],
   "source": [
    "train_data['key_text'] = train_data.key_text.map(lambda x : rename_path(x))\n",
    "test_data['key_text'] = test_data.key_text.map(lambda x : rename_path(x))"
   ]
  },
  {
   "cell_type": "code",
   "execution_count": 76,
   "metadata": {},
   "outputs": [],
   "source": [
    "train_data.drop([\"section_text\",\"entire_text\"],axis=1,inplace=True)\n",
    "train_data.rename(columns={'key_text':'text'}, inplace=True)\n",
    "\n",
    "test_data.drop([\"section_text\",\"entire_text\"],axis=1,inplace=True)\n",
    "test_data.rename(columns={'key_text':'text'}, inplace=True)\n"
   ]
  },
  {
   "cell_type": "code",
   "execution_count": 77,
   "metadata": {},
   "outputs": [
    {
     "name": "stdout",
     "output_type": "stream",
     "text": [
      "text 평균 길이: 1.0\n",
      "text 중앙값 길이: 1.0\n",
      "text 최소 길이: 1\n",
      "text 최대 길이: 1\n"
     ]
    },
    {
     "data": {
      "image/png": "[encoded data removed]",
      "text/plain": [
       "<Figure size 432x288 with 1 Axes>"
      ]
     },
     "metadata": {
      "needs_background": "light"
     },
     "output_type": "display_data"
    }
   ],
   "source": [
    "print(\"text 평균 길이:\",train_data.text.map(len).mean())\n",
    "print(\"text 중앙값 길이:\",train_data.text.map(len).median())\n",
    "print(\"text 최소 길이:\",train_data.text.map(len).min())\n",
    "print(\"text 최대 길이:\",train_data.text.map(len).max())\n",
    "\n",
    "import matplotlib.pyplot as plt\n",
    "plt.hist(train_data.text.map(len),bins=50)\n",
    "plt.show()"
   ]
  },
  {
   "cell_type": "markdown",
   "metadata": {},
   "source": [
    "# csv file로 저장"
   ]
  },
  {
   "cell_type": "code",
   "execution_count": 51,
   "metadata": {},
   "outputs": [],
   "source": [
    "train_data.to_csv(\"train.csv\",encoding=\"utf-8\",index=False)\n",
    "test_data.to_csv(\"test.csv\",encoding=\"utf-8\",index=False)"
   ]
  },
  {
   "cell_type": "code",
   "execution_count": 37,
   "metadata": {},
   "outputs": [
    {
     "data": {
      "application/vnd.jupyter.widget-view+json": {
       "model_id": "e5b4c3acaa2843179798946c1084fe73",
       "version_major": 2,
       "version_minor": 0
      },
      "text/plain": [
       "Downloading:   0%|          | 0.00/2.58k [00:00<?, ?B/s]"
      ]
     },
     "metadata": {},
     "output_type": "display_data"
    },
    {
     "name": "stdout",
     "output_type": "stream",
     "text": [
      "Downloading and preparing dataset paper_summarization/patent Summarization to /opt/ml/.cache/huggingface/datasets/metamong1___paper_summarization/patent Summarization/1.0.0/6d8a2bc04c5f0e2df402564cc1b1e58eb3924094d21f9cf8f936f30cc9ab45a4...\n"
     ]
    },
    {
     "data": {
      "application/vnd.jupyter.widget-view+json": {
       "model_id": "aea03c796db0411eb529c84bab751229",
       "version_major": 2,
       "version_minor": 0
      },
      "text/plain": [
       "  0%|          | 0/2 [00:00<?, ?it/s]"
      ]
     },
     "metadata": {},
     "output_type": "display_data"
    },
    {
     "data": {
      "application/vnd.jupyter.widget-view+json": {
       "model_id": "2de6317b347b4359a231dace582e0813",
       "version_major": 2,
       "version_minor": 0
      },
      "text/plain": [
       "  0%|          | 0/2 [00:00<?, ?it/s]"
      ]
     },
     "metadata": {},
     "output_type": "display_data"
    },
    {
     "data": {
      "application/vnd.jupyter.widget-view+json": {
       "model_id": "b4ff1858e82d487d8954c3e8cd1d88cb",
       "version_major": 2,
       "version_minor": 0
      },
      "text/plain": [
       "0 examples [00:00, ? examples/s]"
      ]
     },
     "metadata": {},
     "output_type": "display_data"
    },
    {
     "data": {
      "application/vnd.jupyter.widget-view+json": {
       "model_id": "0d3964d3ec6846dcb4e0752dd1ffdb9a",
       "version_major": 2,
       "version_minor": 0
      },
      "text/plain": [
       "0 examples [00:00, ? examples/s]"
      ]
     },
     "metadata": {},
     "output_type": "display_data"
    },
    {
     "name": "stdout",
     "output_type": "stream",
     "text": [
      "Dataset paper_summarization downloaded and prepared to /opt/ml/.cache/huggingface/datasets/metamong1___paper_summarization/patent Summarization/1.0.0/6d8a2bc04c5f0e2df402564cc1b1e58eb3924094d21f9cf8f936f30cc9ab45a4. Subsequent calls will reuse this data.\n"
     ]
    },
    {
     "data": {
      "application/vnd.jupyter.widget-view+json": {
       "model_id": "b10845e0dc5f445e85876817c28e9c5d",
       "version_major": 2,
       "version_minor": 0
      },
      "text/plain": [
       "  0%|          | 0/2 [00:00<?, ?it/s]"
      ]
     },
     "metadata": {},
     "output_type": "display_data"
    }
   ],
   "source": [
    "# !rm -r ../../.cache/huggingface/datasets/*\n",
    "# !ls ../../.cache/huggingface/datasets/*\n",
    "from datasets import load_dataset\n",
    "patent_dataset = load_dataset(\"metamong1/patent_summarization\",use_auth_token=\"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\")"
   ]
  },
  {
   "cell_type": "code",
   "execution_count": 43,
   "metadata": {},
   "outputs": [
    {
     "data": {
      "text/plain": [
       "'본 발명은 정보 표시 장치에 관한 발명으로서, 더욱 상세하게는 정보 검출 대상체와 인력을 형성하여 부착되도록 하고, 부착된 정보 검출 대상체로부터 일정 정보를 검출하여 미리 설정된 표시 정보를 디스플레이하는 정보 표시 장치에 관한 것이다.'"
      ]
     },
     "execution_count": 43,
     "metadata": {},
     "output_type": "execute_result"
    }
   ],
   "source": [
    "patent_dataset['train'].to_pandas().text.map(eval)[0][0]"
   ]
  }
 ],
 "metadata": {
  "interpreter": {
   "hash": "9d4b788d31f1e8a98acbf5edfe42af7a280714d85bd73a1cdc11a1af0199f3f5"
  },
  "kernelspec": {
   "display_name": "Python 3 (ipykernel)",
   "language": "python",
   "name": "python3"
  },
  "language_info": {
   "codemirror_mode": {
    "name": "ipython",
    "version": 3
   },
   "file_extension": ".py",
   "mimetype": "text/x-python",
   "name": "python",
   "nbconvert_exporter": "python",
   "pygments_lexer": "ipython3",
   "version": "3.8.5"
  }
 },
 "nbformat": 4,
 "nbformat_minor": 4
}
