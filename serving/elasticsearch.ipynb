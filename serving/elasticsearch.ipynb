{
 "cells": [
  {
   "cell_type": "code",
   "execution_count": 32,
   "metadata": {},
   "outputs": [],
   "source": [
    "from elasticsearch import Elasticsearch, helpers\n",
    "from dotenv import load_dotenv\n",
    "import os\n",
    "import datasets\n",
    "load_dotenv(dotenv_path='elasticsearch.env')\n",
    "load_dotenv(dotenv_path='use_auth_token.env')\n",
    "username = os.getenv(\"username\") \n",
    "password = os.getenv('password')\n",
    "USE_AUTH_TOKEN = os.getenv('USE_AUTH_TOKEN')"
   ]
  },
  {
   "cell_type": "markdown",
   "metadata": {},
   "source": [
    "# 엘라스틱서치 연결"
   ]
  },
  {
   "cell_type": "code",
   "execution_count": 20,
   "metadata": {},
   "outputs": [],
   "source": [
    "es = Elasticsearch(['https://final-project.es.us-east4.gcp.elastic-cloud.com'], port=9243, http_auth=(username, password))"
   ]
  },
  {
   "cell_type": "code",
   "execution_count": 21,
   "metadata": {},
   "outputs": [
    {
     "data": {
      "text/plain": [
       "True"
      ]
     },
     "execution_count": 21,
     "metadata": {},
     "output_type": "execute_result"
    }
   ],
   "source": [
    "es.ping()"
   ]
  },
  {
   "cell_type": "code",
   "execution_count": null,
   "metadata": {},
   "outputs": [],
   "source": []
  },
  {
   "cell_type": "code",
   "execution_count": 68,
   "metadata": {},
   "outputs": [
    {
     "data": {
      "text/plain": [
       "{'acknowledged': True}"
      ]
     },
     "execution_count": 68,
     "metadata": {},
     "output_type": "execute_result"
    }
   ],
   "source": [
    "# 인덱스 삭제\n",
    "es.indices.delete(index='summarization', ignore=[400, 404])"
   ]
  },
  {
   "cell_type": "code",
   "execution_count": null,
   "metadata": {},
   "outputs": [],
   "source": [
    "# 인덱스 보기\n",
    "res = es.indices.get_alias(\"*\")\n",
    "for Name in res:\n",
    "    print(Name)"
   ]
  },
  {
   "cell_type": "markdown",
   "metadata": {},
   "source": [
    "# 허깅페이스 데이터셋 로드"
   ]
  },
  {
   "cell_type": "code",
   "execution_count": 58,
   "metadata": {},
   "outputs": [
    {
     "name": "stderr",
     "output_type": "stream",
     "text": [
      "Reusing dataset summarization (/opt/ml/.cache/huggingface/datasets/metamong1___summarization/Summarization/1.0.0/b7b9872b62b80260483449a5850c3d67183f4bff5922d808dca247085f550838)\n",
      "Reusing dataset summarization (/opt/ml/.cache/huggingface/datasets/metamong1___summarization/Summarization/1.0.0/b7b9872b62b80260483449a5850c3d67183f4bff5922d808dca247085f550838)\n",
      "Reusing dataset summarization (/opt/ml/.cache/huggingface/datasets/metamong1___summarization/Summarization/1.0.0/b7b9872b62b80260483449a5850c3d67183f4bff5922d808dca247085f550838)\n"
     ]
    }
   ],
   "source": [
    "train_dataset = datasets.load_dataset('metamong1/summarization', use_auth_token=USE_AUTH_TOKEN, split='train')\n",
    "test_dataset = datasets.load_dataset('metamong1/summarization', use_auth_token=USE_AUTH_TOKEN, split='test')\n",
    "validation_dataset = datasets.load_dataset('metamong1/summarization', use_auth_token=USE_AUTH_TOKEN, split='validation')"
   ]
  },
  {
   "cell_type": "code",
   "execution_count": 59,
   "metadata": {},
   "outputs": [],
   "source": [
    "total_dataset = datasets.concatenate_datasets([train_dataset, test_dataset, validation_dataset])"
   ]
  },
  {
   "cell_type": "code",
   "execution_count": 60,
   "metadata": {},
   "outputs": [
    {
     "data": {
      "text/plain": [
       "Dataset({\n",
       "    features: ['doc_id', 'title', 'text', 'doc_type', 'file'],\n",
       "    num_rows: 275219\n",
       "})"
      ]
     },
     "execution_count": 60,
     "metadata": {},
     "output_type": "execute_result"
    }
   ],
   "source": [
    "train_dataset"
   ]
  },
  {
   "cell_type": "code",
   "execution_count": 61,
   "metadata": {},
   "outputs": [
    {
     "data": {
      "text/plain": [
       "Dataset({\n",
       "    features: ['doc_id', 'title', 'text', 'doc_type', 'file'],\n",
       "    num_rows: 458699\n",
       "})"
      ]
     },
     "execution_count": 61,
     "metadata": {},
     "output_type": "execute_result"
    }
   ],
   "source": [
    "total_dataset"
   ]
  },
  {
   "cell_type": "markdown",
   "metadata": {},
   "source": [
    "# Elasticsearch 세팅 및 업로드 데이터"
   ]
  },
  {
   "cell_type": "code",
   "execution_count": 97,
   "metadata": {},
   "outputs": [],
   "source": [
    "CONFIG = {\n",
    "  'settings':{\n",
    "    'number_of_shards':1,\n",
    "    'number_of_replicas':1,\n",
    "    'analysis':{\n",
    "      'analyzer': {\n",
    "        'nori_analyzer':{\n",
    "          'type': 'custom',\n",
    "          'tokenizer': 'nori_tokenizer'\n",
    "        }\n",
    "      },\n",
    "    }\n",
    "  },\n",
    "  'mappings':{\n",
    "    'properties':{\n",
    "      'title':{\n",
    "        'type':'text',\n",
    "        \"analyzer\": \"nori_analyzer\"\n",
    "      },\n",
    "      'text':{\n",
    "        'type':'text',\n",
    "        \"analyzer\": \"nori_analyzer\"\n",
    "      },\n",
    "      'doc_type':{\n",
    "        'type':'text',\n",
    "      }\n",
    "    }\n",
    "  }\n",
    "}"
   ]
  },
  {
   "cell_type": "code",
   "execution_count": 99,
   "metadata": {},
   "outputs": [
    {
     "name": "stderr",
     "output_type": "stream",
     "text": [
      "/tmp/ipykernel_3156/1409656848.py:1: DeprecationWarning: The 'body' parameter is deprecated for the 'create' API and will be removed in a future version. Instead use API parameters directly. See https://github.com/elastic/elasticsearch-py/issues/1698 for more information\n",
      "  es.indices.create(index='summarization_nori', body=CONFIG)\n"
     ]
    },
    {
     "data": {
      "text/plain": [
       "{'acknowledged': True,\n",
       " 'shards_acknowledged': True,\n",
       " 'index': 'summarization_nori'}"
      ]
     },
     "execution_count": 99,
     "metadata": {},
     "output_type": "execute_result"
    }
   ],
   "source": [
    "es.indices.create(index='summarization_nori', body=CONFIG)"
   ]
  },
  {
   "cell_type": "code",
   "execution_count": 101,
   "metadata": {},
   "outputs": [],
   "source": [
    "def generator(dataset):\n",
    "    for i, data in enumerate(dataset):\n",
    "        yield {\n",
    "            '_index': 'summarization_nori',\n",
    "            '_type': '_doc',\n",
    "            '_id': i,\n",
    "            '_source': {\n",
    "                'title': data.get('title', ''),\n",
    "                'text': data.get('text', ''),\n",
    "                'doc_type': data.get('doc_type', '')\n",
    "            }\n",
    "        }\n",
    "    print(i)\n",
    "    raise StopIteration"
   ]
  },
  {
   "cell_type": "code",
   "execution_count": 102,
   "metadata": {},
   "outputs": [],
   "source": [
    "rest_dataset = total_dataset[-198:]\n",
    "gen_total = generator(total_dataset)\n",
    "gen_rest = generator(rest_dataset)"
   ]
  },
  {
   "cell_type": "code",
   "execution_count": 103,
   "metadata": {},
   "outputs": [
    {
     "name": "stderr",
     "output_type": "stream",
     "text": [
      "/opt/conda/envs/final/lib/python3.8/site-packages/elasticsearch/connection/base.py:200: ElasticsearchWarning: [types removal] Specifying types in bulk requests is deprecated.\n",
      "  warnings.warn(message, category=ElasticsearchWarning)\n"
     ]
    },
    {
     "name": "stdout",
     "output_type": "stream",
     "text": [
      "458698\n",
      "generator raised StopIteration\n",
      "Done\n"
     ]
    }
   ],
   "source": [
    "try:\n",
    "    res = helpers.bulk(es, gen_total, chunk_size = 500, request_timeout=60)\n",
    "except Exception as e:\n",
    "    print(e)\n",
    "    print('Done')"
   ]
  },
  {
   "cell_type": "code",
   "execution_count": 104,
   "metadata": {},
   "outputs": [
    {
     "data": {
      "text/plain": [
       "{'count': 458500,\n",
       " '_shards': {'total': 1, 'successful': 1, 'skipped': 0, 'failed': 0}}"
      ]
     },
     "execution_count": 104,
     "metadata": {},
     "output_type": "execute_result"
    }
   ],
   "source": [
    "es.count(index='summarization_nori')"
   ]
  },
  {
   "cell_type": "code",
   "execution_count": 43,
   "metadata": {},
   "outputs": [],
   "source": [
    "try:\n",
    "    res = helpers.bulk(es, gen_rest, chunk_size = 1)\n",
    "except Exception as e:\n",
    "    print(e)\n",
    "    print('Done')"
   ]
  },
  {
   "cell_type": "code",
   "execution_count": 121,
   "metadata": {},
   "outputs": [
    {
     "name": "stderr",
     "output_type": "stream",
     "text": [
      "/tmp/ipykernel_3156/2846053363.py:1: DeprecationWarning: The 'body' parameter is deprecated for the 'search' API and will be removed in a future version. Instead use API parameters directly. See https://github.com/elastic/elasticsearch-py/issues/1698 for more information\n",
      "  result = es.search(index='summarization_nori', body={'size':3, 'query':{'match':{'text':'''특혜 의혹을 받는 대장동 개발사업의 주무 부서장을 맡아 수사 기관의 조사를 받아오다 어제(21일) 숨진채 발견된숨진 채 성남도시개발공사(이하 성남도개공) 김문기 개발1처장의 유족은 오늘 \"고인은 실무자였을 뿐\"이라며 억울함을 주장했습니다.\n"
     ]
    }
   ],
   "source": [
    "result = es.search(index='summarization_nori', body={'size':3, 'query':{'match':{'text':'''특혜 의혹을 받는 대장동 개발사업의 주무 부서장을 맡아 수사 기관의 조사를 받아오다 어제(21일) 숨진채 발견된숨진 채 성남도시개발공사(이하 성남도개공) 김문기 개발1처장의 유족은 오늘 \"고인은 실무자였을 뿐\"이라며 억울함을 주장했습니다.\n",
    "\n",
    "김 처장의 동생 A씨는 오늘 김 처장의 빈소가 마련된 성남시 분당서울대병원 장례식장에서 기자회견을 열어 \"부서장이라고 하더라도 위에 결정권자 없이는 (사업을 추진할) 힘이 없다\"며 이같이 말했습니다.\n",
    "\n",
    "김 처장이 숨지기 하루 전 함께 점심을 먹었다고 밝힌 A씨는 \"당시 형에게 밥을 떠먹여 줘야 했을 정도로 몸 상태가 매우 좋지 않았다\"고 전했습니다.\n",
    "'''}}})['hits']['hits'][0]['_source']['title']\n",
    "\n",
    "\n",
    "\n",
    "# 송영길 \"김건희, 尹에 반말하는 실세\"→ 野 \"김혜경도 이재명에 반말, 트집도\""
   ]
  },
  {
   "cell_type": "code",
   "execution_count": 122,
   "metadata": {},
   "outputs": [
    {
     "data": {
      "text/plain": [
       "'靑인사 `안 보인다` 지적에...뒤늦게 사망 특감반원 장례식장 찾은 김조원 민정수석'"
      ]
     },
     "execution_count": 122,
     "metadata": {},
     "output_type": "execute_result"
    }
   ],
   "source": [
    "result"
   ]
  },
  {
   "cell_type": "code",
   "execution_count": null,
   "metadata": {},
   "outputs": [],
   "source": []
  },
  {
   "cell_type": "code",
   "execution_count": null,
   "metadata": {},
   "outputs": [],
   "source": []
  },
  {
   "cell_type": "code",
   "execution_count": null,
   "metadata": {},
   "outputs": [],
   "source": []
  },
  {
   "cell_type": "code",
   "execution_count": null,
   "metadata": {},
   "outputs": [],
   "source": []
  }
 ],
 "metadata": {
  "interpreter": {
   "hash": "981f108a204f421f158e0977940335d851edffa6dd3586828a3e1aec045160e4"
  },
  "kernelspec": {
   "display_name": "Python 3.8.5 64-bit ('final': conda)",
   "language": "python",
   "name": "python3"
  },
  "language_info": {
   "codemirror_mode": {
    "name": "ipython",
    "version": 3
   },
   "file_extension": ".py",
   "mimetype": "text/x-python",
   "name": "python",
   "nbconvert_exporter": "python",
   "pygments_lexer": "ipython3",
   "version": "3.8.5"
  },
  "orig_nbformat": 4
 },
 "nbformat": 4,
 "nbformat_minor": 2
}
