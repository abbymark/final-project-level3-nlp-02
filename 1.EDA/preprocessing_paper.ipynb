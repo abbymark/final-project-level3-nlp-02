{
 "cells": [
  {
   "cell_type": "code",
   "execution_count": 2,
   "source": [
    "import os\n",
    "import sys\n",
    "import re\n",
    "import json\n",
    "from datasets import (load_dataset, \n",
    "    load_from_disk,\n",
    "    Dataset,\n",
    "    DatasetDict,\n",
    "    Value,\n",
    "    Features\n",
    ")"
   ],
   "outputs": [],
   "metadata": {}
  },
  {
   "cell_type": "code",
   "execution_count": 3,
   "source": [
    "import torch\n",
    "import random\n",
    "import pandas as pd\n",
    "import numpy as np\n",
    "import collections\n",
    "import matplotlib.pyplot as plt"
   ],
   "outputs": [],
   "metadata": {}
  },
  {
   "cell_type": "code",
   "execution_count": 4,
   "source": [
    "from transformers import AutoTokenizer\n",
    "from tqdm.notebook import tqdm"
   ],
   "outputs": [],
   "metadata": {}
  },
  {
   "cell_type": "markdown",
   "source": [
    "## Paper Dataset"
   ],
   "metadata": {}
  },
  {
   "cell_type": "code",
   "execution_count": 5,
   "source": [
    "paper_dataset = load_dataset('metamong1/summarization_paper', \n",
    "    download_mode='force_redownload',\n",
    "    use_auth_token='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')"
   ],
   "outputs": [
    {
     "output_type": "stream",
     "name": "stdout",
     "text": [
      "Downloading and preparing dataset paper_summarization/Paper Summarization (download: 294.15 MiB, generated: 155.81 MiB, post-processed: Unknown size, total: 449.96 MiB) to /opt/ml/.cache/huggingface/datasets/metamong1___paper_summarization/Paper Summarization/2.2.0/46d835d4e22daa3a5a46d13de39e3d75f6c2eaef5ead153d48cbe8d7cd3bec9c...\n"
     ]
    },
    {
     "output_type": "display_data",
     "data": {
      "text/plain": [
       "  0%|          | 0/2 [00:00<?, ?it/s]"
      ],
      "application/vnd.jupyter.widget-view+json": {
       "version_major": 2,
       "version_minor": 0,
       "model_id": "164d264316ee431ea3db7921f63c79f4"
      }
     },
     "metadata": {}
    },
    {
     "output_type": "display_data",
     "data": {
      "text/plain": [
       "Downloading:   0%|          | 0.00/247M [00:00<?, ?B/s]"
      ],
      "application/vnd.jupyter.widget-view+json": {
       "version_major": 2,
       "version_minor": 0,
       "model_id": "b2662f4f218b49f1aaf63da08dd16269"
      }
     },
     "metadata": {}
    },
    {
     "output_type": "display_data",
     "data": {
      "text/plain": [
       "Downloading:   0%|          | 0.00/61.5M [00:00<?, ?B/s]"
      ],
      "application/vnd.jupyter.widget-view+json": {
       "version_major": 2,
       "version_minor": 0,
       "model_id": "064a7a6a28fe4a9c9586ab134324eccb"
      }
     },
     "metadata": {}
    },
    {
     "output_type": "display_data",
     "data": {
      "text/plain": [
       "  0%|          | 0/2 [00:00<?, ?it/s]"
      ],
      "application/vnd.jupyter.widget-view+json": {
       "version_major": 2,
       "version_minor": 0,
       "model_id": "67dce90c658e45b5a30b7623b191698d"
      }
     },
     "metadata": {}
    },
    {
     "output_type": "display_data",
     "data": {
      "text/plain": [
       "0 examples [00:00, ? examples/s]"
      ],
      "application/vnd.jupyter.widget-view+json": {
       "version_major": 2,
       "version_minor": 0,
       "model_id": "ce8f085e91ba44e2b7ee5144b598065e"
      }
     },
     "metadata": {}
    },
    {
     "output_type": "display_data",
     "data": {
      "text/plain": [
       "0 examples [00:00, ? examples/s]"
      ],
      "application/vnd.jupyter.widget-view+json": {
       "version_major": 2,
       "version_minor": 0,
       "model_id": "dcf89c898fe04d77b9c7165619b41527"
      }
     },
     "metadata": {}
    },
    {
     "output_type": "stream",
     "name": "stdout",
     "text": [
      "Dataset paper_summarization downloaded and prepared to /opt/ml/.cache/huggingface/datasets/metamong1___paper_summarization/Paper Summarization/2.2.0/46d835d4e22daa3a5a46d13de39e3d75f6c2eaef5ead153d48cbe8d7cd3bec9c. Subsequent calls will reuse this data.\n"
     ]
    },
    {
     "output_type": "display_data",
     "data": {
      "text/plain": [
       "  0%|          | 0/2 [00:00<?, ?it/s]"
      ],
      "application/vnd.jupyter.widget-view+json": {
       "version_major": 2,
       "version_minor": 0,
       "model_id": "16a4d735349f4e1d92749093b68a699b"
      }
     },
     "metadata": {}
    }
   ],
   "metadata": {}
  },
  {
   "cell_type": "markdown",
   "source": [
    "## Check Dataset"
   ],
   "metadata": {}
  },
  {
   "cell_type": "code",
   "execution_count": 6,
   "source": [
    "train_data = paper_dataset['train']\n",
    "train_titles = [paper['title'] for paper in train_data]\n",
    "train_docs = [paper['text'] for paper in train_data]"
   ],
   "outputs": [],
   "metadata": {}
  },
  {
   "cell_type": "code",
   "execution_count": 7,
   "source": [
    "target_comp = re.compile('[\\u4e00-\\u9fffA-Za-z]')"
   ],
   "outputs": [],
   "metadata": {}
  },
  {
   "cell_type": "code",
   "execution_count": 8,
   "source": [
    "def check_title(title) :\n",
    "    title = re.sub('\\s+', '', title)\n",
    "    target_chars = target_comp.findall(title)\n",
    "\n",
    "    target_rate = len(target_chars) / len(title)\n",
    "    return True if target_rate >= 0.1 else False "
   ],
   "outputs": [],
   "metadata": {}
  },
  {
   "cell_type": "code",
   "execution_count": 9,
   "source": [
    "target_titles = [title for title in train_titles if check_title(title)] \n",
    "print('Size : %d' %len(target_titles))"
   ],
   "outputs": [
    {
     "output_type": "stream",
     "name": "stdout",
     "text": [
      "Size : 12429\n"
     ]
    }
   ],
   "metadata": {}
  },
  {
   "cell_type": "code",
   "execution_count": 10,
   "source": [
    "target_titles[:10]"
   ],
   "outputs": [
    {
     "output_type": "execute_result",
     "data": {
      "text/plain": [
       "['스웨덴 지역환경정책 거버넌스의 변화와 특징 연구 -지방의제21(LA21), 녹색성장 지역투자프로그램(LIP), 기후변화투자프로그램(Klimp)의 사례-',\n",
       " 'DHCP를 이용한 악성 봇 치료 기법',\n",
       " '백수오, 우엉, 마 추출물 혼합비율에 따른 혈관부착인자 VCAM-1의발현억제 효과',\n",
       " '일본 국⋅공립학교 IBDP 교육과정 운영 현황 분석 및 시사점 탐구',\n",
       " '도애 홍석모의 금강산 유기, 『간관록』 일고 (陶厓 洪錫謨의 금강산 유기, 『艮觀錄』 一考)',\n",
       " 'HEVC 스트림 상에서의 객체 추적 방법',\n",
       " '국제사법재판소의 남극해 포경 사건(Whaling in Antarctic)에서의 판단의 재량 이론 -판단의 재량 이론의 적용과 그 제한원리로서의합리성 기준 적용을 중심으로-',\n",
       " '충전형 FRP 합성박스 모듈의 압축파괴 거동 분석',\n",
       " '스마트교육 확산에 따른 국내 BYOD 정책방안 연구- 미국사례 분석을 중심으로 -',\n",
       " 'PFM/PWM 듀얼 모드 피드백 기반 LED BLU 구동용 LLC 공진 변환 제어 IC 설계']"
      ]
     },
     "metadata": {},
     "execution_count": 10
    }
   ],
   "metadata": {}
  },
  {
   "cell_type": "markdown",
   "source": [
    "### 괄호 제거"
   ],
   "metadata": {}
  },
  {
   "cell_type": "code",
   "execution_count": 11,
   "source": [
    "title = '대학교 한자․한문 교육에서의 영역본 경서 활용 방안 - 제임스 레게(James Legge)의 ‘사서 영역본’을 중심으로- (대학교 漢字․漢文 교육에서의 英譯本...'\n",
    "title = re.sub('\\.{3}', ')' , title)\n",
    "title = re.sub(r\"\\([^)]+\\)\", '', title)\n",
    "print(title)"
   ],
   "outputs": [
    {
     "output_type": "stream",
     "name": "stdout",
     "text": [
      "대학교 한자․한문 교육에서의 영역본 경서 활용 방안 - 제임스 레게의 ‘사서 영역본’을 중심으로- \n"
     ]
    }
   ],
   "metadata": {}
  },
  {
   "cell_type": "code",
   "execution_count": 12,
   "source": [
    "non_completed_titles = [title for title in train_titles if  '(' in title and ')' not in title ]"
   ],
   "outputs": [],
   "metadata": {}
  },
  {
   "cell_type": "code",
   "execution_count": 13,
   "source": [
    "non_completed_titles[:5]"
   ],
   "outputs": [
    {
     "output_type": "execute_result",
     "data": {
      "text/plain": [
       "['심의린의 『조선동화대집』에 나타난 우의의 유형과 그 의미 ( 沈宜麟의',\n",
       " '세계문학의 탄생과 『청춘』의 문학적 기획 ( 세계문학의 탄생과 『 靑春',\n",
       " '한문교육용 기초한자 자의의 문제점과 대표자의 선정 방안 ( 한문교육용',\n",
       " '애사기의 『대중철학』과 마르크스주의철학의 대중화 ( 艾思奇의 『 대중',\n",
       " '한국정치사상의 원형 탐구 — &lt;삼국사기&gt;와 &lt;삼국유사&gt;를 중심으로 — (']"
      ]
     },
     "metadata": {},
     "execution_count": 13
    }
   ],
   "metadata": {}
  },
  {
   "cell_type": "code",
   "execution_count": 14,
   "source": [
    "title = '성인의 심폐체력 수준 : 2014 년- 2015 년 Korea Institute of Sports Science Fitness Standa'"
   ],
   "outputs": [],
   "metadata": {}
  },
  {
   "cell_type": "code",
   "execution_count": 15,
   "source": [
    "kor_range = range(ord('가'), ord('힣')+1)\n",
    "\n",
    "def remove_en(title) :\n",
    "    for i in range(len(title)-1, 0, -1) :\n",
    "        ch = title[i]\n",
    "        if ord(ch) in kor_range :\n",
    "            break\n",
    "    return title[:i+1]\n",
    "    "
   ],
   "outputs": [],
   "metadata": {}
  },
  {
   "cell_type": "code",
   "execution_count": 16,
   "source": [
    "remove_en(title)"
   ],
   "outputs": [
    {
     "output_type": "execute_result",
     "data": {
      "text/plain": [
       "'성인의 심폐체력 수준 : 2014 년- 2015 년'"
      ]
     },
     "metadata": {},
     "execution_count": 16
    }
   ],
   "metadata": {}
  },
  {
   "cell_type": "markdown",
   "source": [
    "## 특수문자 제거"
   ],
   "metadata": {}
  },
  {
   "cell_type": "code",
   "execution_count": 17,
   "source": [
    "jpn_comp = re.compile('[\\u3040-\\u30ff]') # 일본어\n",
    "kor_comp = re.compile('[\\uac00-\\ud7af]') # 한국어\n",
    "chn_comp = re.compile('[\\u4e00-\\u9fff]') # 한자\n",
    "sym_comp = re.compile('[\\u0000-\\u007f\\u2000-\\u206f]') # 기본 문자, 구두점\n",
    "geo_comp = re.compile('[\\u25a0-\\u25ff]') # 기호"
   ],
   "outputs": [],
   "metadata": {}
  },
  {
   "cell_type": "code",
   "execution_count": 18,
   "source": [
    "outrange_exp = re.compile('[^\\u3040-\\u30ff\\\n",
    "    \\uac00-\\ud7af\\\n",
    "    \\u4e00-\\u9fff\\\n",
    "    \\u3400-\\u4dbf\\\n",
    "    \\u0000-\\u007f\\\n",
    "    \\u2000-\\u206f\\\n",
    "    \\u3000-\\u303f\\\n",
    "    \\u25a0-\\u25ff]')"
   ],
   "outputs": [],
   "metadata": {}
  },
  {
   "cell_type": "code",
   "execution_count": 19,
   "source": [
    "outrange_docs = [docs for docs in train_docs if outrange_exp.search(docs) != None]\n",
    "print('Size : %d' %len(outrange_docs))"
   ],
   "outputs": [
    {
     "output_type": "stream",
     "name": "stdout",
     "text": [
      "Size : 19274\n"
     ]
    }
   ],
   "metadata": {}
  },
  {
   "cell_type": "code",
   "execution_count": 20,
   "source": [
    "rare_chars = collections.Counter()\n",
    "\n",
    "for doc in tqdm(outrange_docs) :\n",
    "    char_list = outrange_exp.findall(doc)\n",
    "    rare_chars.update(char_list)"
   ],
   "outputs": [
    {
     "output_type": "display_data",
     "data": {
      "text/plain": [
       "  0%|          | 0/19274 [00:00<?, ?it/s]"
      ],
      "application/vnd.jupyter.widget-view+json": {
       "version_major": 2,
       "version_minor": 0,
       "model_id": "925993525c834b5d9928aeb5bbef158c"
      }
     },
     "metadata": {}
    }
   ],
   "metadata": {}
  },
  {
   "cell_type": "code",
   "execution_count": 21,
   "source": [
    "print('Size : %d' %len(rare_chars))"
   ],
   "outputs": [
    {
     "output_type": "stream",
     "name": "stdout",
     "text": [
      "Size : 704\n"
     ]
    }
   ],
   "metadata": {}
  },
  {
   "cell_type": "code",
   "execution_count": 22,
   "source": [
    "char_items = sorted(rare_chars.items(), key=lambda x : x[1], reverse=True)"
   ],
   "outputs": [],
   "metadata": {}
  },
  {
   "cell_type": "code",
   "execution_count": 32,
   "source": [
    "char_items[:10]"
   ],
   "outputs": [
    {
     "output_type": "execute_result",
     "data": {
      "text/plain": [
       "[('·', 31587),\n",
       " ('±', 2253),\n",
       " ('→', 1059),\n",
       " ('μ', 995),\n",
       " ('－', 929),\n",
       " ('ㆍ', 885),\n",
       " ('×', 794),\n",
       " ('℃', 761),\n",
       " ('②', 753),\n",
       " ('①', 744)]"
      ]
     },
     "metadata": {},
     "execution_count": 32
    }
   ],
   "metadata": {}
  },
  {
   "cell_type": "markdown",
   "source": [
    "## Tokenizer"
   ],
   "metadata": {}
  },
  {
   "cell_type": "code",
   "execution_count": 24,
   "source": [
    "tokenizer = AutoTokenizer.from_pretrained('klue/roberta-large')"
   ],
   "outputs": [],
   "metadata": {}
  },
  {
   "cell_type": "markdown",
   "source": [
    "## Preprocssing"
   ],
   "metadata": {}
  },
  {
   "cell_type": "code",
   "execution_count": 25,
   "source": [
    "from abc import *"
   ],
   "outputs": [],
   "metadata": {}
  },
  {
   "cell_type": "code",
   "execution_count": 26,
   "source": [
    "class Preprocessor(metaclass=ABCMeta) :\n",
    "    def __init__(self ) :\n",
    "        # 일본어, 한국어, 한자, 기본 문자, 구두점, 문장 기호\n",
    "        self.outrange_comp = re.compile('[^\\u3040-\\u30ff\\\n",
    "            \\uac00-\\ud7af\\\n",
    "            \\uac00-\\ud7af\\\n",
    "            \\u4e00-\\u9fff\\\n",
    "            \\u0000-\\u007f\\\n",
    "            \\u2000-\\u206f\\\n",
    "            \\u25a0-\\u25ff]') \n",
    "\n",
    "    @abstractmethod\n",
    "    def for_train(self, data) :\n",
    "        pass\n",
    "\n",
    "    @abstractmethod\n",
    "    def for_test(self, data) :\n",
    "        pass\n",
    "\n",
    "    def check_keys(self, data) :\n",
    "        if 'text' not in data.keys() or 'title' not in data.keys() :\n",
    "            raise KeyError('Wrong Data keys')\n",
    "\n",
    "    def doc_preprocess(self, txt) :\n",
    "        txt = self.outrange_comp.sub(' ', txt)\n",
    "        return txt"
   ],
   "outputs": [],
   "metadata": {}
  },
  {
   "cell_type": "code",
   "execution_count": 27,
   "source": [
    "class PaperPreprocessor(Preprocessor) :\n",
    "    def __init__(self) :\n",
    "        super().__init__()\n",
    "        self.bracket_comp = re.compile(r\"\\([^)]+\\)\")\n",
    "        self.kor_range = range(ord('가'), ord('힣')+1)\n",
    "\n",
    "    def for_train(self, data) :\n",
    "        self.check_keys(data)\n",
    "        title = data['title'] # title preprocessing\n",
    "        title = self.add_bracket(title)\n",
    "        title = self.bracket_comp.sub(' ', title)\n",
    "        title = self.remove_descript(title)\n",
    "        title = self.doc_preprocess(title)\n",
    "        title = self.strip(title)\n",
    "\n",
    "        text = data['text'] # text preprocessing\n",
    "        text = self.bracket_comp.sub(' ', text)\n",
    "        text = self.doc_preprocess(text)\n",
    "        text = self.strip(text)\n",
    "\n",
    "        data['text'] = text \n",
    "        data['title'] = title\n",
    "        return data\n",
    "\n",
    "    def for_test(self, data) :\n",
    "        self.check_keys(data)\n",
    "        text = data['text']\n",
    "        text = self.bracket_comp.sub(' ', text)\n",
    "        text = self.doc_preprocess(text)\n",
    "        text = self.strip(text)\n",
    "        data['text'] = text \n",
    "        return data\n",
    "\n",
    "    def add_bracket(self, title) :\n",
    "        if '(' in title and ')' not in title :\n",
    "            return title + ')'\n",
    "        else :\n",
    "            return title\n",
    "\n",
    "    def remove_descript(self, title) :\n",
    "        for i in range(len(title)-1, 0, -1) :\n",
    "            ch = title[i]\n",
    "            if ord(ch) in kor_range :\n",
    "                break\n",
    "        return title[:i+1]\n",
    "\n",
    "    def strip(self, txt) :\n",
    "        txt = re.sub('\\s+' , ' ', txt) \n",
    "        return txt.strip()\n",
    "      "
   ],
   "outputs": [],
   "metadata": {}
  },
  {
   "cell_type": "code",
   "execution_count": 28,
   "source": [
    "preprocessor = PaperPreprocessor()"
   ],
   "outputs": [],
   "metadata": {}
  },
  {
   "cell_type": "code",
   "execution_count": 29,
   "source": [
    "dataset = paper_dataset.map(preprocessor.for_train)"
   ],
   "outputs": [
    {
     "output_type": "stream",
     "name": "stderr",
     "text": [
      "Parameter 'function'=<function PaperPreprocessor.for_train at 0x7f5ec70acdc0> of the transform datasets.arrow_dataset.Dataset._map_single couldn't be hashed properly, a random hash was used instead. Make sure your transforms and parameters are serializable with pickle or dill for the dataset fingerprinting and caching to work. If you reuse this transform, the caching mechanism will consider it to be different from the previous calls and recompute everything. This warning is only showed once. Subsequent hashing failures won't be showed.\n"
     ]
    },
    {
     "output_type": "display_data",
     "data": {
      "text/plain": [
       "  0%|          | 0/73640 [00:00<?, ?ex/s]"
      ],
      "application/vnd.jupyter.widget-view+json": {
       "version_major": 2,
       "version_minor": 0,
       "model_id": "8f2b93b386b44fc89f1e57cae8695a77"
      }
     },
     "metadata": {}
    },
    {
     "output_type": "display_data",
     "data": {
      "text/plain": [
       "  0%|          | 0/18411 [00:00<?, ?ex/s]"
      ],
      "application/vnd.jupyter.widget-view+json": {
       "version_major": 2,
       "version_minor": 0,
       "model_id": "1eb5f098df8d46b7b02c8cbbb7181d7a"
      }
     },
     "metadata": {}
    }
   ],
   "metadata": {}
  },
  {
   "cell_type": "code",
   "execution_count": 30,
   "source": [
    "train_data = dataset['train']"
   ],
   "outputs": [],
   "metadata": {}
  },
  {
   "cell_type": "markdown",
   "source": [
    "## UNK Tokens"
   ],
   "metadata": {}
  },
  {
   "cell_type": "code",
   "execution_count": 33,
   "source": [
    "docs = [data['text'] for data in train_data]\n",
    "titles = [data['title'] for data in train_data]"
   ],
   "outputs": [],
   "metadata": {}
  },
  {
   "cell_type": "code",
   "execution_count": 40,
   "source": [
    "unk_counts = []"
   ],
   "outputs": [],
   "metadata": {}
  },
  {
   "cell_type": "code",
   "execution_count": 41,
   "source": [
    "for doc in tqdm(docs) :\n",
    "    ids = tokenizer.encode(doc)\n",
    "    unk_vector = (np.array(ids) == tokenizer.unk_token_id).astype('float')\n",
    "    count = np.sum(unk_vector)\n",
    "    unk_counts.append(count)"
   ],
   "outputs": [
    {
     "output_type": "display_data",
     "data": {
      "text/plain": [
       "  0%|          | 0/73640 [00:00<?, ?it/s]"
      ],
      "application/vnd.jupyter.widget-view+json": {
       "version_major": 2,
       "version_minor": 0,
       "model_id": "e26ce916499e4a8d99554e85b62cc6de"
      }
     },
     "metadata": {}
    },
    {
     "output_type": "stream",
     "name": "stderr",
     "text": [
      "Token indices sequence length is longer than the specified maximum sequence length for this model (668 > 512). Running this sequence through the model will result in indexing errors\n"
     ]
    }
   ],
   "metadata": {}
  },
  {
   "cell_type": "code",
   "execution_count": 42,
   "source": [
    "base_data = paper_dataset['train']\n",
    "base_titles = [paper['title'] for paper in base_data]\n",
    "base_docs = [paper['text'] for paper in base_data]"
   ],
   "outputs": [],
   "metadata": {}
  },
  {
   "cell_type": "code",
   "execution_count": 43,
   "source": [
    "unk_counts_before = []"
   ],
   "outputs": [],
   "metadata": {}
  },
  {
   "cell_type": "code",
   "execution_count": 44,
   "source": [
    "for doc in tqdm(base_docs) :\n",
    "    ids = tokenizer.encode(doc)\n",
    "    unk_vector = (np.array(ids) == tokenizer.unk_token_id).astype('float')\n",
    "    count = np.sum(unk_vector)\n",
    "    unk_counts_before.append(count)"
   ],
   "outputs": [
    {
     "output_type": "display_data",
     "data": {
      "text/plain": [
       "  0%|          | 0/73640 [00:00<?, ?it/s]"
      ],
      "application/vnd.jupyter.widget-view+json": {
       "version_major": 2,
       "version_minor": 0,
       "model_id": "89c14a1d25d748d692fd904605ff7ffc"
      }
     },
     "metadata": {}
    }
   ],
   "metadata": {}
  },
  {
   "cell_type": "code",
   "execution_count": 46,
   "source": [
    "plt.figure(figsize = (8,6))\n",
    "plt.hist(unk_counts, bins=100, color='orange', label='preprocessed', alpha=0.5)\n",
    "plt.hist(unk_counts_before, bins=100, color='blue', label='raw', alpha=0.5)\n",
    "plt.legend()\n",
    "plt.show()"
   ],
   "outputs": [
    {
     "output_type": "display_data",
     "data": {
      "text/plain": [
       "<Figure size 576x432 with 1 Axes>"
      ],
      "image/svg+xml": "<?xml version=\"1.0\" encoding=\"utf-8\" standalone=\"no\"?>\n<!DOCTYPE svg PUBLIC \"-//W3C//DTD SVG 1.1//EN\"\n  \"http://www.w3.org/Graphics/SVG/1.1/DTD/svg11.dtd\">\n<svg xmlns:xlink=\"http://www.w3.org/1999/xlink\" width=\"504.311708pt\" height=\"357.238125pt\" viewBox=\"0 0 504.311708 357.238125\" xmlns=\"http://www.w3.org/2000/svg\" version=\"1.1\">\n <metadata>\n  <rdf:RDF xmlns:dc=\"http://purl.org/dc/elements/1.1/\" xmlns:cc=\"http://creativecommons.org/ns#\" xmlns:rdf=\"http://www.w3.org/1999/02/22-rdf-syntax-ns#\">\n   <cc:Work>\n    <dc:type rdf:resource=\"http://purl.org/dc/dcmitype/StillImage\"/>\n    <dc:date>2021-11-30T18:44:15.941654</dc:date>\n    <dc:format>image/svg+xml</dc:format>\n    <dc:creator>\n     <cc:Agent>\n      <dc:title>Matplotlib v3.5.0, https://matplotlib.org/</dc:title>\n     </cc:Agent>\n    </dc:creator>\n   </cc:Work>\n  </rdf:RDF>\n </metadata>\n <defs>\n  <style type=\"text/css\">*{stroke-linejoin: round; stroke-linecap: butt}</style>\n </defs>\n <g id=\"figure_1\">\n  <g id=\"patch_1\">\n   <path d=\"M 0 357.238125 \nL 504.311708 357.238125 \nL 504.311708 0 \nL 0 0 \nL 0 357.238125 \nz\n\" style=\"fill: none\"/>\n  </g>\n  <g id=\"axes_1\">\n   <g id=\"patch_2\">\n    <path d=\"M 46.0125 333.36 \nL 492.4125 333.36 \nL 492.4125 7.2 \nL 46.0125 7.2 \nz\n\" style=\"fill: #ffffff\"/>\n   </g>\n   <g id=\"patch_3\">\n    <path d=\"M 66.303409 333.36 \nL 68.98546 333.36 \nL 68.98546 22.731429 \nL 66.303409 22.731429 \nz\n\" clip-path=\"url(#p43a8b6ce32)\" style=\"fill: #ffa500; opacity: 0.5\"/>\n   </g>\n   <g id=\"patch_4\">\n    <path d=\"M 68.98546 333.36 \nL 71.667511 333.36 \nL 71.667511 328.218236 \nL 68.98546 328.218236 \nz\n\" clip-path=\"url(#p43a8b6ce32)\" style=\"fill: #ffa500; opacity: 0.5\"/>\n   </g>\n   <g id=\"patch_5\">\n    <path d=\"M 71.667511 333.36 \nL 74.349562 333.36 \nL 74.349562 330.809185 \nL 71.667511 330.809185 \nz\n\" clip-path=\"url(#p43a8b6ce32)\" style=\"fill: #ffa500; opacity: 0.5\"/>\n   </g>\n   <g id=\"patch_6\">\n    <path d=\"M 74.349562 333.36 \nL 77.031613 333.36 \nL 77.031613 331.69216 \nL 74.349562 331.69216 \nz\n\" clip-path=\"url(#p43a8b6ce32)\" style=\"fill: #ffa500; opacity: 0.5\"/>\n   </g>\n   <g id=\"patch_7\">\n    <path d=\"M 77.031613 333.36 \nL 79.713664 333.36 \nL 79.713664 332.124728 \nL 77.031613 332.124728 \nz\n\" clip-path=\"url(#p43a8b6ce32)\" style=\"fill: #ffa500; opacity: 0.5\"/>\n   </g>\n   <g id=\"patch_8\">\n    <path d=\"M 79.713664 333.36 \nL 82.395715 333.36 \nL 82.395715 332.472566 \nL 79.713664 332.472566 \nz\n\" clip-path=\"url(#p43a8b6ce32)\" style=\"fill: #ffa500; opacity: 0.5\"/>\n   </g>\n   <g id=\"patch_9\">\n    <path d=\"M 82.395715 333.36 \nL 85.077766 333.36 \nL 85.077766 332.52162 \nL 82.395715 332.52162 \nz\n\" clip-path=\"url(#p43a8b6ce32)\" style=\"fill: #ffa500; opacity: 0.5\"/>\n   </g>\n   <g id=\"patch_10\">\n    <path d=\"M 85.077766 333.36 \nL 87.759817 333.36 \nL 87.759817 332.717837 \nL 85.077766 332.717837 \nz\n\" clip-path=\"url(#p43a8b6ce32)\" style=\"fill: #ffa500; opacity: 0.5\"/>\n   </g>\n   <g id=\"patch_11\">\n    <path d=\"M 87.759817 333.36 \nL 90.441868 333.36 \nL 90.441868 332.762432 \nL 87.759817 332.762432 \nz\n\" clip-path=\"url(#p43a8b6ce32)\" style=\"fill: #ffa500; opacity: 0.5\"/>\n   </g>\n   <g id=\"patch_12\">\n    <path d=\"M 90.441868 333.36 \nL 93.123919 333.36 \nL 93.123919 332.896216 \nL 90.441868 332.896216 \nz\n\" clip-path=\"url(#p43a8b6ce32)\" style=\"fill: #ffa500; opacity: 0.5\"/>\n   </g>\n   <g id=\"patch_13\">\n    <path d=\"M 93.123919 333.36 \nL 95.80597 333.36 \nL 95.80597 332.909594 \nL 93.123919 332.909594 \nz\n\" clip-path=\"url(#p43a8b6ce32)\" style=\"fill: #ffa500; opacity: 0.5\"/>\n   </g>\n   <g id=\"patch_14\">\n    <path d=\"M 95.80597 333.36 \nL 98.488021 333.36 \nL 98.488021 333.248513 \nL 95.80597 333.248513 \nz\n\" clip-path=\"url(#p43a8b6ce32)\" style=\"fill: #ffa500; opacity: 0.5\"/>\n   </g>\n   <g id=\"patch_15\">\n    <path d=\"M 98.488021 333.36 \nL 101.170072 333.36 \nL 101.170072 333.043378 \nL 98.488021 333.043378 \nz\n\" clip-path=\"url(#p43a8b6ce32)\" style=\"fill: #ffa500; opacity: 0.5\"/>\n   </g>\n   <g id=\"patch_16\">\n    <path d=\"M 101.170072 333.36 \nL 103.852123 333.36 \nL 103.852123 332.998783 \nL 101.170072 332.998783 \nz\n\" clip-path=\"url(#p43a8b6ce32)\" style=\"fill: #ffa500; opacity: 0.5\"/>\n   </g>\n   <g id=\"patch_17\">\n    <path d=\"M 103.852123 333.36 \nL 106.534173 333.36 \nL 106.534173 333.083513 \nL 103.852123 333.083513 \nz\n\" clip-path=\"url(#p43a8b6ce32)\" style=\"fill: #ffa500; opacity: 0.5\"/>\n   </g>\n   <g id=\"patch_18\">\n    <path d=\"M 106.534173 333.36 \nL 109.216224 333.36 \nL 109.216224 333.137027 \nL 106.534173 333.137027 \nz\n\" clip-path=\"url(#p43a8b6ce32)\" style=\"fill: #ffa500; opacity: 0.5\"/>\n   </g>\n   <g id=\"patch_19\">\n    <path d=\"M 109.216224 333.36 \nL 111.898275 333.36 \nL 111.898275 333.172702 \nL 109.216224 333.172702 \nz\n\" clip-path=\"url(#p43a8b6ce32)\" style=\"fill: #ffa500; opacity: 0.5\"/>\n   </g>\n   <g id=\"patch_20\">\n    <path d=\"M 111.898275 333.36 \nL 114.580326 333.36 \nL 114.580326 333.159324 \nL 111.898275 333.159324 \nz\n\" clip-path=\"url(#p43a8b6ce32)\" style=\"fill: #ffa500; opacity: 0.5\"/>\n   </g>\n   <g id=\"patch_21\">\n    <path d=\"M 114.580326 333.36 \nL 117.262377 333.36 \nL 117.262377 333.177162 \nL 114.580326 333.177162 \nz\n\" clip-path=\"url(#p43a8b6ce32)\" style=\"fill: #ffa500; opacity: 0.5\"/>\n   </g>\n   <g id=\"patch_22\">\n    <path d=\"M 117.262377 333.36 \nL 119.944428 333.36 \nL 119.944428 333.230675 \nL 117.262377 333.230675 \nz\n\" clip-path=\"url(#p43a8b6ce32)\" style=\"fill: #ffa500; opacity: 0.5\"/>\n   </g>\n   <g id=\"patch_23\">\n    <path d=\"M 119.944428 333.36 \nL 122.626479 333.36 \nL 122.626479 333.221757 \nL 119.944428 333.221757 \nz\n\" clip-path=\"url(#p43a8b6ce32)\" style=\"fill: #ffa500; opacity: 0.5\"/>\n   </g>\n   <g id=\"patch_24\">\n    <path d=\"M 122.626479 333.36 \nL 125.30853 333.36 \nL 125.30853 333.235135 \nL 122.626479 333.235135 \nz\n\" clip-path=\"url(#p43a8b6ce32)\" style=\"fill: #ffa500; opacity: 0.5\"/>\n   </g>\n   <g id=\"patch_25\">\n    <path d=\"M 125.30853 333.36 \nL 127.990581 333.36 \nL 127.990581 333.293108 \nL 125.30853 333.293108 \nz\n\" clip-path=\"url(#p43a8b6ce32)\" style=\"fill: #ffa500; opacity: 0.5\"/>\n   </g>\n   <g id=\"patch_26\">\n    <path d=\"M 127.990581 333.36 \nL 130.672632 333.36 \nL 130.672632 333.266351 \nL 127.990581 333.266351 \nz\n\" clip-path=\"url(#p43a8b6ce32)\" style=\"fill: #ffa500; opacity: 0.5\"/>\n   </g>\n   <g id=\"patch_27\">\n    <path d=\"M 130.672632 333.36 \nL 133.354683 333.36 \nL 133.354683 333.27527 \nL 130.672632 333.27527 \nz\n\" clip-path=\"url(#p43a8b6ce32)\" style=\"fill: #ffa500; opacity: 0.5\"/>\n   </g>\n   <g id=\"patch_28\">\n    <path d=\"M 133.354683 333.36 \nL 136.036734 333.36 \nL 136.036734 333.284189 \nL 133.354683 333.284189 \nz\n\" clip-path=\"url(#p43a8b6ce32)\" style=\"fill: #ffa500; opacity: 0.5\"/>\n   </g>\n   <g id=\"patch_29\">\n    <path d=\"M 136.036734 333.36 \nL 138.718785 333.36 \nL 138.718785 333.270811 \nL 136.036734 333.270811 \nz\n\" clip-path=\"url(#p43a8b6ce32)\" style=\"fill: #ffa500; opacity: 0.5\"/>\n   </g>\n   <g id=\"patch_30\">\n    <path d=\"M 138.718785 333.36 \nL 141.400836 333.36 \nL 141.400836 333.310946 \nL 138.718785 333.310946 \nz\n\" clip-path=\"url(#p43a8b6ce32)\" style=\"fill: #ffa500; opacity: 0.5\"/>\n   </g>\n   <g id=\"patch_31\">\n    <path d=\"M 141.400836 333.36 \nL 144.082887 333.36 \nL 144.082887 333.310946 \nL 141.400836 333.310946 \nz\n\" clip-path=\"url(#p43a8b6ce32)\" style=\"fill: #ffa500; opacity: 0.5\"/>\n   </g>\n   <g id=\"patch_32\">\n    <path d=\"M 144.082887 333.36 \nL 146.764938 333.36 \nL 146.764938 333.315405 \nL 144.082887 333.315405 \nz\n\" clip-path=\"url(#p43a8b6ce32)\" style=\"fill: #ffa500; opacity: 0.5\"/>\n   </g>\n   <g id=\"patch_33\">\n    <path d=\"M 146.764938 333.36 \nL 149.446989 333.36 \nL 149.446989 333.288649 \nL 146.764938 333.288649 \nz\n\" clip-path=\"url(#p43a8b6ce32)\" style=\"fill: #ffa500; opacity: 0.5\"/>\n   </g>\n   <g id=\"patch_34\">\n    <path d=\"M 149.446989 333.36 \nL 152.12904 333.36 \nL 152.12904 333.284189 \nL 149.446989 333.284189 \nz\n\" clip-path=\"url(#p43a8b6ce32)\" style=\"fill: #ffa500; opacity: 0.5\"/>\n   </g>\n   <g id=\"patch_35\">\n    <path d=\"M 152.12904 333.36 \nL 154.811091 333.36 \nL 154.811091 333.315405 \nL 152.12904 333.315405 \nz\n\" clip-path=\"url(#p43a8b6ce32)\" style=\"fill: #ffa500; opacity: 0.5\"/>\n   </g>\n   <g id=\"patch_36\">\n    <path d=\"M 154.811091 333.36 \nL 157.493142 333.36 \nL 157.493142 333.337703 \nL 154.811091 333.337703 \nz\n\" clip-path=\"url(#p43a8b6ce32)\" style=\"fill: #ffa500; opacity: 0.5\"/>\n   </g>\n   <g id=\"patch_37\">\n    <path d=\"M 157.493142 333.36 \nL 160.175193 333.36 \nL 160.175193 333.342162 \nL 157.493142 333.342162 \nz\n\" clip-path=\"url(#p43a8b6ce32)\" style=\"fill: #ffa500; opacity: 0.5\"/>\n   </g>\n   <g id=\"patch_38\">\n    <path d=\"M 160.175193 333.36 \nL 162.857244 333.36 \nL 162.857244 333.337703 \nL 160.175193 333.337703 \nz\n\" clip-path=\"url(#p43a8b6ce32)\" style=\"fill: #ffa500; opacity: 0.5\"/>\n   </g>\n   <g id=\"patch_39\">\n    <path d=\"M 162.857244 333.36 \nL 165.539295 333.36 \nL 165.539295 333.337703 \nL 162.857244 333.337703 \nz\n\" clip-path=\"url(#p43a8b6ce32)\" style=\"fill: #ffa500; opacity: 0.5\"/>\n   </g>\n   <g id=\"patch_40\">\n    <path d=\"M 165.539295 333.36 \nL 168.221346 333.36 \nL 168.221346 333.351081 \nL 165.539295 333.351081 \nz\n\" clip-path=\"url(#p43a8b6ce32)\" style=\"fill: #ffa500; opacity: 0.5\"/>\n   </g>\n   <g id=\"patch_41\">\n    <path d=\"M 168.221346 333.36 \nL 170.903397 333.36 \nL 170.903397 333.355541 \nL 168.221346 333.355541 \nz\n\" clip-path=\"url(#p43a8b6ce32)\" style=\"fill: #ffa500; opacity: 0.5\"/>\n   </g>\n   <g id=\"patch_42\">\n    <path d=\"M 170.903397 333.36 \nL 173.585447 333.36 \nL 173.585447 333.346622 \nL 170.903397 333.346622 \nz\n\" clip-path=\"url(#p43a8b6ce32)\" style=\"fill: #ffa500; opacity: 0.5\"/>\n   </g>\n   <g id=\"patch_43\">\n    <path d=\"M 173.585447 333.36 \nL 176.267498 333.36 \nL 176.267498 333.342162 \nL 173.585447 333.342162 \nz\n\" clip-path=\"url(#p43a8b6ce32)\" style=\"fill: #ffa500; opacity: 0.5\"/>\n   </g>\n   <g id=\"patch_44\">\n    <path d=\"M 176.267498 333.36 \nL 178.949549 333.36 \nL 178.949549 333.346622 \nL 176.267498 333.346622 \nz\n\" clip-path=\"url(#p43a8b6ce32)\" style=\"fill: #ffa500; opacity: 0.5\"/>\n   </g>\n   <g id=\"patch_45\">\n    <path d=\"M 178.949549 333.36 \nL 181.6316 333.36 \nL 181.6316 333.342162 \nL 178.949549 333.342162 \nz\n\" clip-path=\"url(#p43a8b6ce32)\" style=\"fill: #ffa500; opacity: 0.5\"/>\n   </g>\n   <g id=\"patch_46\">\n    <path d=\"M 181.6316 333.36 \nL 184.313651 333.36 \nL 184.313651 333.355541 \nL 181.6316 333.355541 \nz\n\" clip-path=\"url(#p43a8b6ce32)\" style=\"fill: #ffa500; opacity: 0.5\"/>\n   </g>\n   <g id=\"patch_47\">\n    <path d=\"M 184.313651 333.36 \nL 186.995702 333.36 \nL 186.995702 333.351081 \nL 184.313651 333.351081 \nz\n\" clip-path=\"url(#p43a8b6ce32)\" style=\"fill: #ffa500; opacity: 0.5\"/>\n   </g>\n   <g id=\"patch_48\">\n    <path d=\"M 186.995702 333.36 \nL 189.677753 333.36 \nL 189.677753 333.36 \nL 186.995702 333.36 \nz\n\" clip-path=\"url(#p43a8b6ce32)\" style=\"fill: #ffa500; opacity: 0.5\"/>\n   </g>\n   <g id=\"patch_49\">\n    <path d=\"M 189.677753 333.36 \nL 192.359804 333.36 \nL 192.359804 333.36 \nL 189.677753 333.36 \nz\n\" clip-path=\"url(#p43a8b6ce32)\" style=\"fill: #ffa500; opacity: 0.5\"/>\n   </g>\n   <g id=\"patch_50\">\n    <path d=\"M 192.359804 333.36 \nL 195.041855 333.36 \nL 195.041855 333.351081 \nL 192.359804 333.351081 \nz\n\" clip-path=\"url(#p43a8b6ce32)\" style=\"fill: #ffa500; opacity: 0.5\"/>\n   </g>\n   <g id=\"patch_51\">\n    <path d=\"M 195.041855 333.36 \nL 197.723906 333.36 \nL 197.723906 333.351081 \nL 195.041855 333.351081 \nz\n\" clip-path=\"url(#p43a8b6ce32)\" style=\"fill: #ffa500; opacity: 0.5\"/>\n   </g>\n   <g id=\"patch_52\">\n    <path d=\"M 197.723906 333.36 \nL 200.405957 333.36 \nL 200.405957 333.36 \nL 197.723906 333.36 \nz\n\" clip-path=\"url(#p43a8b6ce32)\" style=\"fill: #ffa500; opacity: 0.5\"/>\n   </g>\n   <g id=\"patch_53\">\n    <path d=\"M 200.405957 333.36 \nL 203.088008 333.36 \nL 203.088008 333.36 \nL 200.405957 333.36 \nz\n\" clip-path=\"url(#p43a8b6ce32)\" style=\"fill: #ffa500; opacity: 0.5\"/>\n   </g>\n   <g id=\"patch_54\">\n    <path d=\"M 203.088008 333.36 \nL 205.770059 333.36 \nL 205.770059 333.333243 \nL 203.088008 333.333243 \nz\n\" clip-path=\"url(#p43a8b6ce32)\" style=\"fill: #ffa500; opacity: 0.5\"/>\n   </g>\n   <g id=\"patch_55\">\n    <path d=\"M 205.770059 333.36 \nL 208.45211 333.36 \nL 208.45211 333.36 \nL 205.770059 333.36 \nz\n\" clip-path=\"url(#p43a8b6ce32)\" style=\"fill: #ffa500; opacity: 0.5\"/>\n   </g>\n   <g id=\"patch_56\">\n    <path d=\"M 208.45211 333.36 \nL 211.134161 333.36 \nL 211.134161 333.351081 \nL 208.45211 333.351081 \nz\n\" clip-path=\"url(#p43a8b6ce32)\" style=\"fill: #ffa500; opacity: 0.5\"/>\n   </g>\n   <g id=\"patch_57\">\n    <path d=\"M 211.134161 333.36 \nL 213.816212 333.36 \nL 213.816212 333.355541 \nL 211.134161 333.355541 \nz\n\" clip-path=\"url(#p43a8b6ce32)\" style=\"fill: #ffa500; opacity: 0.5\"/>\n   </g>\n   <g id=\"patch_58\">\n    <path d=\"M 213.816212 333.36 \nL 216.498263 333.36 \nL 216.498263 333.36 \nL 213.816212 333.36 \nz\n\" clip-path=\"url(#p43a8b6ce32)\" style=\"fill: #ffa500; opacity: 0.5\"/>\n   </g>\n   <g id=\"patch_59\">\n    <path d=\"M 216.498263 333.36 \nL 219.180314 333.36 \nL 219.180314 333.36 \nL 216.498263 333.36 \nz\n\" clip-path=\"url(#p43a8b6ce32)\" style=\"fill: #ffa500; opacity: 0.5\"/>\n   </g>\n   <g id=\"patch_60\">\n    <path d=\"M 219.180314 333.36 \nL 221.862365 333.36 \nL 221.862365 333.355541 \nL 219.180314 333.355541 \nz\n\" clip-path=\"url(#p43a8b6ce32)\" style=\"fill: #ffa500; opacity: 0.5\"/>\n   </g>\n   <g id=\"patch_61\">\n    <path d=\"M 221.862365 333.36 \nL 224.544416 333.36 \nL 224.544416 333.351081 \nL 221.862365 333.351081 \nz\n\" clip-path=\"url(#p43a8b6ce32)\" style=\"fill: #ffa500; opacity: 0.5\"/>\n   </g>\n   <g id=\"patch_62\">\n    <path d=\"M 224.544416 333.36 \nL 227.226467 333.36 \nL 227.226467 333.36 \nL 224.544416 333.36 \nz\n\" clip-path=\"url(#p43a8b6ce32)\" style=\"fill: #ffa500; opacity: 0.5\"/>\n   </g>\n   <g id=\"patch_63\">\n    <path d=\"M 227.226467 333.36 \nL 229.908518 333.36 \nL 229.908518 333.36 \nL 227.226467 333.36 \nz\n\" clip-path=\"url(#p43a8b6ce32)\" style=\"fill: #ffa500; opacity: 0.5\"/>\n   </g>\n   <g id=\"patch_64\">\n    <path d=\"M 229.908518 333.36 \nL 232.590569 333.36 \nL 232.590569 333.36 \nL 229.908518 333.36 \nz\n\" clip-path=\"url(#p43a8b6ce32)\" style=\"fill: #ffa500; opacity: 0.5\"/>\n   </g>\n   <g id=\"patch_65\">\n    <path d=\"M 232.590569 333.36 \nL 235.27262 333.36 \nL 235.27262 333.355541 \nL 232.590569 333.355541 \nz\n\" clip-path=\"url(#p43a8b6ce32)\" style=\"fill: #ffa500; opacity: 0.5\"/>\n   </g>\n   <g id=\"patch_66\">\n    <path d=\"M 235.27262 333.36 \nL 237.95467 333.36 \nL 237.95467 333.355541 \nL 235.27262 333.355541 \nz\n\" clip-path=\"url(#p43a8b6ce32)\" style=\"fill: #ffa500; opacity: 0.5\"/>\n   </g>\n   <g id=\"patch_67\">\n    <path d=\"M 237.95467 333.36 \nL 240.636721 333.36 \nL 240.636721 333.355541 \nL 237.95467 333.355541 \nz\n\" clip-path=\"url(#p43a8b6ce32)\" style=\"fill: #ffa500; opacity: 0.5\"/>\n   </g>\n   <g id=\"patch_68\">\n    <path d=\"M 240.636721 333.36 \nL 243.318772 333.36 \nL 243.318772 333.351081 \nL 240.636721 333.351081 \nz\n\" clip-path=\"url(#p43a8b6ce32)\" style=\"fill: #ffa500; opacity: 0.5\"/>\n   </g>\n   <g id=\"patch_69\">\n    <path d=\"M 243.318772 333.36 \nL 246.000823 333.36 \nL 246.000823 333.36 \nL 243.318772 333.36 \nz\n\" clip-path=\"url(#p43a8b6ce32)\" style=\"fill: #ffa500; opacity: 0.5\"/>\n   </g>\n   <g id=\"patch_70\">\n    <path d=\"M 246.000823 333.36 \nL 248.682874 333.36 \nL 248.682874 333.355541 \nL 246.000823 333.355541 \nz\n\" clip-path=\"url(#p43a8b6ce32)\" style=\"fill: #ffa500; opacity: 0.5\"/>\n   </g>\n   <g id=\"patch_71\">\n    <path d=\"M 248.682874 333.36 \nL 251.364925 333.36 \nL 251.364925 333.36 \nL 248.682874 333.36 \nz\n\" clip-path=\"url(#p43a8b6ce32)\" style=\"fill: #ffa500; opacity: 0.5\"/>\n   </g>\n   <g id=\"patch_72\">\n    <path d=\"M 251.364925 333.36 \nL 254.046976 333.36 \nL 254.046976 333.351081 \nL 251.364925 333.351081 \nz\n\" clip-path=\"url(#p43a8b6ce32)\" style=\"fill: #ffa500; opacity: 0.5\"/>\n   </g>\n   <g id=\"patch_73\">\n    <path d=\"M 254.046976 333.36 \nL 256.729027 333.36 \nL 256.729027 333.36 \nL 254.046976 333.36 \nz\n\" clip-path=\"url(#p43a8b6ce32)\" style=\"fill: #ffa500; opacity: 0.5\"/>\n   </g>\n   <g id=\"patch_74\">\n    <path d=\"M 256.729027 333.36 \nL 259.411078 333.36 \nL 259.411078 333.36 \nL 256.729027 333.36 \nz\n\" clip-path=\"url(#p43a8b6ce32)\" style=\"fill: #ffa500; opacity: 0.5\"/>\n   </g>\n   <g id=\"patch_75\">\n    <path d=\"M 259.411078 333.36 \nL 262.093129 333.36 \nL 262.093129 333.36 \nL 259.411078 333.36 \nz\n\" clip-path=\"url(#p43a8b6ce32)\" style=\"fill: #ffa500; opacity: 0.5\"/>\n   </g>\n   <g id=\"patch_76\">\n    <path d=\"M 262.093129 333.36 \nL 264.77518 333.36 \nL 264.77518 333.36 \nL 262.093129 333.36 \nz\n\" clip-path=\"url(#p43a8b6ce32)\" style=\"fill: #ffa500; opacity: 0.5\"/>\n   </g>\n   <g id=\"patch_77\">\n    <path d=\"M 264.77518 333.36 \nL 267.457231 333.36 \nL 267.457231 333.36 \nL 264.77518 333.36 \nz\n\" clip-path=\"url(#p43a8b6ce32)\" style=\"fill: #ffa500; opacity: 0.5\"/>\n   </g>\n   <g id=\"patch_78\">\n    <path d=\"M 267.457231 333.36 \nL 270.139282 333.36 \nL 270.139282 333.36 \nL 267.457231 333.36 \nz\n\" clip-path=\"url(#p43a8b6ce32)\" style=\"fill: #ffa500; opacity: 0.5\"/>\n   </g>\n   <g id=\"patch_79\">\n    <path d=\"M 270.139282 333.36 \nL 272.821333 333.36 \nL 272.821333 333.36 \nL 270.139282 333.36 \nz\n\" clip-path=\"url(#p43a8b6ce32)\" style=\"fill: #ffa500; opacity: 0.5\"/>\n   </g>\n   <g id=\"patch_80\">\n    <path d=\"M 272.821333 333.36 \nL 275.503384 333.36 \nL 275.503384 333.36 \nL 272.821333 333.36 \nz\n\" clip-path=\"url(#p43a8b6ce32)\" style=\"fill: #ffa500; opacity: 0.5\"/>\n   </g>\n   <g id=\"patch_81\">\n    <path d=\"M 275.503384 333.36 \nL 278.185435 333.36 \nL 278.185435 333.36 \nL 275.503384 333.36 \nz\n\" clip-path=\"url(#p43a8b6ce32)\" style=\"fill: #ffa500; opacity: 0.5\"/>\n   </g>\n   <g id=\"patch_82\">\n    <path d=\"M 278.185435 333.36 \nL 280.867486 333.36 \nL 280.867486 333.36 \nL 278.185435 333.36 \nz\n\" clip-path=\"url(#p43a8b6ce32)\" style=\"fill: #ffa500; opacity: 0.5\"/>\n   </g>\n   <g id=\"patch_83\">\n    <path d=\"M 280.867486 333.36 \nL 283.549537 333.36 \nL 283.549537 333.36 \nL 280.867486 333.36 \nz\n\" clip-path=\"url(#p43a8b6ce32)\" style=\"fill: #ffa500; opacity: 0.5\"/>\n   </g>\n   <g id=\"patch_84\">\n    <path d=\"M 283.549537 333.36 \nL 286.231588 333.36 \nL 286.231588 333.36 \nL 283.549537 333.36 \nz\n\" clip-path=\"url(#p43a8b6ce32)\" style=\"fill: #ffa500; opacity: 0.5\"/>\n   </g>\n   <g id=\"patch_85\">\n    <path d=\"M 286.231588 333.36 \nL 288.913639 333.36 \nL 288.913639 333.36 \nL 286.231588 333.36 \nz\n\" clip-path=\"url(#p43a8b6ce32)\" style=\"fill: #ffa500; opacity: 0.5\"/>\n   </g>\n   <g id=\"patch_86\">\n    <path d=\"M 288.913639 333.36 \nL 291.59569 333.36 \nL 291.59569 333.355541 \nL 288.913639 333.355541 \nz\n\" clip-path=\"url(#p43a8b6ce32)\" style=\"fill: #ffa500; opacity: 0.5\"/>\n   </g>\n   <g id=\"patch_87\">\n    <path d=\"M 291.59569 333.36 \nL 294.277741 333.36 \nL 294.277741 333.36 \nL 291.59569 333.36 \nz\n\" clip-path=\"url(#p43a8b6ce32)\" style=\"fill: #ffa500; opacity: 0.5\"/>\n   </g>\n   <g id=\"patch_88\">\n    <path d=\"M 294.277741 333.36 \nL 296.959792 333.36 \nL 296.959792 333.36 \nL 294.277741 333.36 \nz\n\" clip-path=\"url(#p43a8b6ce32)\" style=\"fill: #ffa500; opacity: 0.5\"/>\n   </g>\n   <g id=\"patch_89\">\n    <path d=\"M 296.959792 333.36 \nL 299.641843 333.36 \nL 299.641843 333.36 \nL 296.959792 333.36 \nz\n\" clip-path=\"url(#p43a8b6ce32)\" style=\"fill: #ffa500; opacity: 0.5\"/>\n   </g>\n   <g id=\"patch_90\">\n    <path d=\"M 299.641843 333.36 \nL 302.323894 333.36 \nL 302.323894 333.355541 \nL 299.641843 333.355541 \nz\n\" clip-path=\"url(#p43a8b6ce32)\" style=\"fill: #ffa500; opacity: 0.5\"/>\n   </g>\n   <g id=\"patch_91\">\n    <path d=\"M 302.323894 333.36 \nL 305.005944 333.36 \nL 305.005944 333.36 \nL 302.323894 333.36 \nz\n\" clip-path=\"url(#p43a8b6ce32)\" style=\"fill: #ffa500; opacity: 0.5\"/>\n   </g>\n   <g id=\"patch_92\">\n    <path d=\"M 305.005944 333.36 \nL 307.687995 333.36 \nL 307.687995 333.36 \nL 305.005944 333.36 \nz\n\" clip-path=\"url(#p43a8b6ce32)\" style=\"fill: #ffa500; opacity: 0.5\"/>\n   </g>\n   <g id=\"patch_93\">\n    <path d=\"M 307.687995 333.36 \nL 310.370046 333.36 \nL 310.370046 333.36 \nL 307.687995 333.36 \nz\n\" clip-path=\"url(#p43a8b6ce32)\" style=\"fill: #ffa500; opacity: 0.5\"/>\n   </g>\n   <g id=\"patch_94\">\n    <path d=\"M 310.370046 333.36 \nL 313.052097 333.36 \nL 313.052097 333.36 \nL 310.370046 333.36 \nz\n\" clip-path=\"url(#p43a8b6ce32)\" style=\"fill: #ffa500; opacity: 0.5\"/>\n   </g>\n   <g id=\"patch_95\">\n    <path d=\"M 313.052097 333.36 \nL 315.734148 333.36 \nL 315.734148 333.36 \nL 313.052097 333.36 \nz\n\" clip-path=\"url(#p43a8b6ce32)\" style=\"fill: #ffa500; opacity: 0.5\"/>\n   </g>\n   <g id=\"patch_96\">\n    <path d=\"M 315.734148 333.36 \nL 318.416199 333.36 \nL 318.416199 333.36 \nL 315.734148 333.36 \nz\n\" clip-path=\"url(#p43a8b6ce32)\" style=\"fill: #ffa500; opacity: 0.5\"/>\n   </g>\n   <g id=\"patch_97\">\n    <path d=\"M 318.416199 333.36 \nL 321.09825 333.36 \nL 321.09825 333.36 \nL 318.416199 333.36 \nz\n\" clip-path=\"url(#p43a8b6ce32)\" style=\"fill: #ffa500; opacity: 0.5\"/>\n   </g>\n   <g id=\"patch_98\">\n    <path d=\"M 321.09825 333.36 \nL 323.780301 333.36 \nL 323.780301 333.36 \nL 321.09825 333.36 \nz\n\" clip-path=\"url(#p43a8b6ce32)\" style=\"fill: #ffa500; opacity: 0.5\"/>\n   </g>\n   <g id=\"patch_99\">\n    <path d=\"M 323.780301 333.36 \nL 326.462352 333.36 \nL 326.462352 333.36 \nL 323.780301 333.36 \nz\n\" clip-path=\"url(#p43a8b6ce32)\" style=\"fill: #ffa500; opacity: 0.5\"/>\n   </g>\n   <g id=\"patch_100\">\n    <path d=\"M 326.462352 333.36 \nL 329.144403 333.36 \nL 329.144403 333.36 \nL 326.462352 333.36 \nz\n\" clip-path=\"url(#p43a8b6ce32)\" style=\"fill: #ffa500; opacity: 0.5\"/>\n   </g>\n   <g id=\"patch_101\">\n    <path d=\"M 329.144403 333.36 \nL 331.826454 333.36 \nL 331.826454 333.36 \nL 329.144403 333.36 \nz\n\" clip-path=\"url(#p43a8b6ce32)\" style=\"fill: #ffa500; opacity: 0.5\"/>\n   </g>\n   <g id=\"patch_102\">\n    <path d=\"M 331.826454 333.36 \nL 334.508505 333.36 \nL 334.508505 333.355541 \nL 331.826454 333.355541 \nz\n\" clip-path=\"url(#p43a8b6ce32)\" style=\"fill: #ffa500; opacity: 0.5\"/>\n   </g>\n   <g id=\"patch_103\">\n    <path d=\"M 66.303409 333.36 \nL 70.361591 333.36 \nL 70.361591 33.871175 \nL 66.303409 33.871175 \nz\n\" clip-path=\"url(#p43a8b6ce32)\" style=\"fill: #0000ff; opacity: 0.5\"/>\n   </g>\n   <g id=\"patch_104\">\n    <path d=\"M 70.361591 333.36 \nL 74.419773 333.36 \nL 74.419773 322.193497 \nL 70.361591 322.193497 \nz\n\" clip-path=\"url(#p43a8b6ce32)\" style=\"fill: #0000ff; opacity: 0.5\"/>\n   </g>\n   <g id=\"patch_105\">\n    <path d=\"M 74.419773 333.36 \nL 78.477955 333.36 \nL 78.477955 328.093371 \nL 74.419773 328.093371 \nz\n\" clip-path=\"url(#p43a8b6ce32)\" style=\"fill: #0000ff; opacity: 0.5\"/>\n   </g>\n   <g id=\"patch_106\">\n    <path d=\"M 78.477955 333.36 \nL 82.536136 333.36 \nL 82.536136 330.372158 \nL 78.477955 330.372158 \nz\n\" clip-path=\"url(#p43a8b6ce32)\" style=\"fill: #0000ff; opacity: 0.5\"/>\n   </g>\n   <g id=\"patch_107\">\n    <path d=\"M 82.536136 333.36 \nL 86.594318 333.36 \nL 86.594318 331.397835 \nL 82.536136 331.397835 \nz\n\" clip-path=\"url(#p43a8b6ce32)\" style=\"fill: #0000ff; opacity: 0.5\"/>\n   </g>\n   <g id=\"patch_108\">\n    <path d=\"M 86.594318 333.36 \nL 90.6525 333.36 \nL 90.6525 331.950809 \nL 86.594318 331.950809 \nz\n\" clip-path=\"url(#p43a8b6ce32)\" style=\"fill: #0000ff; opacity: 0.5\"/>\n   </g>\n   <g id=\"patch_109\">\n    <path d=\"M 90.6525 333.36 \nL 94.710682 333.36 \nL 94.710682 332.236215 \nL 90.6525 332.236215 \nz\n\" clip-path=\"url(#p43a8b6ce32)\" style=\"fill: #0000ff; opacity: 0.5\"/>\n   </g>\n   <g id=\"patch_110\">\n    <path d=\"M 94.710682 333.36 \nL 98.768864 333.36 \nL 98.768864 332.52162 \nL 94.710682 332.52162 \nz\n\" clip-path=\"url(#p43a8b6ce32)\" style=\"fill: #0000ff; opacity: 0.5\"/>\n   </g>\n   <g id=\"patch_111\">\n    <path d=\"M 98.768864 333.36 \nL 102.827045 333.36 \nL 102.827045 332.686621 \nL 98.768864 332.686621 \nz\n\" clip-path=\"url(#p43a8b6ce32)\" style=\"fill: #0000ff; opacity: 0.5\"/>\n   </g>\n   <g id=\"patch_112\">\n    <path d=\"M 102.827045 333.36 \nL 106.885227 333.36 \nL 106.885227 332.927432 \nL 102.827045 332.927432 \nz\n\" clip-path=\"url(#p43a8b6ce32)\" style=\"fill: #0000ff; opacity: 0.5\"/>\n   </g>\n   <g id=\"patch_113\">\n    <path d=\"M 106.885227 333.36 \nL 110.943409 333.36 \nL 110.943409 332.900675 \nL 106.885227 332.900675 \nz\n\" clip-path=\"url(#p43a8b6ce32)\" style=\"fill: #0000ff; opacity: 0.5\"/>\n   </g>\n   <g id=\"patch_114\">\n    <path d=\"M 110.943409 333.36 \nL 115.001591 333.36 \nL 115.001591 332.967567 \nL 110.943409 332.967567 \nz\n\" clip-path=\"url(#p43a8b6ce32)\" style=\"fill: #0000ff; opacity: 0.5\"/>\n   </g>\n   <g id=\"patch_115\">\n    <path d=\"M 115.001591 333.36 \nL 119.059773 333.36 \nL 119.059773 333.012162 \nL 115.001591 333.012162 \nz\n\" clip-path=\"url(#p43a8b6ce32)\" style=\"fill: #0000ff; opacity: 0.5\"/>\n   </g>\n   <g id=\"patch_116\">\n    <path d=\"M 119.059773 333.36 \nL 123.117955 333.36 \nL 123.117955 333.070135 \nL 119.059773 333.070135 \nz\n\" clip-path=\"url(#p43a8b6ce32)\" style=\"fill: #0000ff; opacity: 0.5\"/>\n   </g>\n   <g id=\"patch_117\">\n    <path d=\"M 123.117955 333.36 \nL 127.176136 333.36 \nL 127.176136 333.128108 \nL 123.117955 333.128108 \nz\n\" clip-path=\"url(#p43a8b6ce32)\" style=\"fill: #0000ff; opacity: 0.5\"/>\n   </g>\n   <g id=\"patch_118\">\n    <path d=\"M 127.176136 333.36 \nL 131.234318 333.36 \nL 131.234318 333.163783 \nL 127.176136 333.163783 \nz\n\" clip-path=\"url(#p43a8b6ce32)\" style=\"fill: #0000ff; opacity: 0.5\"/>\n   </g>\n   <g id=\"patch_119\">\n    <path d=\"M 131.234318 333.36 \nL 135.2925 333.36 \nL 135.2925 333.186081 \nL 131.234318 333.186081 \nz\n\" clip-path=\"url(#p43a8b6ce32)\" style=\"fill: #0000ff; opacity: 0.5\"/>\n   </g>\n   <g id=\"patch_120\">\n    <path d=\"M 135.2925 333.36 \nL 139.350682 333.36 \nL 139.350682 333.203919 \nL 135.2925 333.203919 \nz\n\" clip-path=\"url(#p43a8b6ce32)\" style=\"fill: #0000ff; opacity: 0.5\"/>\n   </g>\n   <g id=\"patch_121\">\n    <path d=\"M 139.350682 333.36 \nL 143.408864 333.36 \nL 143.408864 333.270811 \nL 139.350682 333.270811 \nz\n\" clip-path=\"url(#p43a8b6ce32)\" style=\"fill: #0000ff; opacity: 0.5\"/>\n   </g>\n   <g id=\"patch_122\">\n    <path d=\"M 143.408864 333.36 \nL 147.467045 333.36 \nL 147.467045 333.261892 \nL 143.408864 333.261892 \nz\n\" clip-path=\"url(#p43a8b6ce32)\" style=\"fill: #0000ff; opacity: 0.5\"/>\n   </g>\n   <g id=\"patch_123\">\n    <path d=\"M 147.467045 333.36 \nL 151.525227 333.36 \nL 151.525227 333.266351 \nL 147.467045 333.266351 \nz\n\" clip-path=\"url(#p43a8b6ce32)\" style=\"fill: #0000ff; opacity: 0.5\"/>\n   </g>\n   <g id=\"patch_124\">\n    <path d=\"M 151.525227 333.36 \nL 155.583409 333.36 \nL 155.583409 333.27527 \nL 151.525227 333.27527 \nz\n\" clip-path=\"url(#p43a8b6ce32)\" style=\"fill: #0000ff; opacity: 0.5\"/>\n   </g>\n   <g id=\"patch_125\">\n    <path d=\"M 155.583409 333.36 \nL 159.641591 333.36 \nL 159.641591 333.306486 \nL 155.583409 333.306486 \nz\n\" clip-path=\"url(#p43a8b6ce32)\" style=\"fill: #0000ff; opacity: 0.5\"/>\n   </g>\n   <g id=\"patch_126\">\n    <path d=\"M 159.641591 333.36 \nL 163.699773 333.36 \nL 163.699773 333.297567 \nL 159.641591 333.297567 \nz\n\" clip-path=\"url(#p43a8b6ce32)\" style=\"fill: #0000ff; opacity: 0.5\"/>\n   </g>\n   <g id=\"patch_127\">\n    <path d=\"M 163.699773 333.36 \nL 167.757955 333.36 \nL 167.757955 333.319865 \nL 163.699773 333.319865 \nz\n\" clip-path=\"url(#p43a8b6ce32)\" style=\"fill: #0000ff; opacity: 0.5\"/>\n   </g>\n   <g id=\"patch_128\">\n    <path d=\"M 167.757955 333.36 \nL 171.816136 333.36 \nL 171.816136 333.351081 \nL 167.757955 333.351081 \nz\n\" clip-path=\"url(#p43a8b6ce32)\" style=\"fill: #0000ff; opacity: 0.5\"/>\n   </g>\n   <g id=\"patch_129\">\n    <path d=\"M 171.816136 333.36 \nL 175.874318 333.36 \nL 175.874318 333.333243 \nL 171.816136 333.333243 \nz\n\" clip-path=\"url(#p43a8b6ce32)\" style=\"fill: #0000ff; opacity: 0.5\"/>\n   </g>\n   <g id=\"patch_130\">\n    <path d=\"M 175.874318 333.36 \nL 179.9325 333.36 \nL 179.9325 333.351081 \nL 175.874318 333.351081 \nz\n\" clip-path=\"url(#p43a8b6ce32)\" style=\"fill: #0000ff; opacity: 0.5\"/>\n   </g>\n   <g id=\"patch_131\">\n    <path d=\"M 179.9325 333.36 \nL 183.990682 333.36 \nL 183.990682 333.328784 \nL 179.9325 333.328784 \nz\n\" clip-path=\"url(#p43a8b6ce32)\" style=\"fill: #0000ff; opacity: 0.5\"/>\n   </g>\n   <g id=\"patch_132\">\n    <path d=\"M 183.990682 333.36 \nL 188.048864 333.36 \nL 188.048864 333.346622 \nL 183.990682 333.346622 \nz\n\" clip-path=\"url(#p43a8b6ce32)\" style=\"fill: #0000ff; opacity: 0.5\"/>\n   </g>\n   <g id=\"patch_133\">\n    <path d=\"M 188.048864 333.36 \nL 192.107045 333.36 \nL 192.107045 333.342162 \nL 188.048864 333.342162 \nz\n\" clip-path=\"url(#p43a8b6ce32)\" style=\"fill: #0000ff; opacity: 0.5\"/>\n   </g>\n   <g id=\"patch_134\">\n    <path d=\"M 192.107045 333.36 \nL 196.165227 333.36 \nL 196.165227 333.346622 \nL 192.107045 333.346622 \nz\n\" clip-path=\"url(#p43a8b6ce32)\" style=\"fill: #0000ff; opacity: 0.5\"/>\n   </g>\n   <g id=\"patch_135\">\n    <path d=\"M 196.165227 333.36 \nL 200.223409 333.36 \nL 200.223409 333.342162 \nL 196.165227 333.342162 \nz\n\" clip-path=\"url(#p43a8b6ce32)\" style=\"fill: #0000ff; opacity: 0.5\"/>\n   </g>\n   <g id=\"patch_136\">\n    <path d=\"M 200.223409 333.36 \nL 204.281591 333.36 \nL 204.281591 333.346622 \nL 200.223409 333.346622 \nz\n\" clip-path=\"url(#p43a8b6ce32)\" style=\"fill: #0000ff; opacity: 0.5\"/>\n   </g>\n   <g id=\"patch_137\">\n    <path d=\"M 204.281591 333.36 \nL 208.339773 333.36 \nL 208.339773 333.355541 \nL 204.281591 333.355541 \nz\n\" clip-path=\"url(#p43a8b6ce32)\" style=\"fill: #0000ff; opacity: 0.5\"/>\n   </g>\n   <g id=\"patch_138\">\n    <path d=\"M 208.339773 333.36 \nL 212.397955 333.36 \nL 212.397955 333.351081 \nL 208.339773 333.351081 \nz\n\" clip-path=\"url(#p43a8b6ce32)\" style=\"fill: #0000ff; opacity: 0.5\"/>\n   </g>\n   <g id=\"patch_139\">\n    <path d=\"M 212.397955 333.36 \nL 216.456136 333.36 \nL 216.456136 333.36 \nL 212.397955 333.36 \nz\n\" clip-path=\"url(#p43a8b6ce32)\" style=\"fill: #0000ff; opacity: 0.5\"/>\n   </g>\n   <g id=\"patch_140\">\n    <path d=\"M 216.456136 333.36 \nL 220.514318 333.36 \nL 220.514318 333.346622 \nL 216.456136 333.346622 \nz\n\" clip-path=\"url(#p43a8b6ce32)\" style=\"fill: #0000ff; opacity: 0.5\"/>\n   </g>\n   <g id=\"patch_141\">\n    <path d=\"M 220.514318 333.36 \nL 224.5725 333.36 \nL 224.5725 333.36 \nL 220.514318 333.36 \nz\n\" clip-path=\"url(#p43a8b6ce32)\" style=\"fill: #0000ff; opacity: 0.5\"/>\n   </g>\n   <g id=\"patch_142\">\n    <path d=\"M 224.5725 333.36 \nL 228.630682 333.36 \nL 228.630682 333.346622 \nL 224.5725 333.346622 \nz\n\" clip-path=\"url(#p43a8b6ce32)\" style=\"fill: #0000ff; opacity: 0.5\"/>\n   </g>\n   <g id=\"patch_143\">\n    <path d=\"M 228.630682 333.36 \nL 232.688864 333.36 \nL 232.688864 333.346622 \nL 228.630682 333.346622 \nz\n\" clip-path=\"url(#p43a8b6ce32)\" style=\"fill: #0000ff; opacity: 0.5\"/>\n   </g>\n   <g id=\"patch_144\">\n    <path d=\"M 232.688864 333.36 \nL 236.747045 333.36 \nL 236.747045 333.355541 \nL 232.688864 333.355541 \nz\n\" clip-path=\"url(#p43a8b6ce32)\" style=\"fill: #0000ff; opacity: 0.5\"/>\n   </g>\n   <g id=\"patch_145\">\n    <path d=\"M 236.747045 333.36 \nL 240.805227 333.36 \nL 240.805227 333.351081 \nL 236.747045 333.351081 \nz\n\" clip-path=\"url(#p43a8b6ce32)\" style=\"fill: #0000ff; opacity: 0.5\"/>\n   </g>\n   <g id=\"patch_146\">\n    <path d=\"M 240.805227 333.36 \nL 244.863409 333.36 \nL 244.863409 333.355541 \nL 240.805227 333.355541 \nz\n\" clip-path=\"url(#p43a8b6ce32)\" style=\"fill: #0000ff; opacity: 0.5\"/>\n   </g>\n   <g id=\"patch_147\">\n    <path d=\"M 244.863409 333.36 \nL 248.921591 333.36 \nL 248.921591 333.355541 \nL 244.863409 333.355541 \nz\n\" clip-path=\"url(#p43a8b6ce32)\" style=\"fill: #0000ff; opacity: 0.5\"/>\n   </g>\n   <g id=\"patch_148\">\n    <path d=\"M 248.921591 333.36 \nL 252.979773 333.36 \nL 252.979773 333.351081 \nL 248.921591 333.351081 \nz\n\" clip-path=\"url(#p43a8b6ce32)\" style=\"fill: #0000ff; opacity: 0.5\"/>\n   </g>\n   <g id=\"patch_149\">\n    <path d=\"M 252.979773 333.36 \nL 257.037955 333.36 \nL 257.037955 333.346622 \nL 252.979773 333.346622 \nz\n\" clip-path=\"url(#p43a8b6ce32)\" style=\"fill: #0000ff; opacity: 0.5\"/>\n   </g>\n   <g id=\"patch_150\">\n    <path d=\"M 257.037955 333.36 \nL 261.096136 333.36 \nL 261.096136 333.355541 \nL 257.037955 333.355541 \nz\n\" clip-path=\"url(#p43a8b6ce32)\" style=\"fill: #0000ff; opacity: 0.5\"/>\n   </g>\n   <g id=\"patch_151\">\n    <path d=\"M 261.096136 333.36 \nL 265.154318 333.36 \nL 265.154318 333.355541 \nL 261.096136 333.355541 \nz\n\" clip-path=\"url(#p43a8b6ce32)\" style=\"fill: #0000ff; opacity: 0.5\"/>\n   </g>\n   <g id=\"patch_152\">\n    <path d=\"M 265.154318 333.36 \nL 269.2125 333.36 \nL 269.2125 333.36 \nL 265.154318 333.36 \nz\n\" clip-path=\"url(#p43a8b6ce32)\" style=\"fill: #0000ff; opacity: 0.5\"/>\n   </g>\n   <g id=\"patch_153\">\n    <path d=\"M 269.2125 333.36 \nL 273.270682 333.36 \nL 273.270682 333.36 \nL 269.2125 333.36 \nz\n\" clip-path=\"url(#p43a8b6ce32)\" style=\"fill: #0000ff; opacity: 0.5\"/>\n   </g>\n   <g id=\"patch_154\">\n    <path d=\"M 273.270682 333.36 \nL 277.328864 333.36 \nL 277.328864 333.36 \nL 273.270682 333.36 \nz\n\" clip-path=\"url(#p43a8b6ce32)\" style=\"fill: #0000ff; opacity: 0.5\"/>\n   </g>\n   <g id=\"patch_155\">\n    <path d=\"M 277.328864 333.36 \nL 281.387045 333.36 \nL 281.387045 333.36 \nL 277.328864 333.36 \nz\n\" clip-path=\"url(#p43a8b6ce32)\" style=\"fill: #0000ff; opacity: 0.5\"/>\n   </g>\n   <g id=\"patch_156\">\n    <path d=\"M 281.387045 333.36 \nL 285.445227 333.36 \nL 285.445227 333.355541 \nL 281.387045 333.355541 \nz\n\" clip-path=\"url(#p43a8b6ce32)\" style=\"fill: #0000ff; opacity: 0.5\"/>\n   </g>\n   <g id=\"patch_157\">\n    <path d=\"M 285.445227 333.36 \nL 289.503409 333.36 \nL 289.503409 333.36 \nL 285.445227 333.36 \nz\n\" clip-path=\"url(#p43a8b6ce32)\" style=\"fill: #0000ff; opacity: 0.5\"/>\n   </g>\n   <g id=\"patch_158\">\n    <path d=\"M 289.503409 333.36 \nL 293.561591 333.36 \nL 293.561591 333.355541 \nL 289.503409 333.355541 \nz\n\" clip-path=\"url(#p43a8b6ce32)\" style=\"fill: #0000ff; opacity: 0.5\"/>\n   </g>\n   <g id=\"patch_159\">\n    <path d=\"M 293.561591 333.36 \nL 297.619773 333.36 \nL 297.619773 333.36 \nL 293.561591 333.36 \nz\n\" clip-path=\"url(#p43a8b6ce32)\" style=\"fill: #0000ff; opacity: 0.5\"/>\n   </g>\n   <g id=\"patch_160\">\n    <path d=\"M 297.619773 333.36 \nL 301.677955 333.36 \nL 301.677955 333.36 \nL 297.619773 333.36 \nz\n\" clip-path=\"url(#p43a8b6ce32)\" style=\"fill: #0000ff; opacity: 0.5\"/>\n   </g>\n   <g id=\"patch_161\">\n    <path d=\"M 301.677955 333.36 \nL 305.736136 333.36 \nL 305.736136 333.36 \nL 301.677955 333.36 \nz\n\" clip-path=\"url(#p43a8b6ce32)\" style=\"fill: #0000ff; opacity: 0.5\"/>\n   </g>\n   <g id=\"patch_162\">\n    <path d=\"M 305.736136 333.36 \nL 309.794318 333.36 \nL 309.794318 333.36 \nL 305.736136 333.36 \nz\n\" clip-path=\"url(#p43a8b6ce32)\" style=\"fill: #0000ff; opacity: 0.5\"/>\n   </g>\n   <g id=\"patch_163\">\n    <path d=\"M 309.794318 333.36 \nL 313.8525 333.36 \nL 313.8525 333.36 \nL 309.794318 333.36 \nz\n\" clip-path=\"url(#p43a8b6ce32)\" style=\"fill: #0000ff; opacity: 0.5\"/>\n   </g>\n   <g id=\"patch_164\">\n    <path d=\"M 313.8525 333.36 \nL 317.910682 333.36 \nL 317.910682 333.36 \nL 313.8525 333.36 \nz\n\" clip-path=\"url(#p43a8b6ce32)\" style=\"fill: #0000ff; opacity: 0.5\"/>\n   </g>\n   <g id=\"patch_165\">\n    <path d=\"M 317.910682 333.36 \nL 321.968864 333.36 \nL 321.968864 333.36 \nL 317.910682 333.36 \nz\n\" clip-path=\"url(#p43a8b6ce32)\" style=\"fill: #0000ff; opacity: 0.5\"/>\n   </g>\n   <g id=\"patch_166\">\n    <path d=\"M 321.968864 333.36 \nL 326.027045 333.36 \nL 326.027045 333.355541 \nL 321.968864 333.355541 \nz\n\" clip-path=\"url(#p43a8b6ce32)\" style=\"fill: #0000ff; opacity: 0.5\"/>\n   </g>\n   <g id=\"patch_167\">\n    <path d=\"M 326.027045 333.36 \nL 330.085227 333.36 \nL 330.085227 333.36 \nL 326.027045 333.36 \nz\n\" clip-path=\"url(#p43a8b6ce32)\" style=\"fill: #0000ff; opacity: 0.5\"/>\n   </g>\n   <g id=\"patch_168\">\n    <path d=\"M 330.085227 333.36 \nL 334.143409 333.36 \nL 334.143409 333.36 \nL 330.085227 333.36 \nz\n\" clip-path=\"url(#p43a8b6ce32)\" style=\"fill: #0000ff; opacity: 0.5\"/>\n   </g>\n   <g id=\"patch_169\">\n    <path d=\"M 334.143409 333.36 \nL 338.201591 333.36 \nL 338.201591 333.36 \nL 334.143409 333.36 \nz\n\" clip-path=\"url(#p43a8b6ce32)\" style=\"fill: #0000ff; opacity: 0.5\"/>\n   </g>\n   <g id=\"patch_170\">\n    <path d=\"M 338.201591 333.36 \nL 342.259773 333.36 \nL 342.259773 333.36 \nL 338.201591 333.36 \nz\n\" clip-path=\"url(#p43a8b6ce32)\" style=\"fill: #0000ff; opacity: 0.5\"/>\n   </g>\n   <g id=\"patch_171\">\n    <path d=\"M 342.259773 333.36 \nL 346.317955 333.36 \nL 346.317955 333.36 \nL 342.259773 333.36 \nz\n\" clip-path=\"url(#p43a8b6ce32)\" style=\"fill: #0000ff; opacity: 0.5\"/>\n   </g>\n   <g id=\"patch_172\">\n    <path d=\"M 346.317955 333.36 \nL 350.376136 333.36 \nL 350.376136 333.36 \nL 346.317955 333.36 \nz\n\" clip-path=\"url(#p43a8b6ce32)\" style=\"fill: #0000ff; opacity: 0.5\"/>\n   </g>\n   <g id=\"patch_173\">\n    <path d=\"M 350.376136 333.36 \nL 354.434318 333.36 \nL 354.434318 333.36 \nL 350.376136 333.36 \nz\n\" clip-path=\"url(#p43a8b6ce32)\" style=\"fill: #0000ff; opacity: 0.5\"/>\n   </g>\n   <g id=\"patch_174\">\n    <path d=\"M 354.434318 333.36 \nL 358.4925 333.36 \nL 358.4925 333.36 \nL 354.434318 333.36 \nz\n\" clip-path=\"url(#p43a8b6ce32)\" style=\"fill: #0000ff; opacity: 0.5\"/>\n   </g>\n   <g id=\"patch_175\">\n    <path d=\"M 358.4925 333.36 \nL 362.550682 333.36 \nL 362.550682 333.36 \nL 358.4925 333.36 \nz\n\" clip-path=\"url(#p43a8b6ce32)\" style=\"fill: #0000ff; opacity: 0.5\"/>\n   </g>\n   <g id=\"patch_176\">\n    <path d=\"M 362.550682 333.36 \nL 366.608864 333.36 \nL 366.608864 333.36 \nL 362.550682 333.36 \nz\n\" clip-path=\"url(#p43a8b6ce32)\" style=\"fill: #0000ff; opacity: 0.5\"/>\n   </g>\n   <g id=\"patch_177\">\n    <path d=\"M 366.608864 333.36 \nL 370.667045 333.36 \nL 370.667045 333.36 \nL 366.608864 333.36 \nz\n\" clip-path=\"url(#p43a8b6ce32)\" style=\"fill: #0000ff; opacity: 0.5\"/>\n   </g>\n   <g id=\"patch_178\">\n    <path d=\"M 370.667045 333.36 \nL 374.725227 333.36 \nL 374.725227 333.36 \nL 370.667045 333.36 \nz\n\" clip-path=\"url(#p43a8b6ce32)\" style=\"fill: #0000ff; opacity: 0.5\"/>\n   </g>\n   <g id=\"patch_179\">\n    <path d=\"M 374.725227 333.36 \nL 378.783409 333.36 \nL 378.783409 333.36 \nL 374.725227 333.36 \nz\n\" clip-path=\"url(#p43a8b6ce32)\" style=\"fill: #0000ff; opacity: 0.5\"/>\n   </g>\n   <g id=\"patch_180\">\n    <path d=\"M 378.783409 333.36 \nL 382.841591 333.36 \nL 382.841591 333.36 \nL 378.783409 333.36 \nz\n\" clip-path=\"url(#p43a8b6ce32)\" style=\"fill: #0000ff; opacity: 0.5\"/>\n   </g>\n   <g id=\"patch_181\">\n    <path d=\"M 382.841591 333.36 \nL 386.899773 333.36 \nL 386.899773 333.36 \nL 382.841591 333.36 \nz\n\" clip-path=\"url(#p43a8b6ce32)\" style=\"fill: #0000ff; opacity: 0.5\"/>\n   </g>\n   <g id=\"patch_182\">\n    <path d=\"M 386.899773 333.36 \nL 390.957955 333.36 \nL 390.957955 333.36 \nL 386.899773 333.36 \nz\n\" clip-path=\"url(#p43a8b6ce32)\" style=\"fill: #0000ff; opacity: 0.5\"/>\n   </g>\n   <g id=\"patch_183\">\n    <path d=\"M 390.957955 333.36 \nL 395.016136 333.36 \nL 395.016136 333.36 \nL 390.957955 333.36 \nz\n\" clip-path=\"url(#p43a8b6ce32)\" style=\"fill: #0000ff; opacity: 0.5\"/>\n   </g>\n   <g id=\"patch_184\">\n    <path d=\"M 395.016136 333.36 \nL 399.074318 333.36 \nL 399.074318 333.36 \nL 395.016136 333.36 \nz\n\" clip-path=\"url(#p43a8b6ce32)\" style=\"fill: #0000ff; opacity: 0.5\"/>\n   </g>\n   <g id=\"patch_185\">\n    <path d=\"M 399.074318 333.36 \nL 403.1325 333.36 \nL 403.1325 333.36 \nL 399.074318 333.36 \nz\n\" clip-path=\"url(#p43a8b6ce32)\" style=\"fill: #0000ff; opacity: 0.5\"/>\n   </g>\n   <g id=\"patch_186\">\n    <path d=\"M 403.1325 333.36 \nL 407.190682 333.36 \nL 407.190682 333.36 \nL 403.1325 333.36 \nz\n\" clip-path=\"url(#p43a8b6ce32)\" style=\"fill: #0000ff; opacity: 0.5\"/>\n   </g>\n   <g id=\"patch_187\">\n    <path d=\"M 407.190682 333.36 \nL 411.248864 333.36 \nL 411.248864 333.36 \nL 407.190682 333.36 \nz\n\" clip-path=\"url(#p43a8b6ce32)\" style=\"fill: #0000ff; opacity: 0.5\"/>\n   </g>\n   <g id=\"patch_188\">\n    <path d=\"M 411.248864 333.36 \nL 415.307045 333.36 \nL 415.307045 333.36 \nL 411.248864 333.36 \nz\n\" clip-path=\"url(#p43a8b6ce32)\" style=\"fill: #0000ff; opacity: 0.5\"/>\n   </g>\n   <g id=\"patch_189\">\n    <path d=\"M 415.307045 333.36 \nL 419.365227 333.36 \nL 419.365227 333.36 \nL 415.307045 333.36 \nz\n\" clip-path=\"url(#p43a8b6ce32)\" style=\"fill: #0000ff; opacity: 0.5\"/>\n   </g>\n   <g id=\"patch_190\">\n    <path d=\"M 419.365227 333.36 \nL 423.423409 333.36 \nL 423.423409 333.36 \nL 419.365227 333.36 \nz\n\" clip-path=\"url(#p43a8b6ce32)\" style=\"fill: #0000ff; opacity: 0.5\"/>\n   </g>\n   <g id=\"patch_191\">\n    <path d=\"M 423.423409 333.36 \nL 427.481591 333.36 \nL 427.481591 333.36 \nL 423.423409 333.36 \nz\n\" clip-path=\"url(#p43a8b6ce32)\" style=\"fill: #0000ff; opacity: 0.5\"/>\n   </g>\n   <g id=\"patch_192\">\n    <path d=\"M 427.481591 333.36 \nL 431.539773 333.36 \nL 431.539773 333.36 \nL 427.481591 333.36 \nz\n\" clip-path=\"url(#p43a8b6ce32)\" style=\"fill: #0000ff; opacity: 0.5\"/>\n   </g>\n   <g id=\"patch_193\">\n    <path d=\"M 431.539773 333.36 \nL 435.597955 333.36 \nL 435.597955 333.36 \nL 431.539773 333.36 \nz\n\" clip-path=\"url(#p43a8b6ce32)\" style=\"fill: #0000ff; opacity: 0.5\"/>\n   </g>\n   <g id=\"patch_194\">\n    <path d=\"M 435.597955 333.36 \nL 439.656136 333.36 \nL 439.656136 333.36 \nL 435.597955 333.36 \nz\n\" clip-path=\"url(#p43a8b6ce32)\" style=\"fill: #0000ff; opacity: 0.5\"/>\n   </g>\n   <g id=\"patch_195\">\n    <path d=\"M 439.656136 333.36 \nL 443.714318 333.36 \nL 443.714318 333.36 \nL 439.656136 333.36 \nz\n\" clip-path=\"url(#p43a8b6ce32)\" style=\"fill: #0000ff; opacity: 0.5\"/>\n   </g>\n   <g id=\"patch_196\">\n    <path d=\"M 443.714318 333.36 \nL 447.7725 333.36 \nL 447.7725 333.36 \nL 443.714318 333.36 \nz\n\" clip-path=\"url(#p43a8b6ce32)\" style=\"fill: #0000ff; opacity: 0.5\"/>\n   </g>\n   <g id=\"patch_197\">\n    <path d=\"M 447.7725 333.36 \nL 451.830682 333.36 \nL 451.830682 333.36 \nL 447.7725 333.36 \nz\n\" clip-path=\"url(#p43a8b6ce32)\" style=\"fill: #0000ff; opacity: 0.5\"/>\n   </g>\n   <g id=\"patch_198\">\n    <path d=\"M 451.830682 333.36 \nL 455.888864 333.36 \nL 455.888864 333.36 \nL 451.830682 333.36 \nz\n\" clip-path=\"url(#p43a8b6ce32)\" style=\"fill: #0000ff; opacity: 0.5\"/>\n   </g>\n   <g id=\"patch_199\">\n    <path d=\"M 455.888864 333.36 \nL 459.947045 333.36 \nL 459.947045 333.36 \nL 455.888864 333.36 \nz\n\" clip-path=\"url(#p43a8b6ce32)\" style=\"fill: #0000ff; opacity: 0.5\"/>\n   </g>\n   <g id=\"patch_200\">\n    <path d=\"M 459.947045 333.36 \nL 464.005227 333.36 \nL 464.005227 333.36 \nL 459.947045 333.36 \nz\n\" clip-path=\"url(#p43a8b6ce32)\" style=\"fill: #0000ff; opacity: 0.5\"/>\n   </g>\n   <g id=\"patch_201\">\n    <path d=\"M 464.005227 333.36 \nL 468.063409 333.36 \nL 468.063409 333.36 \nL 464.005227 333.36 \nz\n\" clip-path=\"url(#p43a8b6ce32)\" style=\"fill: #0000ff; opacity: 0.5\"/>\n   </g>\n   <g id=\"patch_202\">\n    <path d=\"M 468.063409 333.36 \nL 472.121591 333.36 \nL 472.121591 333.355541 \nL 468.063409 333.355541 \nz\n\" clip-path=\"url(#p43a8b6ce32)\" style=\"fill: #0000ff; opacity: 0.5\"/>\n   </g>\n   <g id=\"matplotlib.axis_1\">\n    <g id=\"xtick_1\">\n     <g id=\"line2d_1\">\n      <defs>\n       <path id=\"m8d31cbab63\" d=\"M 0 0 \nL 0 3.5 \n\" style=\"stroke: #000000; stroke-width: 0.8\"/>\n      </defs>\n      <g>\n       <use xlink:href=\"#m8d31cbab63\" x=\"66.303409\" y=\"333.36\" style=\"stroke: #000000; stroke-width: 0.8\"/>\n      </g>\n     </g>\n     <g id=\"text_1\">\n      <!-- 0 -->\n      <g transform=\"translate(63.122159 347.958438)scale(0.1 -0.1)\">\n       <defs>\n        <path id=\"DejaVuSans-30\" d=\"M 2034 4250 \nQ 1547 4250 1301 3770 \nQ 1056 3291 1056 2328 \nQ 1056 1369 1301 889 \nQ 1547 409 2034 409 \nQ 2525 409 2770 889 \nQ 3016 1369 3016 2328 \nQ 3016 3291 2770 3770 \nQ 2525 4250 2034 4250 \nz\nM 2034 4750 \nQ 2819 4750 3233 4129 \nQ 3647 3509 3647 2328 \nQ 3647 1150 3233 529 \nQ 2819 -91 2034 -91 \nQ 1250 -91 836 529 \nQ 422 1150 422 2328 \nQ 422 3509 836 4129 \nQ 1250 4750 2034 4750 \nz\n\" transform=\"scale(0.015625)\"/>\n       </defs>\n       <use xlink:href=\"#DejaVuSans-30\"/>\n      </g>\n     </g>\n    </g>\n    <g id=\"xtick_2\">\n     <g id=\"line2d_2\">\n      <g>\n       <use xlink:href=\"#m8d31cbab63\" x=\"136.514167\" y=\"333.36\" style=\"stroke: #000000; stroke-width: 0.8\"/>\n      </g>\n     </g>\n     <g id=\"text_2\">\n      <!-- 50 -->\n      <g transform=\"translate(130.151667 347.958438)scale(0.1 -0.1)\">\n       <defs>\n        <path id=\"DejaVuSans-35\" d=\"M 691 4666 \nL 3169 4666 \nL 3169 4134 \nL 1269 4134 \nL 1269 2991 \nQ 1406 3038 1543 3061 \nQ 1681 3084 1819 3084 \nQ 2600 3084 3056 2656 \nQ 3513 2228 3513 1497 \nQ 3513 744 3044 326 \nQ 2575 -91 1722 -91 \nQ 1428 -91 1123 -41 \nQ 819 9 494 109 \nL 494 744 \nQ 775 591 1075 516 \nQ 1375 441 1709 441 \nQ 2250 441 2565 725 \nQ 2881 1009 2881 1497 \nQ 2881 1984 2565 2268 \nQ 2250 2553 1709 2553 \nQ 1456 2553 1204 2497 \nQ 953 2441 691 2322 \nL 691 4666 \nz\n\" transform=\"scale(0.015625)\"/>\n       </defs>\n       <use xlink:href=\"#DejaVuSans-35\"/>\n       <use xlink:href=\"#DejaVuSans-30\" x=\"63.623047\"/>\n      </g>\n     </g>\n    </g>\n    <g id=\"xtick_3\">\n     <g id=\"line2d_3\">\n      <g>\n       <use xlink:href=\"#m8d31cbab63\" x=\"206.724925\" y=\"333.36\" style=\"stroke: #000000; stroke-width: 0.8\"/>\n      </g>\n     </g>\n     <g id=\"text_3\">\n      <!-- 100 -->\n      <g transform=\"translate(197.181175 347.958438)scale(0.1 -0.1)\">\n       <defs>\n        <path id=\"DejaVuSans-31\" d=\"M 794 531 \nL 1825 531 \nL 1825 4091 \nL 703 3866 \nL 703 4441 \nL 1819 4666 \nL 2450 4666 \nL 2450 531 \nL 3481 531 \nL 3481 0 \nL 794 0 \nL 794 531 \nz\n\" transform=\"scale(0.015625)\"/>\n       </defs>\n       <use xlink:href=\"#DejaVuSans-31\"/>\n       <use xlink:href=\"#DejaVuSans-30\" x=\"63.623047\"/>\n       <use xlink:href=\"#DejaVuSans-30\" x=\"127.246094\"/>\n      </g>\n     </g>\n    </g>\n    <g id=\"xtick_4\">\n     <g id=\"line2d_4\">\n      <g>\n       <use xlink:href=\"#m8d31cbab63\" x=\"276.935683\" y=\"333.36\" style=\"stroke: #000000; stroke-width: 0.8\"/>\n      </g>\n     </g>\n     <g id=\"text_4\">\n      <!-- 150 -->\n      <g transform=\"translate(267.391933 347.958438)scale(0.1 -0.1)\">\n       <use xlink:href=\"#DejaVuSans-31\"/>\n       <use xlink:href=\"#DejaVuSans-35\" x=\"63.623047\"/>\n       <use xlink:href=\"#DejaVuSans-30\" x=\"127.246094\"/>\n      </g>\n     </g>\n    </g>\n    <g id=\"xtick_5\">\n     <g id=\"line2d_5\">\n      <g>\n       <use xlink:href=\"#m8d31cbab63\" x=\"347.146441\" y=\"333.36\" style=\"stroke: #000000; stroke-width: 0.8\"/>\n      </g>\n     </g>\n     <g id=\"text_5\">\n      <!-- 200 -->\n      <g transform=\"translate(337.602691 347.958438)scale(0.1 -0.1)\">\n       <defs>\n        <path id=\"DejaVuSans-32\" d=\"M 1228 531 \nL 3431 531 \nL 3431 0 \nL 469 0 \nL 469 531 \nQ 828 903 1448 1529 \nQ 2069 2156 2228 2338 \nQ 2531 2678 2651 2914 \nQ 2772 3150 2772 3378 \nQ 2772 3750 2511 3984 \nQ 2250 4219 1831 4219 \nQ 1534 4219 1204 4116 \nQ 875 4013 500 3803 \nL 500 4441 \nQ 881 4594 1212 4672 \nQ 1544 4750 1819 4750 \nQ 2544 4750 2975 4387 \nQ 3406 4025 3406 3419 \nQ 3406 3131 3298 2873 \nQ 3191 2616 2906 2266 \nQ 2828 2175 2409 1742 \nQ 1991 1309 1228 531 \nz\n\" transform=\"scale(0.015625)\"/>\n       </defs>\n       <use xlink:href=\"#DejaVuSans-32\"/>\n       <use xlink:href=\"#DejaVuSans-30\" x=\"63.623047\"/>\n       <use xlink:href=\"#DejaVuSans-30\" x=\"127.246094\"/>\n      </g>\n     </g>\n    </g>\n    <g id=\"xtick_6\">\n     <g id=\"line2d_6\">\n      <g>\n       <use xlink:href=\"#m8d31cbab63\" x=\"417.3572\" y=\"333.36\" style=\"stroke: #000000; stroke-width: 0.8\"/>\n      </g>\n     </g>\n     <g id=\"text_6\">\n      <!-- 250 -->\n      <g transform=\"translate(407.81345 347.958438)scale(0.1 -0.1)\">\n       <use xlink:href=\"#DejaVuSans-32\"/>\n       <use xlink:href=\"#DejaVuSans-35\" x=\"63.623047\"/>\n       <use xlink:href=\"#DejaVuSans-30\" x=\"127.246094\"/>\n      </g>\n     </g>\n    </g>\n    <g id=\"xtick_7\">\n     <g id=\"line2d_7\">\n      <g>\n       <use xlink:href=\"#m8d31cbab63\" x=\"487.567958\" y=\"333.36\" style=\"stroke: #000000; stroke-width: 0.8\"/>\n      </g>\n     </g>\n     <g id=\"text_7\">\n      <!-- 300 -->\n      <g transform=\"translate(478.024208 347.958438)scale(0.1 -0.1)\">\n       <defs>\n        <path id=\"DejaVuSans-33\" d=\"M 2597 2516 \nQ 3050 2419 3304 2112 \nQ 3559 1806 3559 1356 \nQ 3559 666 3084 287 \nQ 2609 -91 1734 -91 \nQ 1441 -91 1130 -33 \nQ 819 25 488 141 \nL 488 750 \nQ 750 597 1062 519 \nQ 1375 441 1716 441 \nQ 2309 441 2620 675 \nQ 2931 909 2931 1356 \nQ 2931 1769 2642 2001 \nQ 2353 2234 1838 2234 \nL 1294 2234 \nL 1294 2753 \nL 1863 2753 \nQ 2328 2753 2575 2939 \nQ 2822 3125 2822 3475 \nQ 2822 3834 2567 4026 \nQ 2313 4219 1838 4219 \nQ 1578 4219 1281 4162 \nQ 984 4106 628 3988 \nL 628 4550 \nQ 988 4650 1302 4700 \nQ 1616 4750 1894 4750 \nQ 2613 4750 3031 4423 \nQ 3450 4097 3450 3541 \nQ 3450 3153 3228 2886 \nQ 3006 2619 2597 2516 \nz\n\" transform=\"scale(0.015625)\"/>\n       </defs>\n       <use xlink:href=\"#DejaVuSans-33\"/>\n       <use xlink:href=\"#DejaVuSans-30\" x=\"63.623047\"/>\n       <use xlink:href=\"#DejaVuSans-30\" x=\"127.246094\"/>\n      </g>\n     </g>\n    </g>\n   </g>\n   <g id=\"matplotlib.axis_2\">\n    <g id=\"ytick_1\">\n     <g id=\"line2d_8\">\n      <defs>\n       <path id=\"m31d710fbea\" d=\"M 0 0 \nL -3.5 0 \n\" style=\"stroke: #000000; stroke-width: 0.8\"/>\n      </defs>\n      <g>\n       <use xlink:href=\"#m31d710fbea\" x=\"46.0125\" y=\"333.36\" style=\"stroke: #000000; stroke-width: 0.8\"/>\n      </g>\n     </g>\n     <g id=\"text_8\">\n      <!-- 0 -->\n      <g transform=\"translate(32.65 337.159219)scale(0.1 -0.1)\">\n       <use xlink:href=\"#DejaVuSans-30\"/>\n      </g>\n     </g>\n    </g>\n    <g id=\"ytick_2\">\n     <g id=\"line2d_9\">\n      <g>\n       <use xlink:href=\"#m31d710fbea\" x=\"46.0125\" y=\"288.765339\" style=\"stroke: #000000; stroke-width: 0.8\"/>\n      </g>\n     </g>\n     <g id=\"text_9\">\n      <!-- 10000 -->\n      <g transform=\"translate(7.2 292.564558)scale(0.1 -0.1)\">\n       <use xlink:href=\"#DejaVuSans-31\"/>\n       <use xlink:href=\"#DejaVuSans-30\" x=\"63.623047\"/>\n       <use xlink:href=\"#DejaVuSans-30\" x=\"127.246094\"/>\n       <use xlink:href=\"#DejaVuSans-30\" x=\"190.869141\"/>\n       <use xlink:href=\"#DejaVuSans-30\" x=\"254.492188\"/>\n      </g>\n     </g>\n    </g>\n    <g id=\"ytick_3\">\n     <g id=\"line2d_10\">\n      <g>\n       <use xlink:href=\"#m31d710fbea\" x=\"46.0125\" y=\"244.170678\" style=\"stroke: #000000; stroke-width: 0.8\"/>\n      </g>\n     </g>\n     <g id=\"text_10\">\n      <!-- 20000 -->\n      <g transform=\"translate(7.2 247.969897)scale(0.1 -0.1)\">\n       <use xlink:href=\"#DejaVuSans-32\"/>\n       <use xlink:href=\"#DejaVuSans-30\" x=\"63.623047\"/>\n       <use xlink:href=\"#DejaVuSans-30\" x=\"127.246094\"/>\n       <use xlink:href=\"#DejaVuSans-30\" x=\"190.869141\"/>\n       <use xlink:href=\"#DejaVuSans-30\" x=\"254.492188\"/>\n      </g>\n     </g>\n    </g>\n    <g id=\"ytick_4\">\n     <g id=\"line2d_11\">\n      <g>\n       <use xlink:href=\"#m31d710fbea\" x=\"46.0125\" y=\"199.576017\" style=\"stroke: #000000; stroke-width: 0.8\"/>\n      </g>\n     </g>\n     <g id=\"text_11\">\n      <!-- 30000 -->\n      <g transform=\"translate(7.2 203.375235)scale(0.1 -0.1)\">\n       <use xlink:href=\"#DejaVuSans-33\"/>\n       <use xlink:href=\"#DejaVuSans-30\" x=\"63.623047\"/>\n       <use xlink:href=\"#DejaVuSans-30\" x=\"127.246094\"/>\n       <use xlink:href=\"#DejaVuSans-30\" x=\"190.869141\"/>\n       <use xlink:href=\"#DejaVuSans-30\" x=\"254.492188\"/>\n      </g>\n     </g>\n    </g>\n    <g id=\"ytick_5\">\n     <g id=\"line2d_12\">\n      <g>\n       <use xlink:href=\"#m31d710fbea\" x=\"46.0125\" y=\"154.981356\" style=\"stroke: #000000; stroke-width: 0.8\"/>\n      </g>\n     </g>\n     <g id=\"text_12\">\n      <!-- 40000 -->\n      <g transform=\"translate(7.2 158.780574)scale(0.1 -0.1)\">\n       <defs>\n        <path id=\"DejaVuSans-34\" d=\"M 2419 4116 \nL 825 1625 \nL 2419 1625 \nL 2419 4116 \nz\nM 2253 4666 \nL 3047 4666 \nL 3047 1625 \nL 3713 1625 \nL 3713 1100 \nL 3047 1100 \nL 3047 0 \nL 2419 0 \nL 2419 1100 \nL 313 1100 \nL 313 1709 \nL 2253 4666 \nz\n\" transform=\"scale(0.015625)\"/>\n       </defs>\n       <use xlink:href=\"#DejaVuSans-34\"/>\n       <use xlink:href=\"#DejaVuSans-30\" x=\"63.623047\"/>\n       <use xlink:href=\"#DejaVuSans-30\" x=\"127.246094\"/>\n       <use xlink:href=\"#DejaVuSans-30\" x=\"190.869141\"/>\n       <use xlink:href=\"#DejaVuSans-30\" x=\"254.492188\"/>\n      </g>\n     </g>\n    </g>\n    <g id=\"ytick_6\">\n     <g id=\"line2d_13\">\n      <g>\n       <use xlink:href=\"#m31d710fbea\" x=\"46.0125\" y=\"110.386694\" style=\"stroke: #000000; stroke-width: 0.8\"/>\n      </g>\n     </g>\n     <g id=\"text_13\">\n      <!-- 50000 -->\n      <g transform=\"translate(7.2 114.185913)scale(0.1 -0.1)\">\n       <use xlink:href=\"#DejaVuSans-35\"/>\n       <use xlink:href=\"#DejaVuSans-30\" x=\"63.623047\"/>\n       <use xlink:href=\"#DejaVuSans-30\" x=\"127.246094\"/>\n       <use xlink:href=\"#DejaVuSans-30\" x=\"190.869141\"/>\n       <use xlink:href=\"#DejaVuSans-30\" x=\"254.492188\"/>\n      </g>\n     </g>\n    </g>\n    <g id=\"ytick_7\">\n     <g id=\"line2d_14\">\n      <g>\n       <use xlink:href=\"#m31d710fbea\" x=\"46.0125\" y=\"65.792033\" style=\"stroke: #000000; stroke-width: 0.8\"/>\n      </g>\n     </g>\n     <g id=\"text_14\">\n      <!-- 60000 -->\n      <g transform=\"translate(7.2 69.591252)scale(0.1 -0.1)\">\n       <defs>\n        <path id=\"DejaVuSans-36\" d=\"M 2113 2584 \nQ 1688 2584 1439 2293 \nQ 1191 2003 1191 1497 \nQ 1191 994 1439 701 \nQ 1688 409 2113 409 \nQ 2538 409 2786 701 \nQ 3034 994 3034 1497 \nQ 3034 2003 2786 2293 \nQ 2538 2584 2113 2584 \nz\nM 3366 4563 \nL 3366 3988 \nQ 3128 4100 2886 4159 \nQ 2644 4219 2406 4219 \nQ 1781 4219 1451 3797 \nQ 1122 3375 1075 2522 \nQ 1259 2794 1537 2939 \nQ 1816 3084 2150 3084 \nQ 2853 3084 3261 2657 \nQ 3669 2231 3669 1497 \nQ 3669 778 3244 343 \nQ 2819 -91 2113 -91 \nQ 1303 -91 875 529 \nQ 447 1150 447 2328 \nQ 447 3434 972 4092 \nQ 1497 4750 2381 4750 \nQ 2619 4750 2861 4703 \nQ 3103 4656 3366 4563 \nz\n\" transform=\"scale(0.015625)\"/>\n       </defs>\n       <use xlink:href=\"#DejaVuSans-36\"/>\n       <use xlink:href=\"#DejaVuSans-30\" x=\"63.623047\"/>\n       <use xlink:href=\"#DejaVuSans-30\" x=\"127.246094\"/>\n       <use xlink:href=\"#DejaVuSans-30\" x=\"190.869141\"/>\n       <use xlink:href=\"#DejaVuSans-30\" x=\"254.492188\"/>\n      </g>\n     </g>\n    </g>\n    <g id=\"ytick_8\">\n     <g id=\"line2d_15\">\n      <g>\n       <use xlink:href=\"#m31d710fbea\" x=\"46.0125\" y=\"21.197372\" style=\"stroke: #000000; stroke-width: 0.8\"/>\n      </g>\n     </g>\n     <g id=\"text_15\">\n      <!-- 70000 -->\n      <g transform=\"translate(7.2 24.996591)scale(0.1 -0.1)\">\n       <defs>\n        <path id=\"DejaVuSans-37\" d=\"M 525 4666 \nL 3525 4666 \nL 3525 4397 \nL 1831 0 \nL 1172 0 \nL 2766 4134 \nL 525 4134 \nL 525 4666 \nz\n\" transform=\"scale(0.015625)\"/>\n       </defs>\n       <use xlink:href=\"#DejaVuSans-37\"/>\n       <use xlink:href=\"#DejaVuSans-30\" x=\"63.623047\"/>\n       <use xlink:href=\"#DejaVuSans-30\" x=\"127.246094\"/>\n       <use xlink:href=\"#DejaVuSans-30\" x=\"190.869141\"/>\n       <use xlink:href=\"#DejaVuSans-30\" x=\"254.492188\"/>\n      </g>\n     </g>\n    </g>\n   </g>\n   <g id=\"patch_203\">\n    <path d=\"M 46.0125 333.36 \nL 46.0125 7.2 \n\" style=\"fill: none; stroke: #000000; stroke-width: 0.8; stroke-linejoin: miter; stroke-linecap: square\"/>\n   </g>\n   <g id=\"patch_204\">\n    <path d=\"M 492.4125 333.36 \nL 492.4125 7.2 \n\" style=\"fill: none; stroke: #000000; stroke-width: 0.8; stroke-linejoin: miter; stroke-linecap: square\"/>\n   </g>\n   <g id=\"patch_205\">\n    <path d=\"M 46.0125 333.36 \nL 492.4125 333.36 \n\" style=\"fill: none; stroke: #000000; stroke-width: 0.8; stroke-linejoin: miter; stroke-linecap: square\"/>\n   </g>\n   <g id=\"patch_206\">\n    <path d=\"M 46.0125 7.2 \nL 492.4125 7.2 \n\" style=\"fill: none; stroke: #000000; stroke-width: 0.8; stroke-linejoin: miter; stroke-linecap: square\"/>\n   </g>\n   <g id=\"legend_1\">\n    <g id=\"patch_207\">\n     <path d=\"M 386.1 44.55625 \nL 485.4125 44.55625 \nQ 487.4125 44.55625 487.4125 42.55625 \nL 487.4125 14.2 \nQ 487.4125 12.2 485.4125 12.2 \nL 386.1 12.2 \nQ 384.1 12.2 384.1 14.2 \nL 384.1 42.55625 \nQ 384.1 44.55625 386.1 44.55625 \nz\n\" style=\"fill: #ffffff; opacity: 0.8; stroke: #cccccc; stroke-linejoin: miter\"/>\n    </g>\n    <g id=\"patch_208\">\n     <path d=\"M 388.1 23.798437 \nL 408.1 23.798437 \nL 408.1 16.798437 \nL 388.1 16.798437 \nz\n\" style=\"fill: #ffa500; opacity: 0.5\"/>\n    </g>\n    <g id=\"text_16\">\n     <!-- preprocessed -->\n     <g transform=\"translate(416.1 23.798437)scale(0.1 -0.1)\">\n      <defs>\n       <path id=\"DejaVuSans-70\" d=\"M 1159 525 \nL 1159 -1331 \nL 581 -1331 \nL 581 3500 \nL 1159 3500 \nL 1159 2969 \nQ 1341 3281 1617 3432 \nQ 1894 3584 2278 3584 \nQ 2916 3584 3314 3078 \nQ 3713 2572 3713 1747 \nQ 3713 922 3314 415 \nQ 2916 -91 2278 -91 \nQ 1894 -91 1617 61 \nQ 1341 213 1159 525 \nz\nM 3116 1747 \nQ 3116 2381 2855 2742 \nQ 2594 3103 2138 3103 \nQ 1681 3103 1420 2742 \nQ 1159 2381 1159 1747 \nQ 1159 1113 1420 752 \nQ 1681 391 2138 391 \nQ 2594 391 2855 752 \nQ 3116 1113 3116 1747 \nz\n\" transform=\"scale(0.015625)\"/>\n       <path id=\"DejaVuSans-72\" d=\"M 2631 2963 \nQ 2534 3019 2420 3045 \nQ 2306 3072 2169 3072 \nQ 1681 3072 1420 2755 \nQ 1159 2438 1159 1844 \nL 1159 0 \nL 581 0 \nL 581 3500 \nL 1159 3500 \nL 1159 2956 \nQ 1341 3275 1631 3429 \nQ 1922 3584 2338 3584 \nQ 2397 3584 2469 3576 \nQ 2541 3569 2628 3553 \nL 2631 2963 \nz\n\" transform=\"scale(0.015625)\"/>\n       <path id=\"DejaVuSans-65\" d=\"M 3597 1894 \nL 3597 1613 \nL 953 1613 \nQ 991 1019 1311 708 \nQ 1631 397 2203 397 \nQ 2534 397 2845 478 \nQ 3156 559 3463 722 \nL 3463 178 \nQ 3153 47 2828 -22 \nQ 2503 -91 2169 -91 \nQ 1331 -91 842 396 \nQ 353 884 353 1716 \nQ 353 2575 817 3079 \nQ 1281 3584 2069 3584 \nQ 2775 3584 3186 3129 \nQ 3597 2675 3597 1894 \nz\nM 3022 2063 \nQ 3016 2534 2758 2815 \nQ 2500 3097 2075 3097 \nQ 1594 3097 1305 2825 \nQ 1016 2553 972 2059 \nL 3022 2063 \nz\n\" transform=\"scale(0.015625)\"/>\n       <path id=\"DejaVuSans-6f\" d=\"M 1959 3097 \nQ 1497 3097 1228 2736 \nQ 959 2375 959 1747 \nQ 959 1119 1226 758 \nQ 1494 397 1959 397 \nQ 2419 397 2687 759 \nQ 2956 1122 2956 1747 \nQ 2956 2369 2687 2733 \nQ 2419 3097 1959 3097 \nz\nM 1959 3584 \nQ 2709 3584 3137 3096 \nQ 3566 2609 3566 1747 \nQ 3566 888 3137 398 \nQ 2709 -91 1959 -91 \nQ 1206 -91 779 398 \nQ 353 888 353 1747 \nQ 353 2609 779 3096 \nQ 1206 3584 1959 3584 \nz\n\" transform=\"scale(0.015625)\"/>\n       <path id=\"DejaVuSans-63\" d=\"M 3122 3366 \nL 3122 2828 \nQ 2878 2963 2633 3030 \nQ 2388 3097 2138 3097 \nQ 1578 3097 1268 2742 \nQ 959 2388 959 1747 \nQ 959 1106 1268 751 \nQ 1578 397 2138 397 \nQ 2388 397 2633 464 \nQ 2878 531 3122 666 \nL 3122 134 \nQ 2881 22 2623 -34 \nQ 2366 -91 2075 -91 \nQ 1284 -91 818 406 \nQ 353 903 353 1747 \nQ 353 2603 823 3093 \nQ 1294 3584 2113 3584 \nQ 2378 3584 2631 3529 \nQ 2884 3475 3122 3366 \nz\n\" transform=\"scale(0.015625)\"/>\n       <path id=\"DejaVuSans-73\" d=\"M 2834 3397 \nL 2834 2853 \nQ 2591 2978 2328 3040 \nQ 2066 3103 1784 3103 \nQ 1356 3103 1142 2972 \nQ 928 2841 928 2578 \nQ 928 2378 1081 2264 \nQ 1234 2150 1697 2047 \nL 1894 2003 \nQ 2506 1872 2764 1633 \nQ 3022 1394 3022 966 \nQ 3022 478 2636 193 \nQ 2250 -91 1575 -91 \nQ 1294 -91 989 -36 \nQ 684 19 347 128 \nL 347 722 \nQ 666 556 975 473 \nQ 1284 391 1588 391 \nQ 1994 391 2212 530 \nQ 2431 669 2431 922 \nQ 2431 1156 2273 1281 \nQ 2116 1406 1581 1522 \nL 1381 1569 \nQ 847 1681 609 1914 \nQ 372 2147 372 2553 \nQ 372 3047 722 3315 \nQ 1072 3584 1716 3584 \nQ 2034 3584 2315 3537 \nQ 2597 3491 2834 3397 \nz\n\" transform=\"scale(0.015625)\"/>\n       <path id=\"DejaVuSans-64\" d=\"M 2906 2969 \nL 2906 4863 \nL 3481 4863 \nL 3481 0 \nL 2906 0 \nL 2906 525 \nQ 2725 213 2448 61 \nQ 2172 -91 1784 -91 \nQ 1150 -91 751 415 \nQ 353 922 353 1747 \nQ 353 2572 751 3078 \nQ 1150 3584 1784 3584 \nQ 2172 3584 2448 3432 \nQ 2725 3281 2906 2969 \nz\nM 947 1747 \nQ 947 1113 1208 752 \nQ 1469 391 1925 391 \nQ 2381 391 2643 752 \nQ 2906 1113 2906 1747 \nQ 2906 2381 2643 2742 \nQ 2381 3103 1925 3103 \nQ 1469 3103 1208 2742 \nQ 947 2381 947 1747 \nz\n\" transform=\"scale(0.015625)\"/>\n      </defs>\n      <use xlink:href=\"#DejaVuSans-70\"/>\n      <use xlink:href=\"#DejaVuSans-72\" x=\"63.476562\"/>\n      <use xlink:href=\"#DejaVuSans-65\" x=\"102.339844\"/>\n      <use xlink:href=\"#DejaVuSans-70\" x=\"163.863281\"/>\n      <use xlink:href=\"#DejaVuSans-72\" x=\"227.339844\"/>\n      <use xlink:href=\"#DejaVuSans-6f\" x=\"266.203125\"/>\n      <use xlink:href=\"#DejaVuSans-63\" x=\"327.384766\"/>\n      <use xlink:href=\"#DejaVuSans-65\" x=\"382.365234\"/>\n      <use xlink:href=\"#DejaVuSans-73\" x=\"443.888672\"/>\n      <use xlink:href=\"#DejaVuSans-73\" x=\"495.988281\"/>\n      <use xlink:href=\"#DejaVuSans-65\" x=\"548.087891\"/>\n      <use xlink:href=\"#DejaVuSans-64\" x=\"609.611328\"/>\n     </g>\n    </g>\n    <g id=\"patch_209\">\n     <path d=\"M 388.1 38.476562 \nL 408.1 38.476562 \nL 408.1 31.476562 \nL 388.1 31.476562 \nz\n\" style=\"fill: #0000ff; opacity: 0.5\"/>\n    </g>\n    <g id=\"text_17\">\n     <!-- raw -->\n     <g transform=\"translate(416.1 38.476562)scale(0.1 -0.1)\">\n      <defs>\n       <path id=\"DejaVuSans-61\" d=\"M 2194 1759 \nQ 1497 1759 1228 1600 \nQ 959 1441 959 1056 \nQ 959 750 1161 570 \nQ 1363 391 1709 391 \nQ 2188 391 2477 730 \nQ 2766 1069 2766 1631 \nL 2766 1759 \nL 2194 1759 \nz\nM 3341 1997 \nL 3341 0 \nL 2766 0 \nL 2766 531 \nQ 2569 213 2275 61 \nQ 1981 -91 1556 -91 \nQ 1019 -91 701 211 \nQ 384 513 384 1019 \nQ 384 1609 779 1909 \nQ 1175 2209 1959 2209 \nL 2766 2209 \nL 2766 2266 \nQ 2766 2663 2505 2880 \nQ 2244 3097 1772 3097 \nQ 1472 3097 1187 3025 \nQ 903 2953 641 2809 \nL 641 3341 \nQ 956 3463 1253 3523 \nQ 1550 3584 1831 3584 \nQ 2591 3584 2966 3190 \nQ 3341 2797 3341 1997 \nz\n\" transform=\"scale(0.015625)\"/>\n       <path id=\"DejaVuSans-77\" d=\"M 269 3500 \nL 844 3500 \nL 1563 769 \nL 2278 3500 \nL 2956 3500 \nL 3675 769 \nL 4391 3500 \nL 4966 3500 \nL 4050 0 \nL 3372 0 \nL 2619 2869 \nL 1863 0 \nL 1184 0 \nL 269 3500 \nz\n\" transform=\"scale(0.015625)\"/>\n      </defs>\n      <use xlink:href=\"#DejaVuSans-72\"/>\n      <use xlink:href=\"#DejaVuSans-61\" x=\"41.113281\"/>\n      <use xlink:href=\"#DejaVuSans-77\" x=\"102.392578\"/>\n     </g>\n    </g>\n   </g>\n  </g>\n </g>\n <defs>\n  <clipPath id=\"p43a8b6ce32\">\n   <rect x=\"46.0125\" y=\"7.2\" width=\"446.4\" height=\"326.16\"/>\n  </clipPath>\n </defs>\n</svg>\n",
      "image/png": "[encoded data removed]"
     },
     "metadata": {
      "needs_background": "light"
     }
    }
   ],
   "metadata": {}
  },
  {
   "cell_type": "code",
   "execution_count": 52,
   "source": [
    "unk_counts_a = [count for count in unk_counts if count < 20]\n",
    "unk_counts_before_a = [count for count in unk_counts_before if count < 20]"
   ],
   "outputs": [],
   "metadata": {}
  },
  {
   "cell_type": "code",
   "execution_count": 57,
   "source": [
    "plt.figure(figsize = (8,6))\n",
    "plt.hist(unk_counts_a, bins=20, color='orange', label='preprocessed', alpha=0.5)\n",
    "plt.hist(unk_counts_before_a, bins=20, color='skyblue', label='raw', alpha=0.4)\n",
    "plt.legend()\n",
    "plt.show()"
   ],
   "outputs": [
    {
     "output_type": "display_data",
     "data": {
      "text/plain": [
       "<Figure size 576x432 with 1 Axes>"
      ],
      "image/svg+xml": "<?xml version=\"1.0\" encoding=\"utf-8\" standalone=\"no\"?>\n<!DOCTYPE svg PUBLIC \"-//W3C//DTD SVG 1.1//EN\"\n  \"http://www.w3.org/Graphics/SVG/1.1/DTD/svg11.dtd\">\n<svg xmlns:xlink=\"http://www.w3.org/1999/xlink\" width=\"499.6125pt\" height=\"357.238125pt\" viewBox=\"0 0 499.6125 357.238125\" xmlns=\"http://www.w3.org/2000/svg\" version=\"1.1\">\n <metadata>\n  <rdf:RDF xmlns:dc=\"http://purl.org/dc/elements/1.1/\" xmlns:cc=\"http://creativecommons.org/ns#\" xmlns:rdf=\"http://www.w3.org/1999/02/22-rdf-syntax-ns#\">\n   <cc:Work>\n    <dc:type rdf:resource=\"http://purl.org/dc/dcmitype/StillImage\"/>\n    <dc:date>2021-11-30T18:48:28.225761</dc:date>\n    <dc:format>image/svg+xml</dc:format>\n    <dc:creator>\n     <cc:Agent>\n      <dc:title>Matplotlib v3.5.0, https://matplotlib.org/</dc:title>\n     </cc:Agent>\n    </dc:creator>\n   </cc:Work>\n  </rdf:RDF>\n </metadata>\n <defs>\n  <style type=\"text/css\">*{stroke-linejoin: round; stroke-linecap: butt}</style>\n </defs>\n <g id=\"figure_1\">\n  <g id=\"patch_1\">\n   <path d=\"M 0 357.238125 \nL 499.6125 357.238125 \nL 499.6125 0 \nL 0 0 \nL 0 357.238125 \nz\n\" style=\"fill: none\"/>\n  </g>\n  <g id=\"axes_1\">\n   <g id=\"patch_2\">\n    <path d=\"M 46.0125 333.36 \nL 492.4125 333.36 \nL 492.4125 7.2 \nL 46.0125 7.2 \nz\n\" style=\"fill: #ffffff\"/>\n   </g>\n   <g id=\"patch_3\">\n    <path d=\"M 66.303409 333.36 \nL 86.594318 333.36 \nL 86.594318 22.731429 \nL 66.303409 22.731429 \nz\n\" clip-path=\"url(#pa47b22b95f)\" style=\"fill: #ffa500; opacity: 0.5\"/>\n   </g>\n   <g id=\"patch_4\">\n    <path d=\"M 86.594318 333.36 \nL 106.885227 333.36 \nL 106.885227 324.507962 \nL 86.594318 324.507962 \nz\n\" clip-path=\"url(#pa47b22b95f)\" style=\"fill: #ffa500; opacity: 0.5\"/>\n   </g>\n   <g id=\"patch_5\">\n    <path d=\"M 106.885227 333.36 \nL 127.176136 333.36 \nL 127.176136 329.933848 \nL 106.885227 329.933848 \nz\n\" clip-path=\"url(#pa47b22b95f)\" style=\"fill: #ffa500; opacity: 0.5\"/>\n   </g>\n   <g id=\"patch_6\">\n    <path d=\"M 127.176136 333.36 \nL 147.467045 333.36 \nL 147.467045 331.497861 \nL 127.176136 331.497861 \nz\n\" clip-path=\"url(#pa47b22b95f)\" style=\"fill: #ffa500; opacity: 0.5\"/>\n   </g>\n   <g id=\"patch_7\">\n    <path d=\"M 147.467045 333.36 \nL 167.757955 333.36 \nL 167.757955 331.837266 \nL 147.467045 331.837266 \nz\n\" clip-path=\"url(#pa47b22b95f)\" style=\"fill: #ffa500; opacity: 0.5\"/>\n   </g>\n   <g id=\"patch_8\">\n    <path d=\"M 167.757955 333.36 \nL 188.048864 333.36 \nL 188.048864 332.259228 \nL 167.757955 332.259228 \nz\n\" clip-path=\"url(#pa47b22b95f)\" style=\"fill: #ffa500; opacity: 0.5\"/>\n   </g>\n   <g id=\"patch_9\">\n    <path d=\"M 188.048864 333.36 \nL 208.339773 333.36 \nL 208.339773 332.346373 \nL 188.048864 332.346373 \nz\n\" clip-path=\"url(#pa47b22b95f)\" style=\"fill: #ffa500; opacity: 0.5\"/>\n   </g>\n   <g id=\"patch_10\">\n    <path d=\"M 208.339773 333.36 \nL 228.630682 333.36 \nL 228.630682 332.658258 \nL 208.339773 332.658258 \nz\n\" clip-path=\"url(#pa47b22b95f)\" style=\"fill: #ffa500; opacity: 0.5\"/>\n   </g>\n   <g id=\"patch_11\">\n    <path d=\"M 228.630682 333.36 \nL 248.921591 333.36 \nL 248.921591 332.649085 \nL 228.630682 332.649085 \nz\n\" clip-path=\"url(#pa47b22b95f)\" style=\"fill: #ffa500; opacity: 0.5\"/>\n   </g>\n   <g id=\"patch_12\">\n    <path d=\"M 248.921591 333.36 \nL 269.2125 333.36 \nL 269.2125 332.800441 \nL 248.921591 332.800441 \nz\n\" clip-path=\"url(#pa47b22b95f)\" style=\"fill: #ffa500; opacity: 0.5\"/>\n   </g>\n   <g id=\"patch_13\">\n    <path d=\"M 269.2125 333.36 \nL 289.503409 333.36 \nL 289.503409 332.882999 \nL 269.2125 332.882999 \nz\n\" clip-path=\"url(#pa47b22b95f)\" style=\"fill: #ffa500; opacity: 0.5\"/>\n   </g>\n   <g id=\"patch_14\">\n    <path d=\"M 289.503409 333.36 \nL 309.794318 333.36 \nL 309.794318 332.924278 \nL 289.503409 332.924278 \nz\n\" clip-path=\"url(#pa47b22b95f)\" style=\"fill: #ffa500; opacity: 0.5\"/>\n   </g>\n   <g id=\"patch_15\">\n    <path d=\"M 309.794318 333.36 \nL 330.085227 333.36 \nL 330.085227 332.864653 \nL 309.794318 332.864653 \nz\n\" clip-path=\"url(#pa47b22b95f)\" style=\"fill: #ffa500; opacity: 0.5\"/>\n   </g>\n   <g id=\"patch_16\">\n    <path d=\"M 330.085227 333.36 \nL 350.376136 333.36 \nL 350.376136 332.993076 \nL 330.085227 332.993076 \nz\n\" clip-path=\"url(#pa47b22b95f)\" style=\"fill: #ffa500; opacity: 0.5\"/>\n   </g>\n   <g id=\"patch_17\">\n    <path d=\"M 350.376136 333.36 \nL 370.667045 333.36 \nL 370.667045 333.020595 \nL 350.376136 333.020595 \nz\n\" clip-path=\"url(#pa47b22b95f)\" style=\"fill: #ffa500; opacity: 0.5\"/>\n   </g>\n   <g id=\"patch_18\">\n    <path d=\"M 370.667045 333.36 \nL 390.957955 333.36 \nL 390.957955 333.038942 \nL 370.667045 333.038942 \nz\n\" clip-path=\"url(#pa47b22b95f)\" style=\"fill: #ffa500; opacity: 0.5\"/>\n   </g>\n   <g id=\"patch_19\">\n    <path d=\"M 390.957955 333.36 \nL 411.248864 333.36 \nL 411.248864 333.052701 \nL 390.957955 333.052701 \nz\n\" clip-path=\"url(#pa47b22b95f)\" style=\"fill: #ffa500; opacity: 0.5\"/>\n   </g>\n   <g id=\"patch_20\">\n    <path d=\"M 411.248864 333.36 \nL 431.539773 333.36 \nL 431.539773 333.052701 \nL 411.248864 333.052701 \nz\n\" clip-path=\"url(#pa47b22b95f)\" style=\"fill: #ffa500; opacity: 0.5\"/>\n   </g>\n   <g id=\"patch_21\">\n    <path d=\"M 431.539773 333.36 \nL 451.830682 333.36 \nL 451.830682 333.080221 \nL 431.539773 333.080221 \nz\n\" clip-path=\"url(#pa47b22b95f)\" style=\"fill: #ffa500; opacity: 0.5\"/>\n   </g>\n   <g id=\"patch_22\">\n    <path d=\"M 451.830682 333.36 \nL 472.121591 333.36 \nL 472.121591 333.162778 \nL 451.830682 333.162778 \nz\n\" clip-path=\"url(#pa47b22b95f)\" style=\"fill: #ffa500; opacity: 0.5\"/>\n   </g>\n   <g id=\"patch_23\">\n    <path d=\"M 66.303409 333.36 \nL 86.594318 333.36 \nL 86.594318 51.016672 \nL 66.303409 51.016672 \nz\n\" clip-path=\"url(#pa47b22b95f)\" style=\"fill: #87ceeb; opacity: 0.4\"/>\n   </g>\n   <g id=\"patch_24\">\n    <path d=\"M 86.594318 333.36 \nL 106.885227 333.36 \nL 106.885227 316.142098 \nL 86.594318 316.142098 \nz\n\" clip-path=\"url(#pa47b22b95f)\" style=\"fill: #87ceeb; opacity: 0.4\"/>\n   </g>\n   <g id=\"patch_25\">\n    <path d=\"M 106.885227 333.36 \nL 127.176136 333.36 \nL 127.176136 324.897818 \nL 106.885227 324.897818 \nz\n\" clip-path=\"url(#pa47b22b95f)\" style=\"fill: #87ceeb; opacity: 0.4\"/>\n   </g>\n   <g id=\"patch_26\">\n    <path d=\"M 127.176136 333.36 \nL 147.467045 333.36 \nL 147.467045 328.227652 \nL 127.176136 328.227652 \nz\n\" clip-path=\"url(#pa47b22b95f)\" style=\"fill: #87ceeb; opacity: 0.4\"/>\n   </g>\n   <g id=\"patch_27\">\n    <path d=\"M 147.467045 333.36 \nL 167.757955 333.36 \nL 167.757955 329.571511 \nL 147.467045 329.571511 \nz\n\" clip-path=\"url(#pa47b22b95f)\" style=\"fill: #87ceeb; opacity: 0.4\"/>\n   </g>\n   <g id=\"patch_28\">\n    <path d=\"M 167.757955 333.36 \nL 188.048864 333.36 \nL 188.048864 330.796119 \nL 167.757955 330.796119 \nz\n\" clip-path=\"url(#pa47b22b95f)\" style=\"fill: #87ceeb; opacity: 0.4\"/>\n   </g>\n   <g id=\"patch_29\">\n    <path d=\"M 188.048864 333.36 \nL 208.339773 333.36 \nL 208.339773 331.117178 \nL 188.048864 331.117178 \nz\n\" clip-path=\"url(#pa47b22b95f)\" style=\"fill: #87ceeb; opacity: 0.4\"/>\n   </g>\n   <g id=\"patch_30\">\n    <path d=\"M 208.339773 333.36 \nL 228.630682 333.36 \nL 228.630682 331.718016 \nL 208.339773 331.718016 \nz\n\" clip-path=\"url(#pa47b22b95f)\" style=\"fill: #87ceeb; opacity: 0.4\"/>\n   </g>\n   <g id=\"patch_31\">\n    <path d=\"M 228.630682 333.36 \nL 248.921591 333.36 \nL 248.921591 331.828093 \nL 228.630682 331.828093 \nz\n\" clip-path=\"url(#pa47b22b95f)\" style=\"fill: #87ceeb; opacity: 0.4\"/>\n   </g>\n   <g id=\"patch_32\">\n    <path d=\"M 248.921591 333.36 \nL 269.2125 333.36 \nL 269.2125 332.139978 \nL 248.921591 332.139978 \nz\n\" clip-path=\"url(#pa47b22b95f)\" style=\"fill: #87ceeb; opacity: 0.4\"/>\n   </g>\n   <g id=\"patch_33\">\n    <path d=\"M 269.2125 333.36 \nL 289.503409 333.36 \nL 289.503409 332.355546 \nL 269.2125 332.355546 \nz\n\" clip-path=\"url(#pa47b22b95f)\" style=\"fill: #87ceeb; opacity: 0.4\"/>\n   </g>\n   <g id=\"patch_34\">\n    <path d=\"M 289.503409 333.36 \nL 309.794318 333.36 \nL 309.794318 332.511489 \nL 289.503409 332.511489 \nz\n\" clip-path=\"url(#pa47b22b95f)\" style=\"fill: #87ceeb; opacity: 0.4\"/>\n   </g>\n   <g id=\"patch_35\">\n    <path d=\"M 309.794318 333.36 \nL 330.085227 333.36 \nL 330.085227 332.612393 \nL 309.794318 332.612393 \nz\n\" clip-path=\"url(#pa47b22b95f)\" style=\"fill: #87ceeb; opacity: 0.4\"/>\n   </g>\n   <g id=\"patch_36\">\n    <path d=\"M 330.085227 333.36 \nL 350.376136 333.36 \nL 350.376136 332.662845 \nL 330.085227 332.662845 \nz\n\" clip-path=\"url(#pa47b22b95f)\" style=\"fill: #87ceeb; opacity: 0.4\"/>\n   </g>\n   <g id=\"patch_37\">\n    <path d=\"M 350.376136 333.36 \nL 370.667045 333.36 \nL 370.667045 332.786681 \nL 350.376136 332.786681 \nz\n\" clip-path=\"url(#pa47b22b95f)\" style=\"fill: #87ceeb; opacity: 0.4\"/>\n   </g>\n   <g id=\"patch_38\">\n    <path d=\"M 370.667045 333.36 \nL 390.957955 333.36 \nL 390.957955 332.791268 \nL 370.667045 332.791268 \nz\n\" clip-path=\"url(#pa47b22b95f)\" style=\"fill: #87ceeb; opacity: 0.4\"/>\n   </g>\n   <g id=\"patch_39\">\n    <path d=\"M 390.957955 333.36 \nL 411.248864 333.36 \nL 411.248864 332.878412 \nL 390.957955 332.878412 \nz\n\" clip-path=\"url(#pa47b22b95f)\" style=\"fill: #87ceeb; opacity: 0.4\"/>\n   </g>\n   <g id=\"patch_40\">\n    <path d=\"M 411.248864 333.36 \nL 431.539773 333.36 \nL 431.539773 332.96097 \nL 411.248864 332.96097 \nz\n\" clip-path=\"url(#pa47b22b95f)\" style=\"fill: #87ceeb; opacity: 0.4\"/>\n   </g>\n   <g id=\"patch_41\">\n    <path d=\"M 431.539773 333.36 \nL 451.830682 333.36 \nL 451.830682 332.882999 \nL 431.539773 332.882999 \nz\n\" clip-path=\"url(#pa47b22b95f)\" style=\"fill: #87ceeb; opacity: 0.4\"/>\n   </g>\n   <g id=\"patch_42\">\n    <path d=\"M 451.830682 333.36 \nL 472.121591 333.36 \nL 472.121591 332.979316 \nL 451.830682 332.979316 \nz\n\" clip-path=\"url(#pa47b22b95f)\" style=\"fill: #87ceeb; opacity: 0.4\"/>\n   </g>\n   <g id=\"matplotlib.axis_1\">\n    <g id=\"xtick_1\">\n     <g id=\"line2d_1\">\n      <defs>\n       <path id=\"mc9510475a9\" d=\"M 0 0 \nL 0 3.5 \n\" style=\"stroke: #000000; stroke-width: 0.8\"/>\n      </defs>\n      <g>\n       <use xlink:href=\"#mc9510475a9\" x=\"66.303409\" y=\"333.36\" style=\"stroke: #000000; stroke-width: 0.8\"/>\n      </g>\n     </g>\n     <g id=\"text_1\">\n      <!-- 0.0 -->\n      <g transform=\"translate(58.351847 347.958438)scale(0.1 -0.1)\">\n       <defs>\n        <path id=\"DejaVuSans-30\" d=\"M 2034 4250 \nQ 1547 4250 1301 3770 \nQ 1056 3291 1056 2328 \nQ 1056 1369 1301 889 \nQ 1547 409 2034 409 \nQ 2525 409 2770 889 \nQ 3016 1369 3016 2328 \nQ 3016 3291 2770 3770 \nQ 2525 4250 2034 4250 \nz\nM 2034 4750 \nQ 2819 4750 3233 4129 \nQ 3647 3509 3647 2328 \nQ 3647 1150 3233 529 \nQ 2819 -91 2034 -91 \nQ 1250 -91 836 529 \nQ 422 1150 422 2328 \nQ 422 3509 836 4129 \nQ 1250 4750 2034 4750 \nz\n\" transform=\"scale(0.015625)\"/>\n        <path id=\"DejaVuSans-2e\" d=\"M 684 794 \nL 1344 794 \nL 1344 0 \nL 684 0 \nL 684 794 \nz\n\" transform=\"scale(0.015625)\"/>\n       </defs>\n       <use xlink:href=\"#DejaVuSans-30\"/>\n       <use xlink:href=\"#DejaVuSans-2e\" x=\"63.623047\"/>\n       <use xlink:href=\"#DejaVuSans-30\" x=\"95.410156\"/>\n      </g>\n     </g>\n    </g>\n    <g id=\"xtick_2\">\n     <g id=\"line2d_2\">\n      <g>\n       <use xlink:href=\"#mc9510475a9\" x=\"119.700538\" y=\"333.36\" style=\"stroke: #000000; stroke-width: 0.8\"/>\n      </g>\n     </g>\n     <g id=\"text_2\">\n      <!-- 2.5 -->\n      <g transform=\"translate(111.748976 347.958438)scale(0.1 -0.1)\">\n       <defs>\n        <path id=\"DejaVuSans-32\" d=\"M 1228 531 \nL 3431 531 \nL 3431 0 \nL 469 0 \nL 469 531 \nQ 828 903 1448 1529 \nQ 2069 2156 2228 2338 \nQ 2531 2678 2651 2914 \nQ 2772 3150 2772 3378 \nQ 2772 3750 2511 3984 \nQ 2250 4219 1831 4219 \nQ 1534 4219 1204 4116 \nQ 875 4013 500 3803 \nL 500 4441 \nQ 881 4594 1212 4672 \nQ 1544 4750 1819 4750 \nQ 2544 4750 2975 4387 \nQ 3406 4025 3406 3419 \nQ 3406 3131 3298 2873 \nQ 3191 2616 2906 2266 \nQ 2828 2175 2409 1742 \nQ 1991 1309 1228 531 \nz\n\" transform=\"scale(0.015625)\"/>\n        <path id=\"DejaVuSans-35\" d=\"M 691 4666 \nL 3169 4666 \nL 3169 4134 \nL 1269 4134 \nL 1269 2991 \nQ 1406 3038 1543 3061 \nQ 1681 3084 1819 3084 \nQ 2600 3084 3056 2656 \nQ 3513 2228 3513 1497 \nQ 3513 744 3044 326 \nQ 2575 -91 1722 -91 \nQ 1428 -91 1123 -41 \nQ 819 9 494 109 \nL 494 744 \nQ 775 591 1075 516 \nQ 1375 441 1709 441 \nQ 2250 441 2565 725 \nQ 2881 1009 2881 1497 \nQ 2881 1984 2565 2268 \nQ 2250 2553 1709 2553 \nQ 1456 2553 1204 2497 \nQ 953 2441 691 2322 \nL 691 4666 \nz\n\" transform=\"scale(0.015625)\"/>\n       </defs>\n       <use xlink:href=\"#DejaVuSans-32\"/>\n       <use xlink:href=\"#DejaVuSans-2e\" x=\"63.623047\"/>\n       <use xlink:href=\"#DejaVuSans-35\" x=\"95.410156\"/>\n      </g>\n     </g>\n    </g>\n    <g id=\"xtick_3\">\n     <g id=\"line2d_3\">\n      <g>\n       <use xlink:href=\"#mc9510475a9\" x=\"173.097667\" y=\"333.36\" style=\"stroke: #000000; stroke-width: 0.8\"/>\n      </g>\n     </g>\n     <g id=\"text_3\">\n      <!-- 5.0 -->\n      <g transform=\"translate(165.146105 347.958438)scale(0.1 -0.1)\">\n       <use xlink:href=\"#DejaVuSans-35\"/>\n       <use xlink:href=\"#DejaVuSans-2e\" x=\"63.623047\"/>\n       <use xlink:href=\"#DejaVuSans-30\" x=\"95.410156\"/>\n      </g>\n     </g>\n    </g>\n    <g id=\"xtick_4\">\n     <g id=\"line2d_4\">\n      <g>\n       <use xlink:href=\"#mc9510475a9\" x=\"226.494797\" y=\"333.36\" style=\"stroke: #000000; stroke-width: 0.8\"/>\n      </g>\n     </g>\n     <g id=\"text_4\">\n      <!-- 7.5 -->\n      <g transform=\"translate(218.543234 347.958438)scale(0.1 -0.1)\">\n       <defs>\n        <path id=\"DejaVuSans-37\" d=\"M 525 4666 \nL 3525 4666 \nL 3525 4397 \nL 1831 0 \nL 1172 0 \nL 2766 4134 \nL 525 4134 \nL 525 4666 \nz\n\" transform=\"scale(0.015625)\"/>\n       </defs>\n       <use xlink:href=\"#DejaVuSans-37\"/>\n       <use xlink:href=\"#DejaVuSans-2e\" x=\"63.623047\"/>\n       <use xlink:href=\"#DejaVuSans-35\" x=\"95.410156\"/>\n      </g>\n     </g>\n    </g>\n    <g id=\"xtick_5\">\n     <g id=\"line2d_5\">\n      <g>\n       <use xlink:href=\"#mc9510475a9\" x=\"279.891926\" y=\"333.36\" style=\"stroke: #000000; stroke-width: 0.8\"/>\n      </g>\n     </g>\n     <g id=\"text_5\">\n      <!-- 10.0 -->\n      <g transform=\"translate(268.759113 347.958438)scale(0.1 -0.1)\">\n       <defs>\n        <path id=\"DejaVuSans-31\" d=\"M 794 531 \nL 1825 531 \nL 1825 4091 \nL 703 3866 \nL 703 4441 \nL 1819 4666 \nL 2450 4666 \nL 2450 531 \nL 3481 531 \nL 3481 0 \nL 794 0 \nL 794 531 \nz\n\" transform=\"scale(0.015625)\"/>\n       </defs>\n       <use xlink:href=\"#DejaVuSans-31\"/>\n       <use xlink:href=\"#DejaVuSans-30\" x=\"63.623047\"/>\n       <use xlink:href=\"#DejaVuSans-2e\" x=\"127.246094\"/>\n       <use xlink:href=\"#DejaVuSans-30\" x=\"159.033203\"/>\n      </g>\n     </g>\n    </g>\n    <g id=\"xtick_6\">\n     <g id=\"line2d_6\">\n      <g>\n       <use xlink:href=\"#mc9510475a9\" x=\"333.289055\" y=\"333.36\" style=\"stroke: #000000; stroke-width: 0.8\"/>\n      </g>\n     </g>\n     <g id=\"text_6\">\n      <!-- 12.5 -->\n      <g transform=\"translate(322.156243 347.958438)scale(0.1 -0.1)\">\n       <use xlink:href=\"#DejaVuSans-31\"/>\n       <use xlink:href=\"#DejaVuSans-32\" x=\"63.623047\"/>\n       <use xlink:href=\"#DejaVuSans-2e\" x=\"127.246094\"/>\n       <use xlink:href=\"#DejaVuSans-35\" x=\"159.033203\"/>\n      </g>\n     </g>\n    </g>\n    <g id=\"xtick_7\">\n     <g id=\"line2d_7\">\n      <g>\n       <use xlink:href=\"#mc9510475a9\" x=\"386.686184\" y=\"333.36\" style=\"stroke: #000000; stroke-width: 0.8\"/>\n      </g>\n     </g>\n     <g id=\"text_7\">\n      <!-- 15.0 -->\n      <g transform=\"translate(375.553372 347.958438)scale(0.1 -0.1)\">\n       <use xlink:href=\"#DejaVuSans-31\"/>\n       <use xlink:href=\"#DejaVuSans-35\" x=\"63.623047\"/>\n       <use xlink:href=\"#DejaVuSans-2e\" x=\"127.246094\"/>\n       <use xlink:href=\"#DejaVuSans-30\" x=\"159.033203\"/>\n      </g>\n     </g>\n    </g>\n    <g id=\"xtick_8\">\n     <g id=\"line2d_8\">\n      <g>\n       <use xlink:href=\"#mc9510475a9\" x=\"440.083313\" y=\"333.36\" style=\"stroke: #000000; stroke-width: 0.8\"/>\n      </g>\n     </g>\n     <g id=\"text_8\">\n      <!-- 17.5 -->\n      <g transform=\"translate(428.950501 347.958438)scale(0.1 -0.1)\">\n       <use xlink:href=\"#DejaVuSans-31\"/>\n       <use xlink:href=\"#DejaVuSans-37\" x=\"63.623047\"/>\n       <use xlink:href=\"#DejaVuSans-2e\" x=\"127.246094\"/>\n       <use xlink:href=\"#DejaVuSans-35\" x=\"159.033203\"/>\n      </g>\n     </g>\n    </g>\n   </g>\n   <g id=\"matplotlib.axis_2\">\n    <g id=\"ytick_1\">\n     <g id=\"line2d_9\">\n      <defs>\n       <path id=\"m1d4a77712e\" d=\"M 0 0 \nL -3.5 0 \n\" style=\"stroke: #000000; stroke-width: 0.8\"/>\n      </defs>\n      <g>\n       <use xlink:href=\"#m1d4a77712e\" x=\"46.0125\" y=\"333.36\" style=\"stroke: #000000; stroke-width: 0.8\"/>\n      </g>\n     </g>\n     <g id=\"text_9\">\n      <!-- 0 -->\n      <g transform=\"translate(32.65 337.159219)scale(0.1 -0.1)\">\n       <use xlink:href=\"#DejaVuSans-30\"/>\n      </g>\n     </g>\n    </g>\n    <g id=\"ytick_2\">\n     <g id=\"line2d_10\">\n      <g>\n       <use xlink:href=\"#m1d4a77712e\" x=\"46.0125\" y=\"287.494517\" style=\"stroke: #000000; stroke-width: 0.8\"/>\n      </g>\n     </g>\n     <g id=\"text_10\">\n      <!-- 10000 -->\n      <g transform=\"translate(7.2 291.293736)scale(0.1 -0.1)\">\n       <use xlink:href=\"#DejaVuSans-31\"/>\n       <use xlink:href=\"#DejaVuSans-30\" x=\"63.623047\"/>\n       <use xlink:href=\"#DejaVuSans-30\" x=\"127.246094\"/>\n       <use xlink:href=\"#DejaVuSans-30\" x=\"190.869141\"/>\n       <use xlink:href=\"#DejaVuSans-30\" x=\"254.492188\"/>\n      </g>\n     </g>\n    </g>\n    <g id=\"ytick_3\">\n     <g id=\"line2d_11\">\n      <g>\n       <use xlink:href=\"#m1d4a77712e\" x=\"46.0125\" y=\"241.629034\" style=\"stroke: #000000; stroke-width: 0.8\"/>\n      </g>\n     </g>\n     <g id=\"text_11\">\n      <!-- 20000 -->\n      <g transform=\"translate(7.2 245.428252)scale(0.1 -0.1)\">\n       <use xlink:href=\"#DejaVuSans-32\"/>\n       <use xlink:href=\"#DejaVuSans-30\" x=\"63.623047\"/>\n       <use xlink:href=\"#DejaVuSans-30\" x=\"127.246094\"/>\n       <use xlink:href=\"#DejaVuSans-30\" x=\"190.869141\"/>\n       <use xlink:href=\"#DejaVuSans-30\" x=\"254.492188\"/>\n      </g>\n     </g>\n    </g>\n    <g id=\"ytick_4\">\n     <g id=\"line2d_12\">\n      <g>\n       <use xlink:href=\"#m1d4a77712e\" x=\"46.0125\" y=\"195.76355\" style=\"stroke: #000000; stroke-width: 0.8\"/>\n      </g>\n     </g>\n     <g id=\"text_12\">\n      <!-- 30000 -->\n      <g transform=\"translate(7.2 199.562769)scale(0.1 -0.1)\">\n       <defs>\n        <path id=\"DejaVuSans-33\" d=\"M 2597 2516 \nQ 3050 2419 3304 2112 \nQ 3559 1806 3559 1356 \nQ 3559 666 3084 287 \nQ 2609 -91 1734 -91 \nQ 1441 -91 1130 -33 \nQ 819 25 488 141 \nL 488 750 \nQ 750 597 1062 519 \nQ 1375 441 1716 441 \nQ 2309 441 2620 675 \nQ 2931 909 2931 1356 \nQ 2931 1769 2642 2001 \nQ 2353 2234 1838 2234 \nL 1294 2234 \nL 1294 2753 \nL 1863 2753 \nQ 2328 2753 2575 2939 \nQ 2822 3125 2822 3475 \nQ 2822 3834 2567 4026 \nQ 2313 4219 1838 4219 \nQ 1578 4219 1281 4162 \nQ 984 4106 628 3988 \nL 628 4550 \nQ 988 4650 1302 4700 \nQ 1616 4750 1894 4750 \nQ 2613 4750 3031 4423 \nQ 3450 4097 3450 3541 \nQ 3450 3153 3228 2886 \nQ 3006 2619 2597 2516 \nz\n\" transform=\"scale(0.015625)\"/>\n       </defs>\n       <use xlink:href=\"#DejaVuSans-33\"/>\n       <use xlink:href=\"#DejaVuSans-30\" x=\"63.623047\"/>\n       <use xlink:href=\"#DejaVuSans-30\" x=\"127.246094\"/>\n       <use xlink:href=\"#DejaVuSans-30\" x=\"190.869141\"/>\n       <use xlink:href=\"#DejaVuSans-30\" x=\"254.492188\"/>\n      </g>\n     </g>\n    </g>\n    <g id=\"ytick_5\">\n     <g id=\"line2d_13\">\n      <g>\n       <use xlink:href=\"#m1d4a77712e\" x=\"46.0125\" y=\"149.898067\" style=\"stroke: #000000; stroke-width: 0.8\"/>\n      </g>\n     </g>\n     <g id=\"text_13\">\n      <!-- 40000 -->\n      <g transform=\"translate(7.2 153.697286)scale(0.1 -0.1)\">\n       <defs>\n        <path id=\"DejaVuSans-34\" d=\"M 2419 4116 \nL 825 1625 \nL 2419 1625 \nL 2419 4116 \nz\nM 2253 4666 \nL 3047 4666 \nL 3047 1625 \nL 3713 1625 \nL 3713 1100 \nL 3047 1100 \nL 3047 0 \nL 2419 0 \nL 2419 1100 \nL 313 1100 \nL 313 1709 \nL 2253 4666 \nz\n\" transform=\"scale(0.015625)\"/>\n       </defs>\n       <use xlink:href=\"#DejaVuSans-34\"/>\n       <use xlink:href=\"#DejaVuSans-30\" x=\"63.623047\"/>\n       <use xlink:href=\"#DejaVuSans-30\" x=\"127.246094\"/>\n       <use xlink:href=\"#DejaVuSans-30\" x=\"190.869141\"/>\n       <use xlink:href=\"#DejaVuSans-30\" x=\"254.492188\"/>\n      </g>\n     </g>\n    </g>\n    <g id=\"ytick_6\">\n     <g id=\"line2d_14\">\n      <g>\n       <use xlink:href=\"#m1d4a77712e\" x=\"46.0125\" y=\"104.032584\" style=\"stroke: #000000; stroke-width: 0.8\"/>\n      </g>\n     </g>\n     <g id=\"text_14\">\n      <!-- 50000 -->\n      <g transform=\"translate(7.2 107.831803)scale(0.1 -0.1)\">\n       <use xlink:href=\"#DejaVuSans-35\"/>\n       <use xlink:href=\"#DejaVuSans-30\" x=\"63.623047\"/>\n       <use xlink:href=\"#DejaVuSans-30\" x=\"127.246094\"/>\n       <use xlink:href=\"#DejaVuSans-30\" x=\"190.869141\"/>\n       <use xlink:href=\"#DejaVuSans-30\" x=\"254.492188\"/>\n      </g>\n     </g>\n    </g>\n    <g id=\"ytick_7\">\n     <g id=\"line2d_15\">\n      <g>\n       <use xlink:href=\"#m1d4a77712e\" x=\"46.0125\" y=\"58.167101\" style=\"stroke: #000000; stroke-width: 0.8\"/>\n      </g>\n     </g>\n     <g id=\"text_15\">\n      <!-- 60000 -->\n      <g transform=\"translate(7.2 61.96632)scale(0.1 -0.1)\">\n       <defs>\n        <path id=\"DejaVuSans-36\" d=\"M 2113 2584 \nQ 1688 2584 1439 2293 \nQ 1191 2003 1191 1497 \nQ 1191 994 1439 701 \nQ 1688 409 2113 409 \nQ 2538 409 2786 701 \nQ 3034 994 3034 1497 \nQ 3034 2003 2786 2293 \nQ 2538 2584 2113 2584 \nz\nM 3366 4563 \nL 3366 3988 \nQ 3128 4100 2886 4159 \nQ 2644 4219 2406 4219 \nQ 1781 4219 1451 3797 \nQ 1122 3375 1075 2522 \nQ 1259 2794 1537 2939 \nQ 1816 3084 2150 3084 \nQ 2853 3084 3261 2657 \nQ 3669 2231 3669 1497 \nQ 3669 778 3244 343 \nQ 2819 -91 2113 -91 \nQ 1303 -91 875 529 \nQ 447 1150 447 2328 \nQ 447 3434 972 4092 \nQ 1497 4750 2381 4750 \nQ 2619 4750 2861 4703 \nQ 3103 4656 3366 4563 \nz\n\" transform=\"scale(0.015625)\"/>\n       </defs>\n       <use xlink:href=\"#DejaVuSans-36\"/>\n       <use xlink:href=\"#DejaVuSans-30\" x=\"63.623047\"/>\n       <use xlink:href=\"#DejaVuSans-30\" x=\"127.246094\"/>\n       <use xlink:href=\"#DejaVuSans-30\" x=\"190.869141\"/>\n       <use xlink:href=\"#DejaVuSans-30\" x=\"254.492188\"/>\n      </g>\n     </g>\n    </g>\n    <g id=\"ytick_8\">\n     <g id=\"line2d_16\">\n      <g>\n       <use xlink:href=\"#m1d4a77712e\" x=\"46.0125\" y=\"12.301618\" style=\"stroke: #000000; stroke-width: 0.8\"/>\n      </g>\n     </g>\n     <g id=\"text_16\">\n      <!-- 70000 -->\n      <g transform=\"translate(7.2 16.100836)scale(0.1 -0.1)\">\n       <use xlink:href=\"#DejaVuSans-37\"/>\n       <use xlink:href=\"#DejaVuSans-30\" x=\"63.623047\"/>\n       <use xlink:href=\"#DejaVuSans-30\" x=\"127.246094\"/>\n       <use xlink:href=\"#DejaVuSans-30\" x=\"190.869141\"/>\n       <use xlink:href=\"#DejaVuSans-30\" x=\"254.492188\"/>\n      </g>\n     </g>\n    </g>\n   </g>\n   <g id=\"patch_43\">\n    <path d=\"M 46.0125 333.36 \nL 46.0125 7.2 \n\" style=\"fill: none; stroke: #000000; stroke-width: 0.8; stroke-linejoin: miter; stroke-linecap: square\"/>\n   </g>\n   <g id=\"patch_44\">\n    <path d=\"M 492.4125 333.36 \nL 492.4125 7.2 \n\" style=\"fill: none; stroke: #000000; stroke-width: 0.8; stroke-linejoin: miter; stroke-linecap: square\"/>\n   </g>\n   <g id=\"patch_45\">\n    <path d=\"M 46.0125 333.36 \nL 492.4125 333.36 \n\" style=\"fill: none; stroke: #000000; stroke-width: 0.8; stroke-linejoin: miter; stroke-linecap: square\"/>\n   </g>\n   <g id=\"patch_46\">\n    <path d=\"M 46.0125 7.2 \nL 492.4125 7.2 \n\" style=\"fill: none; stroke: #000000; stroke-width: 0.8; stroke-linejoin: miter; stroke-linecap: square\"/>\n   </g>\n   <g id=\"legend_1\">\n    <g id=\"patch_47\">\n     <path d=\"M 386.1 44.55625 \nL 485.4125 44.55625 \nQ 487.4125 44.55625 487.4125 42.55625 \nL 487.4125 14.2 \nQ 487.4125 12.2 485.4125 12.2 \nL 386.1 12.2 \nQ 384.1 12.2 384.1 14.2 \nL 384.1 42.55625 \nQ 384.1 44.55625 386.1 44.55625 \nz\n\" style=\"fill: #ffffff; opacity: 0.8; stroke: #cccccc; stroke-linejoin: miter\"/>\n    </g>\n    <g id=\"patch_48\">\n     <path d=\"M 388.1 23.798437 \nL 408.1 23.798437 \nL 408.1 16.798437 \nL 388.1 16.798437 \nz\n\" style=\"fill: #ffa500; opacity: 0.5\"/>\n    </g>\n    <g id=\"text_17\">\n     <!-- preprocessed -->\n     <g transform=\"translate(416.1 23.798437)scale(0.1 -0.1)\">\n      <defs>\n       <path id=\"DejaVuSans-70\" d=\"M 1159 525 \nL 1159 -1331 \nL 581 -1331 \nL 581 3500 \nL 1159 3500 \nL 1159 2969 \nQ 1341 3281 1617 3432 \nQ 1894 3584 2278 3584 \nQ 2916 3584 3314 3078 \nQ 3713 2572 3713 1747 \nQ 3713 922 3314 415 \nQ 2916 -91 2278 -91 \nQ 1894 -91 1617 61 \nQ 1341 213 1159 525 \nz\nM 3116 1747 \nQ 3116 2381 2855 2742 \nQ 2594 3103 2138 3103 \nQ 1681 3103 1420 2742 \nQ 1159 2381 1159 1747 \nQ 1159 1113 1420 752 \nQ 1681 391 2138 391 \nQ 2594 391 2855 752 \nQ 3116 1113 3116 1747 \nz\n\" transform=\"scale(0.015625)\"/>\n       <path id=\"DejaVuSans-72\" d=\"M 2631 2963 \nQ 2534 3019 2420 3045 \nQ 2306 3072 2169 3072 \nQ 1681 3072 1420 2755 \nQ 1159 2438 1159 1844 \nL 1159 0 \nL 581 0 \nL 581 3500 \nL 1159 3500 \nL 1159 2956 \nQ 1341 3275 1631 3429 \nQ 1922 3584 2338 3584 \nQ 2397 3584 2469 3576 \nQ 2541 3569 2628 3553 \nL 2631 2963 \nz\n\" transform=\"scale(0.015625)\"/>\n       <path id=\"DejaVuSans-65\" d=\"M 3597 1894 \nL 3597 1613 \nL 953 1613 \nQ 991 1019 1311 708 \nQ 1631 397 2203 397 \nQ 2534 397 2845 478 \nQ 3156 559 3463 722 \nL 3463 178 \nQ 3153 47 2828 -22 \nQ 2503 -91 2169 -91 \nQ 1331 -91 842 396 \nQ 353 884 353 1716 \nQ 353 2575 817 3079 \nQ 1281 3584 2069 3584 \nQ 2775 3584 3186 3129 \nQ 3597 2675 3597 1894 \nz\nM 3022 2063 \nQ 3016 2534 2758 2815 \nQ 2500 3097 2075 3097 \nQ 1594 3097 1305 2825 \nQ 1016 2553 972 2059 \nL 3022 2063 \nz\n\" transform=\"scale(0.015625)\"/>\n       <path id=\"DejaVuSans-6f\" d=\"M 1959 3097 \nQ 1497 3097 1228 2736 \nQ 959 2375 959 1747 \nQ 959 1119 1226 758 \nQ 1494 397 1959 397 \nQ 2419 397 2687 759 \nQ 2956 1122 2956 1747 \nQ 2956 2369 2687 2733 \nQ 2419 3097 1959 3097 \nz\nM 1959 3584 \nQ 2709 3584 3137 3096 \nQ 3566 2609 3566 1747 \nQ 3566 888 3137 398 \nQ 2709 -91 1959 -91 \nQ 1206 -91 779 398 \nQ 353 888 353 1747 \nQ 353 2609 779 3096 \nQ 1206 3584 1959 3584 \nz\n\" transform=\"scale(0.015625)\"/>\n       <path id=\"DejaVuSans-63\" d=\"M 3122 3366 \nL 3122 2828 \nQ 2878 2963 2633 3030 \nQ 2388 3097 2138 3097 \nQ 1578 3097 1268 2742 \nQ 959 2388 959 1747 \nQ 959 1106 1268 751 \nQ 1578 397 2138 397 \nQ 2388 397 2633 464 \nQ 2878 531 3122 666 \nL 3122 134 \nQ 2881 22 2623 -34 \nQ 2366 -91 2075 -91 \nQ 1284 -91 818 406 \nQ 353 903 353 1747 \nQ 353 2603 823 3093 \nQ 1294 3584 2113 3584 \nQ 2378 3584 2631 3529 \nQ 2884 3475 3122 3366 \nz\n\" transform=\"scale(0.015625)\"/>\n       <path id=\"DejaVuSans-73\" d=\"M 2834 3397 \nL 2834 2853 \nQ 2591 2978 2328 3040 \nQ 2066 3103 1784 3103 \nQ 1356 3103 1142 2972 \nQ 928 2841 928 2578 \nQ 928 2378 1081 2264 \nQ 1234 2150 1697 2047 \nL 1894 2003 \nQ 2506 1872 2764 1633 \nQ 3022 1394 3022 966 \nQ 3022 478 2636 193 \nQ 2250 -91 1575 -91 \nQ 1294 -91 989 -36 \nQ 684 19 347 128 \nL 347 722 \nQ 666 556 975 473 \nQ 1284 391 1588 391 \nQ 1994 391 2212 530 \nQ 2431 669 2431 922 \nQ 2431 1156 2273 1281 \nQ 2116 1406 1581 1522 \nL 1381 1569 \nQ 847 1681 609 1914 \nQ 372 2147 372 2553 \nQ 372 3047 722 3315 \nQ 1072 3584 1716 3584 \nQ 2034 3584 2315 3537 \nQ 2597 3491 2834 3397 \nz\n\" transform=\"scale(0.015625)\"/>\n       <path id=\"DejaVuSans-64\" d=\"M 2906 2969 \nL 2906 4863 \nL 3481 4863 \nL 3481 0 \nL 2906 0 \nL 2906 525 \nQ 2725 213 2448 61 \nQ 2172 -91 1784 -91 \nQ 1150 -91 751 415 \nQ 353 922 353 1747 \nQ 353 2572 751 3078 \nQ 1150 3584 1784 3584 \nQ 2172 3584 2448 3432 \nQ 2725 3281 2906 2969 \nz\nM 947 1747 \nQ 947 1113 1208 752 \nQ 1469 391 1925 391 \nQ 2381 391 2643 752 \nQ 2906 1113 2906 1747 \nQ 2906 2381 2643 2742 \nQ 2381 3103 1925 3103 \nQ 1469 3103 1208 2742 \nQ 947 2381 947 1747 \nz\n\" transform=\"scale(0.015625)\"/>\n      </defs>\n      <use xlink:href=\"#DejaVuSans-70\"/>\n      <use xlink:href=\"#DejaVuSans-72\" x=\"63.476562\"/>\n      <use xlink:href=\"#DejaVuSans-65\" x=\"102.339844\"/>\n      <use xlink:href=\"#DejaVuSans-70\" x=\"163.863281\"/>\n      <use xlink:href=\"#DejaVuSans-72\" x=\"227.339844\"/>\n      <use xlink:href=\"#DejaVuSans-6f\" x=\"266.203125\"/>\n      <use xlink:href=\"#DejaVuSans-63\" x=\"327.384766\"/>\n      <use xlink:href=\"#DejaVuSans-65\" x=\"382.365234\"/>\n      <use xlink:href=\"#DejaVuSans-73\" x=\"443.888672\"/>\n      <use xlink:href=\"#DejaVuSans-73\" x=\"495.988281\"/>\n      <use xlink:href=\"#DejaVuSans-65\" x=\"548.087891\"/>\n      <use xlink:href=\"#DejaVuSans-64\" x=\"609.611328\"/>\n     </g>\n    </g>\n    <g id=\"patch_49\">\n     <path d=\"M 388.1 38.476562 \nL 408.1 38.476562 \nL 408.1 31.476562 \nL 388.1 31.476562 \nz\n\" style=\"fill: #87ceeb; opacity: 0.4\"/>\n    </g>\n    <g id=\"text_18\">\n     <!-- raw -->\n     <g transform=\"translate(416.1 38.476562)scale(0.1 -0.1)\">\n      <defs>\n       <path id=\"DejaVuSans-61\" d=\"M 2194 1759 \nQ 1497 1759 1228 1600 \nQ 959 1441 959 1056 \nQ 959 750 1161 570 \nQ 1363 391 1709 391 \nQ 2188 391 2477 730 \nQ 2766 1069 2766 1631 \nL 2766 1759 \nL 2194 1759 \nz\nM 3341 1997 \nL 3341 0 \nL 2766 0 \nL 2766 531 \nQ 2569 213 2275 61 \nQ 1981 -91 1556 -91 \nQ 1019 -91 701 211 \nQ 384 513 384 1019 \nQ 384 1609 779 1909 \nQ 1175 2209 1959 2209 \nL 2766 2209 \nL 2766 2266 \nQ 2766 2663 2505 2880 \nQ 2244 3097 1772 3097 \nQ 1472 3097 1187 3025 \nQ 903 2953 641 2809 \nL 641 3341 \nQ 956 3463 1253 3523 \nQ 1550 3584 1831 3584 \nQ 2591 3584 2966 3190 \nQ 3341 2797 3341 1997 \nz\n\" transform=\"scale(0.015625)\"/>\n       <path id=\"DejaVuSans-77\" d=\"M 269 3500 \nL 844 3500 \nL 1563 769 \nL 2278 3500 \nL 2956 3500 \nL 3675 769 \nL 4391 3500 \nL 4966 3500 \nL 4050 0 \nL 3372 0 \nL 2619 2869 \nL 1863 0 \nL 1184 0 \nL 269 3500 \nz\n\" transform=\"scale(0.015625)\"/>\n      </defs>\n      <use xlink:href=\"#DejaVuSans-72\"/>\n      <use xlink:href=\"#DejaVuSans-61\" x=\"41.113281\"/>\n      <use xlink:href=\"#DejaVuSans-77\" x=\"102.392578\"/>\n     </g>\n    </g>\n   </g>\n  </g>\n </g>\n <defs>\n  <clipPath id=\"pa47b22b95f\">\n   <rect x=\"46.0125\" y=\"7.2\" width=\"446.4\" height=\"326.16\"/>\n  </clipPath>\n </defs>\n</svg>\n",
      "image/png": "[encoded data removed]"
     },
     "metadata": {
      "needs_background": "light"
     }
    }
   ],
   "metadata": {}
  },
  {
   "cell_type": "code",
   "execution_count": null,
   "source": [],
   "outputs": [],
   "metadata": {}
  }
 ],
 "metadata": {
  "orig_nbformat": 4,
  "language_info": {
   "name": "python",
   "version": "3.8.5",
   "mimetype": "text/x-python",
   "codemirror_mode": {
    "name": "ipython",
    "version": 3
   },
   "pygments_lexer": "ipython3",
   "nbconvert_exporter": "python",
   "file_extension": ".py"
  },
  "kernelspec": {
   "name": "python3",
   "display_name": "Python 3.8.5 64-bit ('final': conda)"
  },
  "interpreter": {
   "hash": "4d949d837314f0bd127b310a251a9c5e144fbaeaec32e29e415d9adebd0cb2d9"
  }
 },
 "nbformat": 4,
 "nbformat_minor": 2
}