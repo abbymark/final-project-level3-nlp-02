{
 "cells": [
  {
   "cell_type": "code",
   "execution_count": 1,
   "source": [
    "import sys\n",
    "import pandas as pd\n",
    "import numpy as np\n",
    "import random\n",
    "import torch"
   ],
   "outputs": [],
   "metadata": {}
  },
  {
   "cell_type": "code",
   "execution_count": 2,
   "source": [
    "sys.path.append('../')\n",
    "sys.path.append('../model')"
   ],
   "outputs": [],
   "metadata": {}
  },
  {
   "cell_type": "code",
   "execution_count": 3,
   "source": [
    "from datasets import load_dataset"
   ],
   "outputs": [],
   "metadata": {}
  },
  {
   "cell_type": "code",
   "execution_count": 4,
   "source": [
    "from transformers import (\n",
    "    AutoConfig,\n",
    "    AutoTokenizer,\n",
    "    DataCollatorForSeq2Seq, \n",
    ")\n",
    "\n",
    "from modeling_longformerbart import LonformerBartWithDoctypeForConditionalGeneration, LongformerBartConfig"
   ],
   "outputs": [],
   "metadata": {}
  },
  {
   "cell_type": "markdown",
   "source": [
    "## Device"
   ],
   "metadata": {}
  },
  {
   "cell_type": "code",
   "execution_count": 5,
   "source": [
    "device = torch.device('cpu')#'cuda:0' if torch.cuda.is_available() else 'cpu')"
   ],
   "outputs": [],
   "metadata": {}
  },
  {
   "cell_type": "markdown",
   "source": [
    "## Datasets"
   ],
   "metadata": {}
  },
  {
   "cell_type": "code",
   "execution_count": 6,
   "source": [
    "law_dataset = load_dataset('metamong1/summarization_law', \n",
    "    use_auth_token='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')"
   ],
   "outputs": [
    {
     "output_type": "stream",
     "name": "stderr",
     "text": [
      "Reusing dataset law_summarization (/opt/ml/.cache/huggingface/datasets/metamong1___law_summarization/Paper Summarization/1.2.0/b422baca30e481895dd2b572a7ff9f6c6428725e575fdafb73c0aa1d62356973)\n"
     ]
    },
    {
     "output_type": "display_data",
     "data": {
      "text/plain": [
       "  0%|          | 0/2 [00:00<?, ?it/s]"
      ],
      "application/vnd.jupyter.widget-view+json": {
       "version_major": 2,
       "version_minor": 0,
       "model_id": "6f927b872a0745e8adbae163267580ae"
      }
     },
     "metadata": {}
    }
   ],
   "metadata": {}
  },
  {
   "cell_type": "markdown",
   "source": [
    "## Tokenizer"
   ],
   "metadata": {}
  },
  {
   "cell_type": "code",
   "execution_count": 7,
   "source": [
    "model_checkpoint = 'hyunwoongko/kobart'"
   ],
   "outputs": [],
   "metadata": {}
  },
  {
   "cell_type": "code",
   "execution_count": 8,
   "source": [
    "tokenizer = AutoTokenizer.from_pretrained(model_checkpoint, use_fast=True)"
   ],
   "outputs": [
    {
     "output_type": "stream",
     "name": "stderr",
     "text": [
      "/opt/conda/envs/final/lib/python3.8/site-packages/transformers/configuration_utils.py:336: UserWarning: Passing `gradient_checkpointing` to a config initialization is deprecated and will be removed in v5 Transformers. Using `model.gradient_checkpointing_enable()` instead, or if you are using the `Trainer` API, pass `gradient_checkpointing=True` in your `TrainingArguments`.\n",
      "  warnings.warn(\n"
     ]
    }
   ],
   "metadata": {}
  },
  {
   "cell_type": "markdown",
   "source": [
    "## data arguments"
   ],
   "metadata": {}
  },
  {
   "cell_type": "code",
   "execution_count": 9,
   "source": [
    "from arguments import DataTrainingArguments"
   ],
   "outputs": [],
   "metadata": {}
  },
  {
   "cell_type": "code",
   "execution_count": 10,
   "source": [
    "data_args = DataTrainingArguments"
   ],
   "outputs": [],
   "metadata": {}
  },
  {
   "cell_type": "markdown",
   "source": [
    "## Processing"
   ],
   "metadata": {}
  },
  {
   "cell_type": "code",
   "execution_count": 11,
   "source": [
    "from processor import preprocess_function\n",
    "from functools import partial"
   ],
   "outputs": [],
   "metadata": {}
  },
  {
   "cell_type": "code",
   "execution_count": 12,
   "source": [
    "train_dataset = law_dataset['train']"
   ],
   "outputs": [],
   "metadata": {}
  },
  {
   "cell_type": "code",
   "execution_count": 13,
   "source": [
    "column_names = train_dataset.column_names\n",
    "print(column_names)"
   ],
   "outputs": [
    {
     "output_type": "stream",
     "name": "stdout",
     "text": [
      "['doc_id', 'title', 'text', 'doc_type', 'file']\n"
     ]
    }
   ],
   "metadata": {}
  },
  {
   "cell_type": "code",
   "execution_count": 14,
   "source": [
    "prep_fn  = partial(preprocess_function, tokenizer=tokenizer, data_args=data_args)\n",
    "train_dataset = train_dataset.map(\n",
    "    prep_fn,\n",
    "    batched=True,\n",
    "    num_proc=data_args.preprocessing_num_workers,\n",
    "    remove_columns=column_names,\n",
    "    load_from_cache_file=not data_args.overwrite_cache,\n",
    ")"
   ],
   "outputs": [
    {
     "output_type": "stream",
     "name": "stderr",
     "text": [
      "Loading cached processed dataset at /opt/ml/.cache/huggingface/datasets/metamong1___law_summarization/Paper Summarization/1.2.0/b422baca30e481895dd2b572a7ff9f6c6428725e575fdafb73c0aa1d62356973/cache-2e2d80f3ce625fb8.arrow\n",
      "Loading cached processed dataset at /opt/ml/.cache/huggingface/datasets/metamong1___law_summarization/Paper Summarization/1.2.0/b422baca30e481895dd2b572a7ff9f6c6428725e575fdafb73c0aa1d62356973/cache-5e3a19c3addc699e.arrow\n"
     ]
    }
   ],
   "metadata": {}
  },
  {
   "cell_type": "code",
   "execution_count": 15,
   "source": [
    "train_dataset"
   ],
   "outputs": [
    {
     "output_type": "execute_result",
     "data": {
      "text/plain": [
       "Dataset({\n",
       "    features: ['attention_mask', 'input_ids', 'labels'],\n",
       "    num_rows: 23730\n",
       "})"
      ]
     },
     "metadata": {},
     "execution_count": 15
    }
   ],
   "metadata": {}
  },
  {
   "cell_type": "markdown",
   "source": [
    "## Config"
   ],
   "metadata": {}
  },
  {
   "cell_type": "code",
   "execution_count": 16,
   "source": [
    "config = LongformerBartConfig.from_pretrained(model_checkpoint, \n",
    "    num_attention_heads=16,\n",
    "    attention_window=[64]*12,\n",
    "    attention_probs_dropout_prob=0.1,\n",
    "    doc_type_size=3+4)\n",
    "\n",
    "model = LonformerBartWithDoctypeForConditionalGeneration.from_pretrained(model_checkpoint, config=config).to(device)"
   ],
   "outputs": [
    {
     "output_type": "stream",
     "name": "stderr",
     "text": [
      "Some weights of the model checkpoint at hyunwoongko/kobart were not used when initializing LonformerBartWithDoctypeForConditionalGeneration: ['encoder.layers.5.self_attn.out_proj.weight', 'encoder.layers.2.self_attn.out_proj.bias', 'encoder.layers.4.self_attn.q_proj.bias', 'encoder.layers.4.self_attn.v_proj.weight', 'encoder.layers.0.self_attn.q_proj.weight', 'encoder.layers.5.self_attn.q_proj.bias', 'encoder.layers.2.self_attn.v_proj.bias', 'encoder.layers.1.self_attn.out_proj.weight', 'encoder.layers.2.self_attn.out_proj.weight', 'encoder.layers.3.self_attn.q_proj.bias', 'encoder.layers.3.self_attn.v_proj.weight', 'encoder.layers.3.self_attn.out_proj.weight', 'encoder.layers.2.self_attn.k_proj.bias', 'encoder.layers.1.self_attn.q_proj.weight', 'encoder.layers.0.self_attn.out_proj.weight', 'encoder.layers.4.self_attn.k_proj.bias', 'encoder.layers.4.self_attn.out_proj.bias', 'encoder.layers.1.self_attn.k_proj.bias', 'encoder.layers.0.self_attn.v_proj.bias', 'encoder.layers.4.self_attn.out_proj.weight', 'encoder.layers.5.self_attn.q_proj.weight', 'encoder.layers.4.self_attn.q_proj.weight', 'encoder.layers.0.self_attn.k_proj.bias', 'encoder.layers.1.self_attn.v_proj.weight', 'encoder.layers.0.self_attn.q_proj.bias', 'encoder.layers.5.self_attn.k_proj.weight', 'encoder.layers.5.self_attn.v_proj.bias', 'encoder.layers.2.self_attn.v_proj.weight', 'encoder.layers.5.self_attn.k_proj.bias', 'encoder.layers.4.self_attn.v_proj.bias', 'encoder.layers.4.self_attn.k_proj.weight', 'encoder.layers.1.self_attn.k_proj.weight', 'encoder.layers.1.self_attn.q_proj.bias', 'encoder.layers.1.self_attn.v_proj.bias', 'encoder.layers.2.self_attn.k_proj.weight', 'encoder.layers.2.self_attn.q_proj.weight', 'encoder.layers.5.self_attn.out_proj.bias', 'encoder.layers.0.self_attn.v_proj.weight', 'encoder.layers.3.self_attn.v_proj.bias', 'encoder.layers.2.self_attn.q_proj.bias', 'encoder.layers.3.self_attn.q_proj.weight', 'encoder.layers.1.self_attn.out_proj.bias', 'encoder.layers.0.self_attn.k_proj.weight', 'encoder.layers.3.self_attn.k_proj.bias', 'encoder.layers.3.self_attn.k_proj.weight', 'encoder.layers.5.self_attn.v_proj.weight', 'encoder.layers.3.self_attn.out_proj.bias', 'encoder.layers.0.self_attn.out_proj.bias']\n",
      "- This IS expected if you are initializing LonformerBartWithDoctypeForConditionalGeneration from the checkpoint of a model trained on another task or with another architecture (e.g. initializing a BertForSequenceClassification model from a BertForPreTraining model).\n",
      "- This IS NOT expected if you are initializing LonformerBartWithDoctypeForConditionalGeneration from the checkpoint of a model that you expect to be exactly identical (initializing a BertForSequenceClassification model from a BertForSequenceClassification model).\n",
      "Some weights of LonformerBartWithDoctypeForConditionalGeneration were not initialized from the model checkpoint at hyunwoongko/kobart and are newly initialized: ['encoder.layers.4.self_attn.outputs.bias', 'encoder.layers.2.self_attn.longformer_self_attn_layer.query_global.weight', 'encoder.layers.5.self_attn.longformer_self_attn_layer.query.bias', 'encoder.layers.2.self_attn.longformer_self_attn_layer.key.weight', 'encoder.layers.5.self_attn.longformer_self_attn_layer.key_global.bias', 'encoder.layers.1.self_attn.longformer_self_attn_layer.query_global.weight', 'encoder.layers.1.self_attn.outputs.weight', 'encoder.layers.1.self_attn.longformer_self_attn_layer.key.bias', 'encoder.layers.1.self_attn.longformer_self_attn_layer.value.weight', 'encoder.layers.3.self_attn.longformer_self_attn_layer.query_global.bias', 'encoder.layers.2.self_attn.outputs.weight', 'encoder.layers.4.self_attn.longformer_self_attn_layer.key.weight', 'encoder.layers.5.self_attn.longformer_self_attn_layer.value_global.weight', 'encoder.layers.5.self_attn.longformer_self_attn_layer.query.weight', 'encoder.layers.5.self_attn.longformer_self_attn_layer.value.weight', 'encoder.layers.0.self_attn.longformer_self_attn_layer.key.bias', 'encoder.layers.3.self_attn.longformer_self_attn_layer.query.weight', 'encoder.layers.2.self_attn.longformer_self_attn_layer.key_global.bias', 'encoder.layers.1.self_attn.longformer_self_attn_layer.value.bias', 'encoder.layers.0.self_attn.longformer_self_attn_layer.value.bias', 'encoder.layers.1.self_attn.longformer_self_attn_layer.value_global.weight', 'encoder.layers.5.self_attn.longformer_self_attn_layer.key.bias', 'encoder.layers.2.self_attn.longformer_self_attn_layer.key_global.weight', 'encoder.layers.1.self_attn.longformer_self_attn_layer.query.weight', 'encoder.layers.2.self_attn.longformer_self_attn_layer.value.bias', 'encoder.layers.0.self_attn.longformer_self_attn_layer.key.weight', 'encoder.layers.4.self_attn.longformer_self_attn_layer.key_global.weight', 'encoder.layers.4.self_attn.longformer_self_attn_layer.value_global.weight', 'encoder.layers.3.self_attn.longformer_self_attn_layer.value_global.weight', 'encoder.layers.3.self_attn.longformer_self_attn_layer.value_global.bias', 'encoder.layers.2.self_attn.longformer_self_attn_layer.value_global.weight', 'encoder.layers.5.self_attn.longformer_self_attn_layer.value_global.bias', 'encoder.layers.2.self_attn.longformer_self_attn_layer.value_global.bias', 'encoder.layers.3.self_attn.longformer_self_attn_layer.value.bias', 'encoder.layers.4.self_attn.longformer_self_attn_layer.query_global.weight', 'encoder.layers.3.self_attn.longformer_self_attn_layer.key_global.weight', 'encoder.layers.0.self_attn.longformer_self_attn_layer.value.weight', 'encoder.layers.0.self_attn.longformer_self_attn_layer.key_global.weight', 'encoder.layers.4.self_attn.longformer_self_attn_layer.query.bias', 'encoder.layers.4.self_attn.longformer_self_attn_layer.key_global.bias', 'encoder.layers.0.self_attn.outputs.weight', 'encoder.layers.3.self_attn.longformer_self_attn_layer.key.weight', 'encoder.layers.1.self_attn.longformer_self_attn_layer.key.weight', 'encoder.layers.4.self_attn.longformer_self_attn_layer.value_global.bias', 'encoder.layers.1.self_attn.longformer_self_attn_layer.key_global.bias', 'encoder.layers.4.self_attn.outputs.weight', 'encoder.layers.0.self_attn.longformer_self_attn_layer.value_global.weight', 'encoder.layers.0.self_attn.longformer_self_attn_layer.query.bias', 'encoder.layers.5.self_attn.longformer_self_attn_layer.query_global.bias', 'encoder.layers.1.self_attn.longformer_self_attn_layer.key_global.weight', 'encoder.layers.0.self_attn.longformer_self_attn_layer.key_global.bias', 'encoder.layers.2.self_attn.longformer_self_attn_layer.key.bias', 'encoder.layers.3.self_attn.longformer_self_attn_layer.query.bias', 'encoder.layers.5.self_attn.longformer_self_attn_layer.key_global.weight', 'encoder.layers.4.self_attn.longformer_self_attn_layer.query_global.bias', 'encoder.layers.5.self_attn.longformer_self_attn_layer.query_global.weight', 'encoder.layers.1.self_attn.longformer_self_attn_layer.query.bias', 'encoder.layers.1.self_attn.longformer_self_attn_layer.value_global.bias', 'encoder.layers.4.self_attn.longformer_self_attn_layer.query.weight', 'encoder.layers.2.self_attn.outputs.bias', 'encoder.layers.4.self_attn.longformer_self_attn_layer.value.weight', 'encoder.layers.0.self_attn.longformer_self_attn_layer.query.weight', 'encoder.layers.5.self_attn.longformer_self_attn_layer.key.weight', 'encoder.layers.2.self_attn.longformer_self_attn_layer.query_global.bias', 'encoder.layers.2.self_attn.longformer_self_attn_layer.query.weight', 'encoder.layers.1.self_attn.longformer_self_attn_layer.query_global.bias', 'encoder.layers.0.self_attn.longformer_self_attn_layer.query_global.bias', 'encoder.layers.3.self_attn.longformer_self_attn_layer.value.weight', 'encoder.layers.2.self_attn.longformer_self_attn_layer.value.weight', 'encoder.layers.4.self_attn.longformer_self_attn_layer.value.bias', 'encoder.layers.4.self_attn.longformer_self_attn_layer.key.bias', 'encoder.layers.3.self_attn.outputs.weight', 'encoder.doc_type_tokens.weight', 'encoder.layers.1.self_attn.outputs.bias', 'encoder.layers.2.self_attn.longformer_self_attn_layer.query.bias', 'encoder.layers.5.self_attn.outputs.weight', 'encoder.layers.0.self_attn.longformer_self_attn_layer.value_global.bias', 'encoder.layers.5.self_attn.longformer_self_attn_layer.value.bias', 'encoder.layers.3.self_attn.longformer_self_attn_layer.query_global.weight', 'encoder.layers.3.self_attn.outputs.bias', 'encoder.layers.3.self_attn.longformer_self_attn_layer.key_global.bias', 'encoder.layers.5.self_attn.outputs.bias', 'encoder.layers.3.self_attn.longformer_self_attn_layer.key.bias', 'encoder.layers.0.self_attn.longformer_self_attn_layer.query_global.weight', 'encoder.layers.0.self_attn.outputs.bias']\n",
      "You should probably TRAIN this model on a down-stream task to be able to use it for predictions and inference.\n"
     ]
    }
   ],
   "metadata": {}
  },
  {
   "cell_type": "markdown",
   "source": [
    "## Data Collator"
   ],
   "metadata": {}
  },
  {
   "cell_type": "code",
   "execution_count": 17,
   "source": [
    "from transformers import DataCollatorForSeq2Seq"
   ],
   "outputs": [],
   "metadata": {}
  },
  {
   "cell_type": "code",
   "execution_count": 18,
   "source": [
    "label_pad_token_id = -100 if data_args.ignore_pad_token_for_loss else tokenizer.pad_token_id\n",
    "print(label_pad_token_id)"
   ],
   "outputs": [
    {
     "output_type": "stream",
     "name": "stdout",
     "text": [
      "-100\n"
     ]
    }
   ],
   "metadata": {}
  },
  {
   "cell_type": "code",
   "execution_count": 19,
   "source": [
    "data_collator = DataCollatorForSeq2Seq(\n",
    "    tokenizer,\n",
    "    model=model,\n",
    "    label_pad_token_id=label_pad_token_id,\n",
    "    pad_to_multiple_of=8\n",
    ")"
   ],
   "outputs": [],
   "metadata": {}
  },
  {
   "cell_type": "markdown",
   "source": [
    "## Pipeline"
   ],
   "metadata": {}
  },
  {
   "cell_type": "code",
   "execution_count": 20,
   "source": [
    "from torch.utils.data import DataLoader"
   ],
   "outputs": [],
   "metadata": {}
  },
  {
   "cell_type": "markdown",
   "source": [
    "### Data Loader"
   ],
   "metadata": {}
  },
  {
   "cell_type": "code",
   "execution_count": 21,
   "source": [
    "train_dataloader = DataLoader(\n",
    "    train_dataset, shuffle=True, batch_size=4, collate_fn=data_collator\n",
    ")"
   ],
   "outputs": [],
   "metadata": {}
  },
  {
   "cell_type": "code",
   "execution_count": 27,
   "source": [
    "for batch in train_dataloader:\n",
    "    break\n",
    "\n",
    "batch['doc_type_ids'] = torch.zeros(batch['input_ids'].shape)\n",
    "{k: v.shape for k, v in batch.items()}"
   ],
   "outputs": [
    {
     "output_type": "execute_result",
     "data": {
      "text/plain": [
       "{'attention_mask': torch.Size([4, 336]),\n",
       " 'input_ids': torch.Size([4, 336]),\n",
       " 'labels': torch.Size([4, 10]),\n",
       " 'decoder_input_ids': torch.Size([4, 10]),\n",
       " 'doc_type_ids': torch.Size([4, 336])}"
      ]
     },
     "metadata": {},
     "execution_count": 27
    }
   ],
   "metadata": {}
  },
  {
   "cell_type": "markdown",
   "source": [
    "### Model Outpus"
   ],
   "metadata": {}
  },
  {
   "cell_type": "code",
   "execution_count": 28,
   "source": [
    "batch = {k: v.to(device) for k, v in batch.items()}\n",
    "outputs = model(**batch)"
   ],
   "outputs": [
    {
     "output_type": "error",
     "ename": "TypeError",
     "evalue": "forward() got an unexpected keyword argument 'doc_type_ids'",
     "traceback": [
      "\u001b[0;31m---------------------------------------------------------------------------\u001b[0m",
      "\u001b[0;31mTypeError\u001b[0m                                 Traceback (most recent call last)",
      "\u001b[0;32m/tmp/ipykernel_5373/897252519.py\u001b[0m in \u001b[0;36m<module>\u001b[0;34m\u001b[0m\n\u001b[1;32m      1\u001b[0m \u001b[0mbatch\u001b[0m \u001b[0;34m=\u001b[0m \u001b[0;34m{\u001b[0m\u001b[0mk\u001b[0m\u001b[0;34m:\u001b[0m \u001b[0mv\u001b[0m\u001b[0;34m.\u001b[0m\u001b[0mto\u001b[0m\u001b[0;34m(\u001b[0m\u001b[0mdevice\u001b[0m\u001b[0;34m)\u001b[0m \u001b[0;32mfor\u001b[0m \u001b[0mk\u001b[0m\u001b[0;34m,\u001b[0m \u001b[0mv\u001b[0m \u001b[0;32min\u001b[0m \u001b[0mbatch\u001b[0m\u001b[0;34m.\u001b[0m\u001b[0mitems\u001b[0m\u001b[0;34m(\u001b[0m\u001b[0;34m)\u001b[0m\u001b[0;34m}\u001b[0m\u001b[0;34m\u001b[0m\u001b[0;34m\u001b[0m\u001b[0m\n\u001b[0;32m----> 2\u001b[0;31m \u001b[0moutputs\u001b[0m \u001b[0;34m=\u001b[0m \u001b[0mmodel\u001b[0m\u001b[0;34m(\u001b[0m\u001b[0;34m**\u001b[0m\u001b[0mbatch\u001b[0m\u001b[0;34m)\u001b[0m\u001b[0;34m\u001b[0m\u001b[0;34m\u001b[0m\u001b[0m\n\u001b[0m",
      "\u001b[0;32m/opt/conda/envs/final/lib/python3.8/site-packages/torch/nn/modules/module.py\u001b[0m in \u001b[0;36m_call_impl\u001b[0;34m(self, *input, **kwargs)\u001b[0m\n\u001b[1;32m   1100\u001b[0m         if not (self._backward_hooks or self._forward_hooks or self._forward_pre_hooks or _global_backward_hooks\n\u001b[1;32m   1101\u001b[0m                 or _global_forward_hooks or _global_forward_pre_hooks):\n\u001b[0;32m-> 1102\u001b[0;31m             \u001b[0;32mreturn\u001b[0m \u001b[0mforward_call\u001b[0m\u001b[0;34m(\u001b[0m\u001b[0;34m*\u001b[0m\u001b[0minput\u001b[0m\u001b[0;34m,\u001b[0m \u001b[0;34m**\u001b[0m\u001b[0mkwargs\u001b[0m\u001b[0;34m)\u001b[0m\u001b[0;34m\u001b[0m\u001b[0;34m\u001b[0m\u001b[0m\n\u001b[0m\u001b[1;32m   1103\u001b[0m         \u001b[0;31m# Do not call functions when jit is used\u001b[0m\u001b[0;34m\u001b[0m\u001b[0;34m\u001b[0m\u001b[0;34m\u001b[0m\u001b[0m\n\u001b[1;32m   1104\u001b[0m         \u001b[0mfull_backward_hooks\u001b[0m\u001b[0;34m,\u001b[0m \u001b[0mnon_full_backward_hooks\u001b[0m \u001b[0;34m=\u001b[0m \u001b[0;34m[\u001b[0m\u001b[0;34m]\u001b[0m\u001b[0;34m,\u001b[0m \u001b[0;34m[\u001b[0m\u001b[0;34m]\u001b[0m\u001b[0;34m\u001b[0m\u001b[0;34m\u001b[0m\u001b[0m\n",
      "\u001b[0;31mTypeError\u001b[0m: forward() got an unexpected keyword argument 'doc_type_ids'"
     ]
    }
   ],
   "metadata": {}
  },
  {
   "cell_type": "code",
   "execution_count": null,
   "source": [
    "outputs.keys()"
   ],
   "outputs": [
    {
     "output_type": "execute_result",
     "data": {
      "text/plain": [
       "odict_keys(['loss', 'logits', 'decoder_hidden_states', 'encoder_hidden_states'])"
      ]
     },
     "metadata": {},
     "execution_count": 26
    }
   ],
   "metadata": {}
  },
  {
   "cell_type": "code",
   "execution_count": null,
   "source": [
    "outputs['loss']"
   ],
   "outputs": [
    {
     "output_type": "execute_result",
     "data": {
      "text/plain": [
       "tensor(10.6212, grad_fn=<NllLossBackward0>)"
      ]
     },
     "metadata": {},
     "execution_count": 27
    }
   ],
   "metadata": {}
  },
  {
   "cell_type": "code",
   "execution_count": null,
   "source": [
    "outputs['logits'].shape"
   ],
   "outputs": [
    {
     "output_type": "execute_result",
     "data": {
      "text/plain": [
       "torch.Size([2, 8, 32000])"
      ]
     },
     "metadata": {},
     "execution_count": 28
    }
   ],
   "metadata": {}
  }
 ],
 "metadata": {
  "orig_nbformat": 4,
  "language_info": {
   "name": "python",
   "version": "3.8.5",
   "mimetype": "text/x-python",
   "codemirror_mode": {
    "name": "ipython",
    "version": 3
   },
   "pygments_lexer": "ipython3",
   "nbconvert_exporter": "python",
   "file_extension": ".py"
  },
  "kernelspec": {
   "name": "python3",
   "display_name": "Python 3.8.5 64-bit ('final': conda)"
  },
  "interpreter": {
   "hash": "4d949d837314f0bd127b310a251a9c5e144fbaeaec32e29e415d9adebd0cb2d9"
  }
 },
 "nbformat": 4,
 "nbformat_minor": 2
}