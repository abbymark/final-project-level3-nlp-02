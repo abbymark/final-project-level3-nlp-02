{
 "cells": [
  {
   "cell_type": "code",
   "execution_count": 1,
   "source": [
    "import os\n",
    "import re\n",
    "import sys\n",
    "import json\n",
    "import time\n",
    "from tqdm.notebook import tqdm\n",
    "from datasets import load_dataset"
   ],
   "outputs": [
    {
     "output_type": "stream",
     "name": "stderr",
     "text": [
      "/Users/sanghapark/opt/anaconda3/envs/myenv/lib/python3.8/site-packages/requests/__init__.py:89: RequestsDependencyWarning: urllib3 (1.26.7) or chardet (3.0.4) doesn't match a supported version!\n",
      "  warnings.warn(\"urllib3 ({}) or chardet ({}) doesn't match a supported \"\n"
     ]
    }
   ],
   "metadata": {}
  },
  {
   "cell_type": "code",
   "execution_count": 2,
   "source": [
    "import torch\n",
    "import random\n",
    "import pandas as pd\n",
    "import numpy as np\n",
    "import collections\n",
    "import matplotlib.pyplot as plt"
   ],
   "outputs": [],
   "metadata": {}
  },
  {
   "cell_type": "markdown",
   "source": [
    "## Load Data"
   ],
   "metadata": {}
  },
  {
   "cell_type": "code",
   "execution_count": 3,
   "source": [
    "paper_data = load_dataset('metamong1/summarization_paper', \n",
    "    use_auth_token='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')"
   ],
   "outputs": [
    {
     "output_type": "stream",
     "name": "stderr",
     "text": [
      "Reusing dataset paper_summarization (/Users/sanghapark/.cache/huggingface/datasets/metamong1___paper_summarization/Paper Summarization/1.0.0/2c2f632798c1ebeb6968c73643f9e696287f305dbaa6a8581c2b2a592d3b63a0)\n",
      "100%|██████████| 2/2 [00:00<00:00, 107.39it/s]\n"
     ]
    }
   ],
   "metadata": {}
  },
  {
   "cell_type": "code",
   "execution_count": 4,
   "source": [
    "paper_data"
   ],
   "outputs": [
    {
     "output_type": "execute_result",
     "data": {
      "text/plain": [
       "DatasetDict({\n",
       "    train: Dataset({\n",
       "        features: ['doc_id', 'title', 'text', 'doc_type', 'file'],\n",
       "        num_rows: 73640\n",
       "    })\n",
       "    validation: Dataset({\n",
       "        features: ['doc_id', 'title', 'text', 'doc_type', 'file'],\n",
       "        num_rows: 18411\n",
       "    })\n",
       "})"
      ]
     },
     "metadata": {},
     "execution_count": 4
    }
   ],
   "metadata": {}
  },
  {
   "cell_type": "code",
   "execution_count": 5,
   "source": [
    "train_data = paper_data['train']"
   ],
   "outputs": [],
   "metadata": {}
  },
  {
   "cell_type": "code",
   "execution_count": 6,
   "source": [
    "train_data[0]"
   ],
   "outputs": [
    {
     "output_type": "execute_result",
     "data": {
      "text/plain": [
       "{'doc_id': 'A201008192682',\n",
       " 'title': '횡적등방성 매질에서 중합전 역시간 구조보정',\n",
       " 'text': '역시간 구조보정은 음원영역 파동장 외삽과 수진기영역 파동장 외삽의 상호상관으로 지층구조를 영상화하는 방법으로 복잡한 등방성 매질 층서구조를 영상화하는데 주로 이용된다. 그러나 일반적으로 지구내부 지층구조는 이방성 특성을 지니고 있으므로 이방성을 고려한 구조보정 기술이 필요하다. 여기에서는 편미분 파동장과 음원모음의 내적에 의한 알고리즘과 가상음원과 역전파 파동장과의 내적에 의한 알고리즘을 이용하여 횡적등방성 매질에서 역시간 구조보정 기술을 개발하고자 하였다. 단순 이방성 지층모델에 대한 수치모형실험 결과, 두 가지 방법에 의한 지층단면도 영상은 거의 차이가 없어 가상음원과 역전파 파동장과의 내적으로 구조보정을 실시하는 것이 효과적임을 알 수 있었다. 수평적으로 속도가 변하는 이방성 매질 지층구조에서 편미분 파동장을 구하지 않고 영상화 할 수 있음을 알 수 있었다.',\n",
       " 'doc_type': '논문',\n",
       " 'file': '논문요약_0206_0.json'}"
      ]
     },
     "metadata": {},
     "execution_count": 6
    }
   ],
   "metadata": {}
  },
  {
   "cell_type": "markdown",
   "source": [
    "## Extract Data"
   ],
   "metadata": {}
  },
  {
   "cell_type": "code",
   "execution_count": 7,
   "source": [
    "train_docs = [data['text'] for data in train_data]\n",
    "train_titles = [data['title'] for data in train_data]"
   ],
   "outputs": [],
   "metadata": {}
  },
  {
   "cell_type": "code",
   "execution_count": 8,
   "source": [
    "short_title = [title for title in train_titles if len(title) <= 10]\n",
    "print('Size of Title which size is 1 : %d' %len(short_title))"
   ],
   "outputs": [
    {
     "output_type": "stream",
     "name": "stdout",
     "text": [
      "Size of Title which size is 1 : 377\n"
     ]
    }
   ],
   "metadata": {}
  },
  {
   "cell_type": "code",
   "execution_count": 9,
   "source": [
    "chn_chars = range(ord('一'), ord('鿕')+1)"
   ],
   "outputs": [],
   "metadata": {}
  },
  {
   "cell_type": "code",
   "execution_count": 10,
   "source": [
    "def check_sep_title(title) :\n",
    "    chars = re.sub('\\s+' , '', title)\n",
    "    sep_chars = [ch for ch in chars if ord(ch) in chn_chars] \n",
    "    sep_rate = len(sep_chars) / len(chars)\n",
    "\n",
    "    return True if sep_rate >= 0.1 else False     "
   ],
   "outputs": [],
   "metadata": {}
  },
  {
   "cell_type": "code",
   "execution_count": 11,
   "source": [
    "sep_titles = [title for title in tqdm(train_titles) if check_sep_title(title)]"
   ],
   "outputs": [
    {
     "output_type": "display_data",
     "data": {
      "text/plain": [
       "  0%|          | 0/73640 [00:00<?, ?it/s]"
      ],
      "application/vnd.jupyter.widget-view+json": {
       "version_major": 2,
       "version_minor": 0,
       "model_id": "dd3d55b02f52442dbb6c78ba45989030"
      }
     },
     "metadata": {}
    }
   ],
   "metadata": {}
  },
  {
   "cell_type": "code",
   "execution_count": 12,
   "source": [
    "print('Size of data which has to be checked : %d' %len(sep_titles))"
   ],
   "outputs": [
    {
     "output_type": "stream",
     "name": "stdout",
     "text": [
      "Size of data which has to be checked : 3325\n"
     ]
    }
   ],
   "metadata": {}
  },
  {
   "cell_type": "code",
   "execution_count": 13,
   "source": [
    "sep_titles[:10]"
   ],
   "outputs": [
    {
     "output_type": "execute_result",
     "data": {
      "text/plain": [
       "['陶厓 洪錫謨의 금강산 유기, 『艮觀錄』 一考',\n",
       " '규범의 근거로서 친친(親親) 존존(尊尊)의 정당화 문제',\n",
       " '한국합기도 術氣의 종류와 형태에 관한 小考',\n",
       " '‘女性嫌惡’의 文學文化史(Ⅲ) - 1900년대 文學文化의 ‘호모소셜리티’와 女性嫌惡 -',\n",
       " '경찰권 발동의 근거로서 ‘위험’의 개념과 양태 -獨逸 警察法學의 論議狀況을 참고하여-',\n",
       " '여말선초 紅牌·白牌 양식의 변화와 의의',\n",
       " '『총쇄록(叢瑣錄)』자료 해제 및 교육적 가치',\n",
       " '유커(游客)와 싼커(散客)－ 탈식민적 아시아의 정동지리학',\n",
       " '淸陰 金尙憲의 遊仙詩 小考',\n",
       " '北魏前期 胡語 사용 현상과 그 배경']"
      ]
     },
     "metadata": {},
     "execution_count": 13
    }
   ],
   "metadata": {}
  },
  {
   "cell_type": "markdown",
   "source": [
    "## Crawling"
   ],
   "metadata": {}
  },
  {
   "cell_type": "code",
   "execution_count": 58,
   "source": [
    "import requests\n",
    "from bs4 import BeautifulSoup\n",
    "from selenium import webdriver"
   ],
   "outputs": [],
   "metadata": {}
  },
  {
   "cell_type": "markdown",
   "source": [
    "### driver 준비"
   ],
   "metadata": {}
  },
  {
   "cell_type": "code",
   "execution_count": 59,
   "source": [
    "chrome_path = '/Users/sanghapark/Desktop/Project/chromedriver'\n",
    "driver = webdriver.Chrome(chrome_path)"
   ],
   "outputs": [
    {
     "output_type": "stream",
     "name": "stderr",
     "text": [
      "<ipython-input-59-8d257ee82e31>:2: DeprecationWarning: executable_path has been deprecated, please pass in a Service object\n",
      "  driver = webdriver.Chrome(chrome_path)\n"
     ]
    }
   ],
   "metadata": {}
  },
  {
   "cell_type": "markdown",
   "source": [
    "### selenium을 통한 Web 접속"
   ],
   "metadata": {}
  },
  {
   "cell_type": "code",
   "execution_count": 60,
   "source": [
    "title = '淸陰 金尙憲의 遊仙詩 小考'"
   ],
   "outputs": [],
   "metadata": {}
  },
  {
   "cell_type": "code",
   "execution_count": 61,
   "source": [
    "driver.implicitly_wait(1.5)\n",
    "driver.get('https://academic.naver.com/')"
   ],
   "outputs": [],
   "metadata": {}
  },
  {
   "cell_type": "code",
   "execution_count": 62,
   "source": [
    "time.sleep(0.5) ## 0.5초\n",
    "\n",
    "element = driver.find_element_by_name('query')\n",
    "element.clear()\n",
    "\n",
    "element.send_keys(title)\n",
    "element.submit()"
   ],
   "outputs": [
    {
     "output_type": "stream",
     "name": "stderr",
     "text": [
      "<ipython-input-62-d6b45ebb4143>:3: DeprecationWarning: find_element_by_* commands are deprecated. Please use find_element() instead\n",
      "  element = driver.find_element_by_name('query')\n"
     ]
    }
   ],
   "metadata": {}
  },
  {
   "cell_type": "markdown",
   "source": [
    "### 목표로 하는 데이터 추출"
   ],
   "metadata": {}
  },
  {
   "cell_type": "code",
   "execution_count": 63,
   "source": [
    "cur_url = driver.current_url\n",
    "\n",
    "response = requests.get(cur_url)\n",
    "bs = BeautifulSoup(response.content, 'html.parser')"
   ],
   "outputs": [],
   "metadata": {}
  },
  {
   "cell_type": "code",
   "execution_count": 64,
   "source": [
    "div_info = bs.findAll('div', {'class' , 'ui_listing_info'})\n",
    "\n",
    "div_info[0].find('a').text"
   ],
   "outputs": [
    {
     "output_type": "execute_result",
     "data": {
      "text/plain": [
       "'청음 김상헌의 유선시 소고 (淸陰 金尙憲의 遊仙詩 小考)'"
      ]
     },
     "metadata": {},
     "execution_count": 64
    }
   ],
   "metadata": {}
  },
  {
   "cell_type": "code",
   "execution_count": null,
   "source": [],
   "outputs": [],
   "metadata": {}
  }
 ],
 "metadata": {
  "orig_nbformat": 4,
  "language_info": {
   "name": "python",
   "version": "3.8.5",
   "mimetype": "text/x-python",
   "codemirror_mode": {
    "name": "ipython",
    "version": 3
   },
   "pygments_lexer": "ipython3",
   "nbconvert_exporter": "python",
   "file_extension": ".py"
  },
  "kernelspec": {
   "name": "python3",
   "display_name": "Python 3.8.5 64-bit ('myenv': conda)"
  },
  "interpreter": {
   "hash": "0f3bfd2cb0299839ce7ba26399295e5b1cd71284d6a1bd96da86424b1368570e"
  }
 },
 "nbformat": 4,
 "nbformat_minor": 2
}