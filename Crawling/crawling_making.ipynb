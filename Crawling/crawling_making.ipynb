{
 "cells": [
  {
   "cell_type": "code",
   "execution_count": 1,
   "source": [
    "import os\n",
    "import re\n",
    "import sys\n",
    "import json\n",
    "import time\n",
    "from tqdm.notebook import tqdm\n",
    "from datasets import load_dataset"
   ],
   "outputs": [],
   "metadata": {}
  },
  {
   "cell_type": "code",
   "execution_count": 2,
   "source": [
    "import torch\n",
    "import random\n",
    "import pandas as pd\n",
    "import numpy as np\n",
    "import collections\n",
    "import matplotlib.pyplot as plt"
   ],
   "outputs": [],
   "metadata": {}
  },
  {
   "cell_type": "markdown",
   "source": [
    "## Load Data"
   ],
   "metadata": {}
  },
  {
   "cell_type": "code",
   "execution_count": 3,
   "source": [
    "paper_data = load_dataset('metamong1/summarization_paper', \n",
    "    use_auth_token='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')"
   ],
   "outputs": [
    {
     "output_type": "stream",
     "name": "stderr",
     "text": [
      "Reusing dataset paper_summarization (/opt/ml/.cache/huggingface/datasets/metamong1___paper_summarization/Paper Summarization/2.2.0/46d835d4e22daa3a5a46d13de39e3d75f6c2eaef5ead153d48cbe8d7cd3bec9c)\n"
     ]
    },
    {
     "output_type": "display_data",
     "data": {
      "text/plain": [
       "  0%|          | 0/2 [00:00<?, ?it/s]"
      ],
      "application/vnd.jupyter.widget-view+json": {
       "version_major": 2,
       "version_minor": 0,
       "model_id": "6cc38aded5124f7d9388a38ea511c8ad"
      }
     },
     "metadata": {}
    }
   ],
   "metadata": {}
  },
  {
   "cell_type": "code",
   "execution_count": 4,
   "source": [
    "paper_data"
   ],
   "outputs": [
    {
     "output_type": "execute_result",
     "data": {
      "text/plain": [
       "DatasetDict({\n",
       "    train: Dataset({\n",
       "        features: ['doc_id', 'title', 'text', 'doc_type', 'file'],\n",
       "        num_rows: 73640\n",
       "    })\n",
       "    validation: Dataset({\n",
       "        features: ['doc_id', 'title', 'text', 'doc_type', 'file'],\n",
       "        num_rows: 18411\n",
       "    })\n",
       "})"
      ]
     },
     "metadata": {},
     "execution_count": 4
    }
   ],
   "metadata": {}
  },
  {
   "cell_type": "code",
   "execution_count": 5,
   "source": [
    "train_data = paper_data['train']"
   ],
   "outputs": [],
   "metadata": {}
  },
  {
   "cell_type": "markdown",
   "source": [
    "## Extract Data"
   ],
   "metadata": {}
  },
  {
   "cell_type": "code",
   "execution_count": 6,
   "source": [
    "train_docs = [data['text'] for data in train_data]\n",
    "train_titles = [data['title'] for data in train_data]"
   ],
   "outputs": [],
   "metadata": {}
  },
  {
   "cell_type": "code",
   "execution_count": 63,
   "source": [
    "target_comp = re.compile('[a-zA-Zぁ-ゔァ-ヴー々〆〤一-龥]')"
   ],
   "outputs": [],
   "metadata": {}
  },
  {
   "cell_type": "code",
   "execution_count": 166,
   "source": [
    "def check_title(title, comp) :\n",
    "    org_chars = re.sub('\\s+', '' , title) \n",
    "    target_chars = comp.findall(org_chars)\n",
    "\n",
    "    char_rate = len(target_chars) / len(org_chars)\n",
    "\n",
    "    return True if char_rate >= 0.1 else False"
   ],
   "outputs": [],
   "metadata": {}
  },
  {
   "cell_type": "code",
   "execution_count": 120,
   "source": [
    "sep_titles = [title for title in tqdm(train_titles) if check_title(title, target_comp)]\n",
    "print('Size of data which has to be checked : %d' %len(sep_titles))"
   ],
   "outputs": [
    {
     "output_type": "display_data",
     "data": {
      "text/plain": [
       "  0%|          | 0/73640 [00:00<?, ?it/s]"
      ],
      "application/vnd.jupyter.widget-view+json": {
       "version_major": 2,
       "version_minor": 0,
       "model_id": "7346e9e23eaa40019dd433c6be4280e9"
      }
     },
     "metadata": {}
    },
    {
     "output_type": "stream",
     "name": "stdout",
     "text": [
      "Size of data which has to be checked : 3722\n"
     ]
    }
   ],
   "metadata": {}
  },
  {
   "cell_type": "code",
   "execution_count": 167,
   "source": [
    "check_title('대눌 노상익의 망명 의의 연구 ―독립유공자 지정과 관련하여― (大訥', target_comp)"
   ],
   "outputs": [
    {
     "output_type": "execute_result",
     "data": {
      "text/plain": [
       "False"
      ]
     },
     "metadata": {},
     "execution_count": 167
    }
   ],
   "metadata": {}
  },
  {
   "cell_type": "markdown",
   "source": [
    "## Selenium"
   ],
   "metadata": {}
  },
  {
   "cell_type": "code",
   "execution_count": 19,
   "source": [
    "import requests\n",
    "from bs4 import BeautifulSoup\n",
    "from selenium import webdriver"
   ],
   "outputs": [],
   "metadata": {}
  },
  {
   "cell_type": "code",
   "execution_count": 20,
   "source": [
    "chrome_path = '/Users/sanghapark/Desktop/Project/chromedriver'\n",
    "driver = webdriver.Chrome(chrome_path)"
   ],
   "outputs": [
    {
     "output_type": "stream",
     "name": "stderr",
     "text": [
      "<ipython-input-20-8d257ee82e31>:2: DeprecationWarning: executable_path has been deprecated, please pass in a Service object\n",
      "  driver = webdriver.Chrome(chrome_path)\n"
     ]
    }
   ],
   "metadata": {}
  },
  {
   "cell_type": "code",
   "execution_count": 21,
   "source": [
    "title = '戰國楚地文獻 의문대체사 ‘害’,‘曷’의 의미고찰 -『清華簡 · 一』의 두 자형을 중심으로-'"
   ],
   "outputs": [],
   "metadata": {}
  },
  {
   "cell_type": "code",
   "execution_count": 30,
   "source": [
    "driver.implicitly_wait(1.5)\n",
    "driver.get('https://academic.naver.com/')"
   ],
   "outputs": [],
   "metadata": {}
  },
  {
   "cell_type": "code",
   "execution_count": 31,
   "source": [
    "time.sleep(0.5) ## 0.5초\n",
    "\n",
    "element = driver.find_element_by_name('query')\n",
    "element.clear()\n",
    "\n",
    "element.send_keys(title)\n",
    "element.submit()"
   ],
   "outputs": [
    {
     "output_type": "stream",
     "name": "stderr",
     "text": [
      "<ipython-input-31-d6b45ebb4143>:3: DeprecationWarning: find_element_by_* commands are deprecated. Please use find_element() instead\n",
      "  element = driver.find_element_by_name('query')\n"
     ]
    }
   ],
   "metadata": {}
  },
  {
   "cell_type": "code",
   "execution_count": 32,
   "source": [
    "cur_url = driver.current_url\n",
    "\n",
    "response = requests.get(cur_url)\n",
    "bs = BeautifulSoup(response.content, 'html.parser')"
   ],
   "outputs": [],
   "metadata": {}
  },
  {
   "cell_type": "code",
   "execution_count": 33,
   "source": [
    "div_info = bs.findAll('div', {'class' , 'ui_listing_info'})\n",
    "div_info[0].find('a').text"
   ],
   "outputs": [
    {
     "output_type": "execute_result",
     "data": {
      "text/plain": [
       "'전국초지문헌 의문대체사 ‘해’,‘갈’의 의미고찰 -『청화간 · 일』의 두 자형을 중심으로- (戰國楚地文獻 의문대체사 ‘害’,‘曷’의 의미고찰 -『清華簡 ·...'"
      ]
     },
     "metadata": {},
     "execution_count": 33
    }
   ],
   "metadata": {}
  },
  {
   "cell_type": "markdown",
   "source": [
    "## Beautiful Soup"
   ],
   "metadata": {}
  },
  {
   "cell_type": "code",
   "execution_count": 34,
   "source": [
    "import requests\n",
    "from bs4 import BeautifulSoup"
   ],
   "outputs": [],
   "metadata": {}
  },
  {
   "cell_type": "code",
   "execution_count": 130,
   "source": [
    "title4change = [title for title in sep_titles \\\n",
    "    if '(' in title and ')' not in title]\n",
    "\n",
    "print('Size : %d' %len(title4change))"
   ],
   "outputs": [
    {
     "output_type": "stream",
     "name": "stdout",
     "text": [
      "Size : 174\n"
     ]
    }
   ],
   "metadata": {}
  },
  {
   "cell_type": "code",
   "execution_count": 69,
   "source": [
    "base_url = 'https://academic.naver.com/search.naver?field=0&docType=1&query='"
   ],
   "outputs": [],
   "metadata": {}
  },
  {
   "cell_type": "code",
   "execution_count": 135,
   "source": [
    "sep_titles[200]"
   ],
   "outputs": [
    {
     "output_type": "execute_result",
     "data": {
      "text/plain": [
       "'BMI(Body Mass Index)가 소득에 미치는 영향'"
      ]
     },
     "metadata": {},
     "execution_count": 135
    }
   ],
   "metadata": {}
  },
  {
   "cell_type": "code",
   "execution_count": 207,
   "source": [
    "target = target_titles[17]#'황제내경 오행론에 나타난 시 관념과 의학적 정체성 ( 황제내경 오행론에'\n",
    "print(target)\n",
    "\n",
    "target_url = base_url + target\n",
    "response = requests.get(target_url)\n",
    "bs = BeautifulSoup(response.content, 'html.parser')\n",
    "div_list = bs.find_all('div', {'class' : 'ui_listing_info'})\n",
    "print(div_list[0].find('a', {'class' : 'ui_listing_subtit'}).text)"
   ],
   "outputs": [
    {
     "output_type": "stream",
     "name": "stdout",
     "text": [
      "유진오의 일본어 문학에 나타난 조선적 가치의 재고 ―일본어 소설 「남곡선생」을 중심으로― (유진오의 일본어 문학에 나타난 조선적 가치의 재고 ―일본어 소설...\n",
      "유진오의 일본어 문학에 나타난 조선적 가치의 재고 ―일본어 소설 「남곡선생」을 중심으로― (유진오의 일본어 문학에 나타난 조선적 가치의 재고 ―일본어 소설 「南谷先生」을...\n"
     ]
    }
   ],
   "metadata": {}
  },
  {
   "cell_type": "markdown",
   "source": [
    "## Naver API"
   ],
   "metadata": {}
  },
  {
   "cell_type": "code",
   "execution_count": 14,
   "source": [
    "import re\n",
    "import json\n",
    "import urllib.request"
   ],
   "outputs": [],
   "metadata": {}
  },
  {
   "cell_type": "code",
   "execution_count": 28,
   "source": [
    "def extract_title(content) :\n",
    "    content = json.loads(content)\n",
    "    title = content['items'][0]['title']\n",
    "\n",
    "    title = re.sub('<b>', ' ', title)\n",
    "    title = re.sub('</b>', ' ', title)\n",
    "    title = re.sub('\\s+' , ' ', title).strip()\n",
    "    return content"
   ],
   "outputs": [],
   "metadata": {}
  },
  {
   "cell_type": "code",
   "execution_count": 16,
   "source": [
    "client_id = \"FcfC2Ls3KNm5z_Zd9OG_\"\n",
    "client_secret = \"uV2UxplHq9\""
   ],
   "outputs": [],
   "metadata": {}
  },
  {
   "cell_type": "code",
   "execution_count": 24,
   "source": [
    "title = '조선 초기 원경왕후 상장례 의식과 그 특징 ( 조선 초기 원경왕후 喪葬禮'"
   ],
   "outputs": [],
   "metadata": {}
  },
  {
   "cell_type": "code",
   "execution_count": 25,
   "source": [
    "encText = urllib.parse.quote(title)\n",
    "url = \"https://openapi.naver.com/v1/search/doc?query=\" + encText # json 결과\n",
    "request = urllib.request.Request(url)\n",
    "request.add_header(\"X-Naver-Client-Id\",client_id)\n",
    "request.add_header(\"X-Naver-Client-Secret\",client_secret)\n",
    "response = urllib.request.urlopen(request)\n",
    "rescode = response.getcode()\n",
    "\n",
    "if (rescode == 200) :\n",
    "    response_body = response.read()\n",
    "    response_content = response_body.decode('utf-8')\n",
    "\n",
    "    org_name = extract_title(response_content)"
   ],
   "outputs": [],
   "metadata": {}
  },
  {
   "cell_type": "code",
   "execution_count": 29,
   "source": [
    "org_name = extract_title(response_content)"
   ],
   "outputs": [],
   "metadata": {}
  },
  {
   "cell_type": "code",
   "execution_count": 30,
   "source": [
    "org_name"
   ],
   "outputs": [
    {
     "output_type": "execute_result",
     "data": {
      "text/plain": [
       "{'lastBuildDate': 'Sun, 05 Dec 2021 22:20:58 +0900',\n",
       " 'total': 2,\n",
       " 'start': 1,\n",
       " 'display': 2,\n",
       " 'items': [{'title': '<b>조선 초기 원경왕후 상장례 의식과 그 특징 (조선 초기 원경왕후 喪葬禮</b> ',\n",
       "   'link': 'http://academic.naver.com/article.naver?doc_id=290170169',\n",
       "   'description': 'The Funeral Rites for Queen Wongyeong during Early Joseon and the Characteristics Thereof 본 연구는 <b>조선 초기</b> 凶禮의 정비 '},\n",
       "  {'title': '<b>조선 초기 원경왕후 상장례 의식과 그 특징 (조선 초기 원경왕후 喪葬禮</b> ',\n",
       "   'link': 'http://academic.naver.com/article.naver?doc_id=871226545',\n",
       "   'description': ' 본 연구는 <b>조선 초기</b> 凶禮의 정비 과정이라는 연속선상에서 <b>원경왕후</b> 국상을 하나의 기점으로 파악'}]}"
      ]
     },
     "metadata": {},
     "execution_count": 30
    }
   ],
   "metadata": {}
  }
 ],
 "metadata": {
  "orig_nbformat": 4,
  "language_info": {
   "name": "python",
   "version": "3.8.5",
   "mimetype": "text/x-python",
   "codemirror_mode": {
    "name": "ipython",
    "version": 3
   },
   "pygments_lexer": "ipython3",
   "nbconvert_exporter": "python",
   "file_extension": ".py"
  },
  "kernelspec": {
   "name": "python3",
   "display_name": "Python 3.8.5 64-bit ('final': conda)"
  },
  "interpreter": {
   "hash": "4d949d837314f0bd127b310a251a9c5e144fbaeaec32e29e415d9adebd0cb2d9"
  }
 },
 "nbformat": 4,
 "nbformat_minor": 2
}