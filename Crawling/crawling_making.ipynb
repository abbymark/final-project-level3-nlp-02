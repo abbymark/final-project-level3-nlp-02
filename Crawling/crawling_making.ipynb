{
 "cells": [
  {
   "cell_type": "code",
   "execution_count": 1,
   "source": [
    "import os\n",
    "import re\n",
    "import sys\n",
    "import json\n",
    "import time\n",
    "from tqdm.notebook import tqdm\n",
    "from datasets import load_dataset"
   ],
   "outputs": [
    {
     "output_type": "stream",
     "name": "stderr",
     "text": [
      "/Users/sanghapark/opt/anaconda3/envs/myenv/lib/python3.8/site-packages/requests/__init__.py:89: RequestsDependencyWarning: urllib3 (1.26.7) or chardet (3.0.4) doesn't match a supported version!\n",
      "  warnings.warn(\"urllib3 ({}) or chardet ({}) doesn't match a supported \"\n"
     ]
    }
   ],
   "metadata": {}
  },
  {
   "cell_type": "code",
   "execution_count": 2,
   "source": [
    "import torch\n",
    "import random\n",
    "import pandas as pd\n",
    "import numpy as np\n",
    "import collections\n",
    "import matplotlib.pyplot as plt"
   ],
   "outputs": [],
   "metadata": {}
  },
  {
   "cell_type": "markdown",
   "source": [
    "## Load Data"
   ],
   "metadata": {}
  },
  {
   "cell_type": "code",
   "execution_count": 3,
   "source": [
    "paper_data = load_dataset('metamong1/summarization_paper', \n",
    "    use_auth_token='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')"
   ],
   "outputs": [
    {
     "output_type": "stream",
     "name": "stderr",
     "text": [
      "Reusing dataset paper_summarization (/Users/sanghapark/.cache/huggingface/datasets/metamong1___paper_summarization/Paper Summarization/2.1.0/4b4212164df52f676c62f61a7e782e1b53dbbf8c63447e0b69f1d4799ca18147)\n",
      "100%|██████████| 2/2 [00:00<00:00, 93.23it/s]\n"
     ]
    }
   ],
   "metadata": {}
  },
  {
   "cell_type": "code",
   "execution_count": 4,
   "source": [
    "paper_data"
   ],
   "outputs": [
    {
     "output_type": "execute_result",
     "data": {
      "text/plain": [
       "DatasetDict({\n",
       "    train: Dataset({\n",
       "        features: ['doc_id', 'title', 'text', 'doc_type', 'file'],\n",
       "        num_rows: 73640\n",
       "    })\n",
       "    validation: Dataset({\n",
       "        features: ['doc_id', 'title', 'text', 'doc_type', 'file'],\n",
       "        num_rows: 18411\n",
       "    })\n",
       "})"
      ]
     },
     "metadata": {},
     "execution_count": 4
    }
   ],
   "metadata": {}
  },
  {
   "cell_type": "code",
   "execution_count": 5,
   "source": [
    "train_data = paper_data['train']"
   ],
   "outputs": [],
   "metadata": {}
  },
  {
   "cell_type": "markdown",
   "source": [
    "## Extract Data"
   ],
   "metadata": {}
  },
  {
   "cell_type": "code",
   "execution_count": 6,
   "source": [
    "train_docs = [data['text'] for data in train_data]\n",
    "train_titles = [data['title'] for data in train_data]"
   ],
   "outputs": [],
   "metadata": {}
  },
  {
   "cell_type": "code",
   "execution_count": 7,
   "source": [
    "target_comp = re.compile('[a-zA-Zぁ-ゔァ-ヴー々〆〤一-龥]')"
   ],
   "outputs": [],
   "metadata": {}
  },
  {
   "cell_type": "code",
   "execution_count": 32,
   "source": [
    "def check_title(title, comp) :\n",
    "    org_chars = re.sub('\\s+', '' , title) \n",
    "    target_chars = comp.findall(org_chars)\n",
    "\n",
    "    char_rate = len(target_chars) / len(org_chars)\n",
    "\n",
    "    return True if char_rate >= 0.3 else False"
   ],
   "outputs": [],
   "metadata": {}
  },
  {
   "cell_type": "code",
   "execution_count": 33,
   "source": [
    "sep_titles = [title for title in tqdm(train_titles) if check_title(title, target_comp)]\n",
    "print('Size of data which has to be checked : %d' %len(sep_titles))"
   ],
   "outputs": [
    {
     "output_type": "display_data",
     "data": {
      "text/plain": [
       "  0%|          | 0/73640 [00:00<?, ?it/s]"
      ],
      "application/vnd.jupyter.widget-view+json": {
       "version_major": 2,
       "version_minor": 0,
       "model_id": "ae8b7c1d46554aea8901962c44ec9794"
      }
     },
     "metadata": {}
    },
    {
     "output_type": "stream",
     "name": "stdout",
     "text": [
      "Size of data which has to be checked : 11127\n"
     ]
    }
   ],
   "metadata": {}
  },
  {
   "cell_type": "code",
   "execution_count": 34,
   "source": [
    "sep_titles[:10]"
   ],
   "outputs": [
    {
     "output_type": "execute_result",
     "data": {
      "text/plain": [
       "['불법 커뮤니티를 통한 비트코인 거래 추적 방법에 관한 연구 A Study of Bitcoin Transaction Tracking Method through Illegal Community',\n",
       " \"장소로서의 동경(東京) - 1930년대 식민지 조선작가의 동경표상 Tokyo as Place - Tokyo representation of the colonial korean writers in 1930's\",\n",
       " 'PFM/PWM 듀얼 모드 피드백 기반 LED BLU 구동용 LLC 공진 변환 제어 IC 설계',\n",
       " 'SOLAS 협약 개정안의 조기이행에 대한 연구 A Study on the Early Implementation of SOLAS Amendments',\n",
       " '沈宜麟의 『朝鮮童話大集』에 나타난 寓意의 유형과 그 의미 Allegory in the Great Collection of Fables from Joseon by Sim Eui-rin: Its Types and Meaning',\n",
       " '국제유가 변동이 주유소 휘발유 가격에 미치는 Rockets & Feathers 현상',\n",
       " '도연명시, 치유와 체험의 미학 Aesthetics of healing and experience in Tao yuanming literature',\n",
       " '탄소섬유강화 복합재료 성형시 화학수축에 의한 변형연구 Thermal Deformation of Carbon Fiber Reinforced Composite by Cure Shrinkage',\n",
       " '대한제국기 간도영토론의 등장과 종식 The Emergence and Cease of the Gando Territorial Claim in the Daehan Empire Period',\n",
       " 'Random Effects Tobit 회귀모형을 이용한 교차로 교통사고 요인 분석 An Analysis on Vehicle Accident Factors of Intersections using Random Effects Tobit Regression Model']"
      ]
     },
     "metadata": {},
     "execution_count": 34
    }
   ],
   "metadata": {}
  },
  {
   "cell_type": "markdown",
   "source": [
    "## Selenium"
   ],
   "metadata": {}
  },
  {
   "cell_type": "code",
   "execution_count": 19,
   "source": [
    "import requests\n",
    "from bs4 import BeautifulSoup\n",
    "from selenium import webdriver"
   ],
   "outputs": [],
   "metadata": {}
  },
  {
   "cell_type": "code",
   "execution_count": 20,
   "source": [
    "chrome_path = '/Users/sanghapark/Desktop/Project/chromedriver'\n",
    "driver = webdriver.Chrome(chrome_path)"
   ],
   "outputs": [
    {
     "output_type": "stream",
     "name": "stderr",
     "text": [
      "<ipython-input-20-8d257ee82e31>:2: DeprecationWarning: executable_path has been deprecated, please pass in a Service object\n",
      "  driver = webdriver.Chrome(chrome_path)\n"
     ]
    }
   ],
   "metadata": {}
  },
  {
   "cell_type": "code",
   "execution_count": 21,
   "source": [
    "title = '戰國楚地文獻 의문대체사 ‘害’,‘曷’의 의미고찰 -『清華簡 · 一』의 두 자형을 중심으로-'"
   ],
   "outputs": [],
   "metadata": {}
  },
  {
   "cell_type": "code",
   "execution_count": 30,
   "source": [
    "driver.implicitly_wait(1.5)\n",
    "driver.get('https://academic.naver.com/')"
   ],
   "outputs": [],
   "metadata": {}
  },
  {
   "cell_type": "code",
   "execution_count": 31,
   "source": [
    "time.sleep(0.5) ## 0.5초\n",
    "\n",
    "element = driver.find_element_by_name('query')\n",
    "element.clear()\n",
    "\n",
    "element.send_keys(title)\n",
    "element.submit()"
   ],
   "outputs": [
    {
     "output_type": "stream",
     "name": "stderr",
     "text": [
      "<ipython-input-31-d6b45ebb4143>:3: DeprecationWarning: find_element_by_* commands are deprecated. Please use find_element() instead\n",
      "  element = driver.find_element_by_name('query')\n"
     ]
    }
   ],
   "metadata": {}
  },
  {
   "cell_type": "code",
   "execution_count": 32,
   "source": [
    "cur_url = driver.current_url\n",
    "\n",
    "response = requests.get(cur_url)\n",
    "bs = BeautifulSoup(response.content, 'html.parser')"
   ],
   "outputs": [],
   "metadata": {}
  },
  {
   "cell_type": "code",
   "execution_count": 33,
   "source": [
    "div_info = bs.findAll('div', {'class' , 'ui_listing_info'})\n",
    "div_info[0].find('a').text"
   ],
   "outputs": [
    {
     "output_type": "execute_result",
     "data": {
      "text/plain": [
       "'전국초지문헌 의문대체사 ‘해’,‘갈’의 의미고찰 -『청화간 · 일』의 두 자형을 중심으로- (戰國楚地文獻 의문대체사 ‘害’,‘曷’의 의미고찰 -『清華簡 ·...'"
      ]
     },
     "metadata": {},
     "execution_count": 33
    }
   ],
   "metadata": {}
  },
  {
   "cell_type": "markdown",
   "source": [
    "## Naver API"
   ],
   "metadata": {}
  },
  {
   "cell_type": "code",
   "execution_count": 27,
   "source": [
    "import re\n",
    "import json\n",
    "import urllib.request"
   ],
   "outputs": [],
   "metadata": {}
  },
  {
   "cell_type": "code",
   "execution_count": 39,
   "source": [
    "def extract_title(content) :\n",
    "    content = json.loads(content)\n",
    "    title = content['items'][0]['title']\n",
    "\n",
    "    title = re.sub('<b>', ' ', title)\n",
    "    title = re.sub('</b>', ' ', title)\n",
    "    title = re.sub('\\s+' , ' ', title).strip()\n",
    "    return title"
   ],
   "outputs": [],
   "metadata": {}
  },
  {
   "cell_type": "code",
   "execution_count": 29,
   "source": [
    "client_id = \"FcfC2Ls3KNm5z_Zd9OG_\"\n",
    "client_secret = \"uV2UxplHq9\""
   ],
   "outputs": [],
   "metadata": {}
  },
  {
   "cell_type": "code",
   "execution_count": 44,
   "source": [
    "title = '도연명시, 치유와 체험의 미학 Aesthetics of healing and experience in Tao yuanming literature'"
   ],
   "outputs": [],
   "metadata": {}
  },
  {
   "cell_type": "code",
   "execution_count": 45,
   "source": [
    "encText = urllib.parse.quote(title)\n",
    "url = \"https://openapi.naver.com/v1/search/doc?query=\" + encText # json 결과\n",
    "request = urllib.request.Request(url)\n",
    "request.add_header(\"X-Naver-Client-Id\",client_id)\n",
    "request.add_header(\"X-Naver-Client-Secret\",client_secret)\n",
    "response = urllib.request.urlopen(request)\n",
    "rescode = response.getcode()\n",
    "\n",
    "if (rescode == 200) :\n",
    "    response_body = response.read()\n",
    "    response_content = response_body.decode('utf-8')\n",
    "\n",
    "    org_name = extract_title(response_content)"
   ],
   "outputs": [],
   "metadata": {}
  },
  {
   "cell_type": "code",
   "execution_count": 46,
   "source": [
    "org_name = extract_title(response_content)"
   ],
   "outputs": [],
   "metadata": {}
  },
  {
   "cell_type": "code",
   "execution_count": 47,
   "source": [
    "org_name"
   ],
   "outputs": [
    {
     "output_type": "execute_result",
     "data": {
      "text/plain": [
       "'도연명시, 치유와 체험의 미학'"
      ]
     },
     "metadata": {},
     "execution_count": 47
    }
   ],
   "metadata": {}
  }
 ],
 "metadata": {
  "orig_nbformat": 4,
  "language_info": {
   "name": "python",
   "version": "3.8.5",
   "mimetype": "text/x-python",
   "codemirror_mode": {
    "name": "ipython",
    "version": 3
   },
   "pygments_lexer": "ipython3",
   "nbconvert_exporter": "python",
   "file_extension": ".py"
  },
  "kernelspec": {
   "name": "python3",
   "display_name": "Python 3.8.5 64-bit ('myenv': conda)"
  },
  "interpreter": {
   "hash": "0f3bfd2cb0299839ce7ba26399295e5b1cd71284d6a1bd96da86424b1368570e"
  }
 },
 "nbformat": 4,
 "nbformat_minor": 2
}