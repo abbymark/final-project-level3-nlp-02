{
 "cells": [
  {
   "cell_type": "code",
   "execution_count": 1,
   "metadata": {},
   "outputs": [],
   "source": [
    "import datasets\n",
    "import transformers\n",
    "from transformers import pipeline\n",
    "from transformers import AutoTokenizer\n",
    "from transformers import AutoModelForSeq2SeqLM\n",
    "import torch\n",
    "\n",
    "import os\n",
    "\n",
    "from performanceBenchmark import PerformanceBenchmark\n",
    "from dotenv import load_dotenv\n",
    "load_dotenv(verbose=True)\n",
    "api_token = os.getenv('HF_DATASET_API_TOKEN')\n",
    "device = torch.device('cuda:0' if torch.cuda.is_available() else 'cpu')"
   ]
  },
  {
   "cell_type": "code",
   "execution_count": 2,
   "metadata": {},
   "outputs": [
    {
     "name": "stderr",
     "output_type": "stream",
     "text": [
      "Reusing dataset paper_summarization (/opt/ml/.cache/huggingface/datasets/metamong1___paper_summarization/Paper Summarization/1.4.0/24bb09528ebb04fdc6aafb6e110202e52fbb818c0f204839bc833d8ce1e86a5f)\n"
     ]
    },
    {
     "data": {
      "application/vnd.jupyter.widget-view+json": {
       "model_id": "27a4293a0bd040619701d5d44a73c4dd",
       "version_major": 2,
       "version_minor": 0
      },
      "text/plain": [
       "  0%|          | 0/2 [00:00<?, ?it/s]"
      ]
     },
     "metadata": {},
     "output_type": "display_data"
    }
   ],
   "source": [
    "dataset = datasets.load_dataset('metamong1/summarization_paper', use_auth_token=api_token)"
   ]
  },
  {
   "cell_type": "code",
   "execution_count": 3,
   "metadata": {},
   "outputs": [
    {
     "data": {
      "application/vnd.jupyter.widget-view+json": {
       "model_id": "c550f084b51a4d14b9c73fc138ea22c4",
       "version_major": 2,
       "version_minor": 0
      },
      "text/plain": [
       "  0%|          | 0/19 [00:00<?, ?ba/s]"
      ]
     },
     "metadata": {},
     "output_type": "display_data"
    }
   ],
   "source": [
    "TEST_DATASET_SIZE = 10\n",
    "\n",
    "test_dataset = dataset['validation'].shuffle().filter(lambda x: len(x['text'])< 500).select(range(TEST_DATASET_SIZE))\n",
    "# test_dataset = dataset['train'].shuffle().filter(lambda x: len(x['text']) < 500).select(range(TEST_DATASET_SIZE))"
   ]
  },
  {
   "cell_type": "code",
   "execution_count": 4,
   "metadata": {},
   "outputs": [
    {
     "data": {
      "text/plain": [
       "10"
      ]
     },
     "execution_count": 4,
     "metadata": {},
     "output_type": "execute_result"
    }
   ],
   "source": [
    "len(test_dataset)"
   ]
  },
  {
   "cell_type": "code",
   "execution_count": 5,
   "metadata": {},
   "outputs": [
    {
     "data": {
      "text/plain": [
       "['본 연구는 거버넌스에 대한 다의적 해석에 근거하여 지방거버넌스의 체제 능력을 구성하는 요소 및 성과 측정의 기준에 대한 기존 연구의 성과와 한계를 밝히는 데 연구의 일차적인 목적을 두고 있다. 아울러 우리나라 지방정치 및 지방자치의 현실 속에서 그와 같은 체제 능력에 대한 분석이 어떻게 이루어지는 것이 바람직 한 지를 살펴보면서 민주주의적 규범의 토대 위에 거버넌스 발전의 이상형(ideal type)을 구축해 보는 데도 연구의 주된 목적을 두고 있다. 우리나라 지방정치의 구조적 특성은 시민사회, 언론, 기업 등 민간 혹은 정치사회 영역의 거버넌스 행위자들의 위상 약화로 인해 강시장형의 계층제적 성격이 강한 지방거버넌스 구조가 고착되고 있으며, 그러한 경향은 지역주의가 발호하는 지역일수록 더 심하게 나타난다. 이와 같은 우리나라 지방정치의 특성은 정치사회의 주요행위자인 정당의 역할과 기능의 부재에 기인한 바 크다.',\n",
       " '본 연구는 리만의 음악미학 문헌에 나타난 서술 경향을 당대의 주요 관련 저서들과 연계하여 비평적 관점에서 살펴보았다. ‘음악미학’이라는 제목을 사용한 대표적 초기 문헌인 리만의 저술은 19세기의 관련 논의들을 종합하고 정리하면서 음악에 대한 형이상학적 이해와 자연과학적 이해를 통합하려는 시도를 보여준다. 이를 통해 리만은 당대의 음악미학적 논의들을 음악이론적 근거 도출이라는 흐름에 합류시키고 있다. 비슷한 시기에 출판된 엥겔 및 발라쉑의 음악미학 문헌 역시 기본적으로 그러한 내용을 담고 있으나, 리만의 문헌에서 그것들이 보다 긴밀한 상호 관련성을 지닌 형태로 재구성되어 나타난다. 리만의 이러한 시도는 동시대의 쟁점들을 포괄하고 있는데, 헤겔 미학과 한슬릭의 형식주의를 아우르고 있다. 그럼에도 불구하고 리만의 견해는 여전히 상충되는 미학적 사항들을 해결해야 하는 과제를 안고 있는 것으로 여겨진다.',\n",
       " '선체에 존재하는 균열의 전파거동을 해석하기 위해서는 응력강도계수의 추정이 그 전제조건이 되지만 현재까지 이러한 복잡 구조물에서 응력강도계수를 간편하게 계산하는 방법이 확립되어 있복잡 구조물에서의 균열전파 거동을 추정하기 위한 전 단계로서 다양한 형태의 균열에 대한 응력강도계수를 용이하게 계산하기 위하여 무균열 상태에서의 응력해석 결과에 기초한 응력강도계수의 간이 추정법을 유도하고, 다른 연구자들의 실험 및 해석 결과와 비교하여 제안된 방법의 유용성을 검증하였다.',\n",
       " '단어 당 100명의 대학생을 대상으로 665개 한국어 명사 단어의 연상빈도와 심상가를 조사하여 규준을 작성하였다. 연상빈도는 다중 반응 자유연상과 연속적 연상 방법을 사용하여 조사하였고 심상가는 7점 척도상에 평정하도록 하는 방법을 사용하였다. 조사 결과를 바탕으로 심상가와 연상빈도표를 작성하였다.',\n",
       " '이 연구는 방과 후 태권도 교육에 참여한 초등학생들의 체력, 품성, 그리고 기본심리욕구가 시기별로 어떤 차이를 보이는지 밝혀내는데 그 목적이 있었다. 이를 위해 수도권 G 지역의 초등학교 2곳 5, 6학년 학생들 136명을 대상으로 연구가 진행되었다. 체력측정은 교육부가 개발하고 현재 학교에서 실시되고 있는 PAPS 기준에 맞춰 측정하였으며, 품성 측정을 위해서는 엄혁주(2012)가 개발한 스포츠 품성 척도를, 기본심리욕구 측정은 박중길(2009)이 표준화한 질문지를 사용하였다. 이들 설문지는 신뢰도와 타당도를 검증한 후 사용하였다. 설문조사를 통해 수집된 자료는 빈도분석, 탐색적 요인분석, 신뢰도 분석, 반복측정 분산분석을 실시하였다. 그 결과, 체력, 품성 그리고 기본심리욕구는 시기별로 유의미한 차이를 보이는 것으로 나타났다. 이를 초등학생의 지속적이고 규칙적인 태권도 교육 참여에 따른 심리, 품성, 동기와 관련하여 논의하였다.',\n",
       " '본 연구의 목적은 비버 챌린지 2017의 국내 적용 결과를 분석함으로써 실제적인 현 초등학생들의 컴퓨터과학 관련 이해 수준을 파악하는 것이다. 이를 위해 비버 챌린지 2017의 ‘도전하기’ 결과 데이터를 바탕으로 초등학생 그룹 II(초등 3~4학년)와 그룹 III(초등 5~6학년)의 평가 요소별, 성별, 학년별 성취도를 기술 통계 및 평균비교를 통해 분석하였다. 분석 결과, 평가 요소별 성취도는 각 그룹 내에서 유의한 차이를 보였다. 또한, 성별에 따른 성취도는 그룹 II에서 여학생이 남학생의 성취도보다 통계적으로 유의하게 높았으며, 그룹 III에서는 통계적으로 유의한 차이는 없었지만 여학생의 성취도가 남학생에 비해 낮게 나타났다. 학년별 성취도는 그룹 III에서만 학년 간 차이가 통계적으로 유의미하게 나타났다. 이러한 연구 결과는 추후 초등학교 정보 교육과정 개발 및 관련 연구 수행의 기초자료로 기여할 것으로 기대한다.',\n",
       " '만주국의 건국 이데올로기인 왕도주의와 민족협화는 역사적·정치적 상황에 따라 재만일본인에 의해 창출되었고 만주사변을 계기로 건국공작 과정에서 타민족의 협력과 복종을 획득하는 정치적 역할을 수행하면서 건국 이데올로기로 부상하였다. 그러나 만주국의 정치제도가 정비되고 일본이 국제연맹에서 탈퇴하는 등 정치적 조건이 변화함에 따라, 그와 같은 정치적 역할은 점차 중요성을 잃었다. 그러나 만주국의 건국 이데올로기 그 자체를 부정하는 것은 만주국을 수식하는 ‘다민족으로 구성된 동양적 이상국가’라는 대외 이미지를 손상시킬 위험이 있었다. 따라서 왕도주의와 민족협화는 사실상 황도에 기반을 둔 것으로 재해석되었다. 그리고 만주 건국 이데올로기를 둘러싼 혼란은, 현실에서는 이데올로기의 모순, 분열로 나타났던 것이다.',\n",
       " '본 연구에서는 아동상담자의 수퍼비젼 경험과 자기분석 경험에 따라 대리외상에 어떠한 차이를 보이는지 살펴보고자 하였다. 연구결과, 첫째, 아동상담자들은 수퍼비젼 경험의 유무, 수퍼비젼 기간, 수퍼비젼 횟수에 따라 대리 외상 경험의 신뢰감 수준이 더 부정적인 것으로 나타났다. 둘째, 자기분석을 받지 않은 상담자들은 대리외상 경험 중 친밀감영역이 높게 나타나 가족, 친구, 동료 등과 분리감을 느끼고 과거와는 달리 축소된 대인관계를 맺게 되는 것으로 나타났다. 그리고 자기분석기간이 2년인 경우에 대리외상 경험에서 부정적 자존감을 높게 지각하였다. 또한 자기분석횟수가 적을수록 대리외상에서 부정적 신뢰감을 가장 높게 지각하였다. 마지막으로, 자기분석에서 분석가의 치료적 접근방식에 따라 대리외상에 차이가 나타났다.',\n",
       " '최근 대부분의 범죄에 디지털 매체가 사용되면서 디지털 데이터는 필수 조사 대상이 되었다. 하지만 디지털 데이터는 비교적 쉽게 삭제 및변조가 가능하다. 따라서 디지털 증거 획득을 위해 삭제된 데이터의 복구가 필요하며, 파일 카빙은 컴퓨터 포렌식 조사에서 증거를 획득할 수있는 중요한 요소이다. 하지만 현재 사용되는 파일 카빙 도구들은 포렌식 조사를 위한 데이터의 선별을 고려하지 않고 있다. 또 기존의 파일카빙 기법들은 파일의 일부 영역이 덮어써지거나 조각날 경우 복구가 불가능한 단점이 있다. 따라서 본 논문에서는 포렌식 조사시 유용한 정보를 획득할 수 있는 파일을 제안하고, 기존의 파일 카빙 기법보다 효과적으로 데이터를 복구할 수 있는 레코드 파일 카빙 기법을 제시한다.',\n",
       " '이 연구는 중장년층의 취업 및 창업을 지원하기 위하여 한국폴리텍대학에 특화된 베이비부머 대상에 적합한 직종 개발을 목적으로 한다. 이러한 연구 목적을 달성하기 위해 첫째, 직종 후보군을 도출하기 위한 분류기준과 모형을 수립하였고, 둘째, 중장년 고용현황, 구직수요 분석을 통해 베이비부머 대상의 유망한 40개 직종 후보군을 발굴하고, 각 후보군의 우선순위를 검토하였다. 셋째, 전문가 심층면담과 설문조사를 통해 총 4개의 적합 직종을 최종 선정하였다. 마지막으로 연구결과를 바탕으로 공공교육훈련기관으로서 베이비부머 대상 교육운영방안에 대한 시사점을 제안하였다.']"
      ]
     },
     "execution_count": 5,
     "metadata": {},
     "output_type": "execute_result"
    }
   ],
   "source": [
    "test_dataset['text']"
   ]
  },
  {
   "cell_type": "code",
   "execution_count": 6,
   "metadata": {},
   "outputs": [],
   "source": [
    "check_point = 'pruned_last_layer-finetuned-paper-sample-size-1000-pruned/checkpoint-1000'"
   ]
  },
  {
   "cell_type": "code",
   "execution_count": 7,
   "metadata": {},
   "outputs": [],
   "source": [
    "tokenizer = AutoTokenizer.from_pretrained(check_point)"
   ]
  },
  {
   "cell_type": "code",
   "execution_count": 8,
   "metadata": {},
   "outputs": [
    {
     "name": "stderr",
     "output_type": "stream",
     "text": [
      "/opt/conda/envs/final/lib/python3.8/site-packages/transformers/configuration_utils.py:336: UserWarning: Passing `gradient_checkpointing` to a config initialization is deprecated and will be removed in v5 Transformers. Using `model.gradient_checkpointing_enable()` instead, or if you are using the `Trainer` API, pass `gradient_checkpointing=True` in your `TrainingArguments`.\n",
      "  warnings.warn(\n"
     ]
    }
   ],
   "source": [
    "model = AutoModelForSeq2SeqLM.from_pretrained(check_point).to(device)"
   ]
  },
  {
   "cell_type": "code",
   "execution_count": 9,
   "metadata": {},
   "outputs": [],
   "source": [
    "summerizer = pipeline(\n",
    "    'summarization', \n",
    "    model=model,\n",
    "    tokenizer=tokenizer,\n",
    "    device=0 if torch.cuda.is_available() else -1\n",
    "    )"
   ]
  },
  {
   "cell_type": "code",
   "execution_count": 10,
   "metadata": {},
   "outputs": [
    {
     "data": {
      "text/plain": [
       "[{'summary_text': '거버넌스 체제 능력 평가의 한 양상 - 부산경남지역을 중심으로- A'},\n",
       " {'summary_text': '리만의의 음악미학 : 19세기 음악 저서를 중심으로 ( 엥겔 및'},\n",
       " {'summary_text': '복잡전파거동 해석을 위한 응력강도계수 계산에 관한'},\n",
       " {'summary_text': '한국어 명사 단어의 연상 빈도와 정의에 관한 연구-단어 당 100'},\n",
       " {'summary_text': '방과 후 태권도 교육 참여 초등학생들의 체력, 품성, 기본심리욕구 차이 연구'},\n",
       " {'summary_text': '비버 챌린지 2017의 초등 컴퓨터과학 적용 결과 분석 및 초등학교 정보 교육과정'},\n",
       " {'summary_text': '만주국의 건국 이데올로기로서 황도주의와 민족협화 - 재만 일본인을'},\n",
       " {'summary_text': '아동상담자의 수퍼비젼 경험과 자기분석 경험에 따른 대리외상 경험의'},\n",
       " {'summary_text': '디지털 증거에 대한 효과적인 파일 카빙 기법 연구 - 레코드 파일 카빙 기'},\n",
       " {'summary_text': '중장년층의 취업 및 창업을 지원하기 위한 한국폴리텍대학 베이비부'}]"
      ]
     },
     "execution_count": 10,
     "metadata": {},
     "output_type": "execute_result"
    }
   ],
   "source": [
    "summerizer(test_dataset['text'])"
   ]
  },
  {
   "cell_type": "code",
   "execution_count": 11,
   "metadata": {},
   "outputs": [],
   "source": [
    "performance_benchmark = PerformanceBenchmark(summerizer, test_dataset, tokenizer, 'baseline')"
   ]
  },
  {
   "cell_type": "code",
   "execution_count": 12,
   "metadata": {},
   "outputs": [
    {
     "name": "stdout",
     "output_type": "stream",
     "text": [
      "====ROUGE score====\n",
      "{'rouge1': 43.6774, 'rouge2': 28.8295, 'rougeL': 39.9166, 'rougeLsum': 39.4778}\n"
     ]
    },
    {
     "data": {
      "text/plain": [
       "{'rouge1': 43.6774, 'rouge2': 28.8295, 'rougeL': 39.9166, 'rougeLsum': 39.4778}"
      ]
     },
     "execution_count": 12,
     "metadata": {},
     "output_type": "execute_result"
    }
   ],
   "source": [
    "performance_benchmark.compute_rouge()"
   ]
  },
  {
   "cell_type": "code",
   "execution_count": 13,
   "metadata": {},
   "outputs": [
    {
     "name": "stdout",
     "output_type": "stream",
     "text": [
      "Model size (MB) = 472.6946954727173\n"
     ]
    },
    {
     "data": {
      "text/plain": [
       "{'size_mb': 472.6946954727173}"
      ]
     },
     "execution_count": 13,
     "metadata": {},
     "output_type": "execute_result"
    }
   ],
   "source": [
    "performance_benchmark.compute_size()"
   ]
  },
  {
   "cell_type": "code",
   "execution_count": 14,
   "metadata": {},
   "outputs": [
    {
     "name": "stderr",
     "output_type": "stream",
     "text": [
      "/opt/conda/envs/final/lib/python3.8/site-packages/transformers/pipelines/base.py:899: UserWarning: You seem to be using the pipelines sequentially on GPU. In order to maximize efficiency please use a dataset\n",
      "  warnings.warn(\n"
     ]
    },
    {
     "name": "stdout",
     "output_type": "stream",
     "text": [
      "Average time took(ms) 1.2e+02 +\\- 1.56\n"
     ]
    },
    {
     "data": {
      "text/plain": [
       "{'time_avg_ms': 117.41239743307233, 'time_std_ms': 1.5579766904366878}"
      ]
     },
     "execution_count": 14,
     "metadata": {},
     "output_type": "execute_result"
    }
   ],
   "source": [
    "performance_benchmark.compute_time()"
   ]
  }
 ],
 "metadata": {
  "interpreter": {
   "hash": "981f108a204f421f158e0977940335d851edffa6dd3586828a3e1aec045160e4"
  },
  "kernelspec": {
   "display_name": "Python 3.8.5 64-bit ('final': conda)",
   "language": "python",
   "name": "python3"
  },
  "language_info": {
   "codemirror_mode": {
    "name": "ipython",
    "version": 3
   },
   "file_extension": ".py",
   "mimetype": "text/x-python",
   "name": "python",
   "nbconvert_exporter": "python",
   "pygments_lexer": "ipython3",
   "version": "3.8.5"
  },
  "orig_nbformat": 4
 },
 "nbformat": 4,
 "nbformat_minor": 2
}
